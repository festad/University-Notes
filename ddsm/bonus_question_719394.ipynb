{
 "cells": [
  {
   "cell_type": "markdown",
   "id": "5521d02b",
   "metadata": {},
   "source": [
    "# Bonus question\n",
    "\n",
    "## Data generation\n",
    "\n",
    "The problem deals with the identification of an AR(1) process\n",
    "through an AR(2) process."
   ]
  },
  {
   "cell_type": "code",
   "execution_count": 1,
   "id": "a9406ca6",
   "metadata": {},
   "outputs": [],
   "source": [
    "import numpy as np\n",
    "import matplotlib.pyplot as plt\n",
    "import math\n",
    "\n",
    "N = 10000\n",
    "DELAYS = 2\n",
    "DIM = N + DELAYS\n",
    "T = np.arange(DIM)\n",
    "\n",
    "noise = 0.01 * np.random.uniform(-0.5, 0.5, (DIM,1))"
   ]
  },
  {
   "cell_type": "markdown",
   "id": "b62f285a",
   "metadata": {},
   "source": [
    "$$\n",
    "y(t) = a^*y(t-1) + e(t)\n",
    "$$\n",
    "\n",
    "$$\n",
    "\\hat{y}(t) = a_1y(t-1) + a_2y(t-2)\n",
    "$$"
   ]
  },
  {
   "cell_type": "code",
   "execution_count": 2,
   "id": "381badff",
   "metadata": {},
   "outputs": [],
   "source": [
    "true_a = 0.7\n",
    "\n",
    "def true_model(true_a, y, noise):\n",
    "    return true_a*y + noise\n",
    "\n",
    "def exper_optim_model(exper_a_1, exper_a_2, y_1, y_2):\n",
    "    return exper_a_1*y_1 + exper_a_2*y_2"
   ]
  },
  {
   "cell_type": "markdown",
   "id": "cb9d20e1",
   "metadata": {},
   "source": [
    "$$\n",
    "Y = \n",
    "\\left[\n",
    "\\begin{array}{c} y(2) \\\\ y(3) \\\\ \\vdots \\\\ y(t_{N+1})\\end{array}\n",
    "\\right]\n",
    "$$\n",
    "\n",
    "$$\n",
    "\\Phi = \n",
    "\\left[\n",
    "\\begin{array}\n",
    "{cc} y(1) & y(0) \\\\ \\vdots & \\vdots \\\\ y(t_{N}) & y(t_{N-1})\n",
    "\\end{array}\n",
    "\\right]\n",
    "$$"
   ]
  },
  {
   "cell_type": "code",
   "execution_count": 3,
   "id": "e2c3c738",
   "metadata": {},
   "outputs": [],
   "source": [
    "Y = np.empty((DIM,1))\n",
    "\n",
    "y0 = 1\n",
    "Y[0] = y0\n",
    "\n",
    "for k in range(1, DIM):\n",
    "    Y[k] = true_model(true_a, Y[k-1,0], noise[k,0])\n",
    "    \n",
    "trajectory = Y\n",
    "\n",
    "Y_T_2 = Y[0:N]\n",
    "Y_T_1 = Y[1:N+1]\n",
    "Y = Y[2:DIM]\n",
    "\n",
    "PHI = np.hstack((Y_T_1, Y_T_2))"
   ]
  },
  {
   "cell_type": "markdown",
   "id": "93043fff",
   "metadata": {},
   "source": [
    "## LS\n",
    "\n",
    "$$\n",
    "\\hat{\\Theta}_{PEM} = \\left(\\Phi^T\\Phi\\right)^{-1}\\Phi^TY\n",
    "$$"
   ]
  },
  {
   "cell_type": "code",
   "execution_count": 4,
   "id": "be960f09",
   "metadata": {},
   "outputs": [
    {
     "name": "stdout",
     "output_type": "stream",
     "text": [
      "Optimal parameters from PEM method:\n",
      "a_1 = [0.70153036], a_2 = [-0.00016071]\n"
     ]
    }
   ],
   "source": [
    "THETA = np.linalg.inv(PHI.T @ PHI) @ PHI.T @ Y\n",
    "\n",
    "a_1_pem = THETA[0]\n",
    "a_2_pem = THETA[1]\n",
    "print('Optimal parameters from PEM method:')\n",
    "print(f'a_1 = {a_1_pem}, a_2 = {a_2_pem}')\n",
    "\n",
    "Y_PEM = np.empty((DIM,1))\n",
    "Y_PEM[0] = trajectory[0]\n",
    "Y_PEM[1] = trajectory[1]\n",
    "for k in range(2, DIM):\n",
    "    Y_PEM[k] = exper_optim_model(a_1_pem, a_2_pem,\n",
    "                                 Y_PEM[k-1], Y_PEM[k-2])"
   ]
  },
  {
   "cell_type": "markdown",
   "id": "425cb5d1",
   "metadata": {},
   "source": [
    "## Yule-Walker\n",
    "\n",
    "$$\n",
    "\\Theta_{YW} = \\left[ \\begin{array}{cc}\n",
    "r_y(0) & r_y(1) \\\\\n",
    "r_y(1) & r_y(0)\n",
    "\\end{array}\n",
    "\\right]^{-1}\n",
    "\\left[\n",
    "\\begin{array}{c}\n",
    "r_y(1) \\\\ r_y(2)\n",
    "\\end{array}\n",
    "\\right]\n",
    "$$"
   ]
  },
  {
   "cell_type": "code",
   "execution_count": 5,
   "id": "d436e2dd",
   "metadata": {},
   "outputs": [
    {
     "name": "stdout",
     "output_type": "stream",
     "text": [
      "Yule-Walker equations\n",
      "a_1 = [0.69986344], a_2 = [0.00105617]\n"
     ]
    }
   ],
   "source": [
    "r_y_0 = (trajectory*trajectory).sum()/DIM\n",
    "r_y_1 = (trajectory[0:DIM-1]*trajectory[1:DIM]).sum()/(DIM-1)\n",
    "r_y_2 = (trajectory[0:DIM-2]*trajectory[2:DIM]).sum()/(DIM-2)\n",
    "\n",
    "M = np.array([[r_y_0, r_y_1],\n",
    "              [r_y_1, r_y_0]])\n",
    "\n",
    "B = np.array([[r_y_1, r_y_2]]).T\n",
    "\n",
    "X = np.linalg.inv(M) @ B\n",
    "\n",
    "a_1_yw = X[0]\n",
    "a_2_yw = X[1]\n",
    "\n",
    "print('Yule-Walker equations')\n",
    "print(f'a_1 = {a_1_yw}, a_2 = {a_2_yw}')\n",
    "\n",
    "Y_YW = np.empty((DIM,1))\n",
    "Y_YW[0] = trajectory[0]\n",
    "Y_YW[1] = trajectory[1]\n",
    "for k in range(2, DIM):\n",
    "    Y_YW[k] = exper_optim_model(a_1_yw, a_2_yw,\n",
    "                                 Y_YW[k-1], Y_YW[k-2])"
   ]
  },
  {
   "cell_type": "code",
   "execution_count": 6,
   "id": "def77426",
   "metadata": {},
   "outputs": [
    {
     "data": {
      "image/png": "[encoded data removed]",
      "text/plain": [
       "<Figure size 432x288 with 1 Axes>"
      ]
     },
     "metadata": {
      "needs_background": "light"
     },
     "output_type": "display_data"
    }
   ],
   "source": [
    "plt.plot(T, trajectory, \"kx\")\n",
    "plt.plot(T, Y_PEM, \"r\", linewidth=4)\n",
    "plt.plot(T, Y_YW, \"b\")\n",
    "\n",
    "plt.xlabel(\"t\")\n",
    "plt.ylabel(\"y\")\n",
    "plt.legend((\"Data\", \"PEM (LS)\", \"Yule-Walker\"))\n",
    "plt.show()"
   ]
  },
  {
   "cell_type": "code",
   "execution_count": 7,
   "id": "2a663f11",
   "metadata": {},
   "outputs": [
    {
     "data": {
      "image/png": "[encoded data removed]",
      "text/plain": [
       "<Figure size 432x288 with 1 Axes>"
      ]
     },
     "metadata": {
      "needs_background": "light"
     },
     "output_type": "display_data"
    }
   ],
   "source": [
    "plt.plot(T, trajectory, \"kx\")\n",
    "plt.plot(T[2::], PHI @ THETA, \"r\", linewidth=4)\n",
    "plt.plot(T[2::], PHI @ X, \"b\")\n",
    "\n",
    "plt.xlabel(\"t\")\n",
    "plt.ylabel(\"y\")\n",
    "plt.legend((\"Data\", \"PEM (LS)\", \"Yule-Walker\"))\n",
    "plt.show()"
   ]
  },
  {
   "cell_type": "code",
   "execution_count": null,
   "id": "bb226d2f",
   "metadata": {},
   "outputs": [],
   "source": []
  }
 ],
 "metadata": {
  "kernelspec": {
   "display_name": "Python 3 (ipykernel)",
   "language": "python",
   "name": "python3"
  },
  "language_info": {
   "codemirror_mode": {
    "name": "ipython",
    "version": 3
   },
   "file_extension": ".py",
   "mimetype": "text/x-python",
   "name": "python",
   "nbconvert_exporter": "python",
   "pygments_lexer": "ipython3",
   "version": "3.10.2"
  }
 },
 "nbformat": 4,
 "nbformat_minor": 5
}
