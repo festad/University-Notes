{
 "cells": [
  {
   "cell_type": "code",
   "execution_count": 64,
   "metadata": {
    "execution": {
     "iopub.execute_input": "2023-10-01T20:20:36.177291Z",
     "iopub.status.busy": "2023-10-01T20:20:36.176892Z",
     "iopub.status.idle": "2023-10-01T20:20:57.369018Z",
     "shell.execute_reply": "2023-10-01T20:20:57.367131Z",
     "shell.execute_reply.started": "2023-10-01T20:20:36.177260Z"
    }
   },
   "outputs": [
    {
     "name": "stdout",
     "output_type": "stream",
     "text": [
      "The memory_profiler extension is already loaded. To reload it, use:\n",
      "  %reload_ext memory_profiler\n"
     ]
    }
   ],
   "source": [
    "# !pip install memory-profiler\n",
    "%load_ext memory_profiler\n",
    "\n",
    "# !pip install bitarray\n",
    "from bitarray import bitarray\n",
    "\n",
    "import datetime\n",
    "\n",
    "import numpy as np\n",
    "import matplotlib.pyplot as plt\n",
    "\n",
    "import random\n",
    "\n",
    "import time\n",
    "\n",
    "import gc\n",
    "\n",
    "import sys"
   ]
  },
  {
   "cell_type": "markdown",
   "metadata": {},
   "source": [
    "## Memory usage"
   ]
  },
  {
   "cell_type": "markdown",
   "metadata": {},
   "source": [
    "###  Arrays"
   ]
  },
  {
   "cell_type": "markdown",
   "metadata": {},
   "source": [
    "#### Built-in array of integers"
   ]
  },
  {
   "cell_type": "code",
   "execution_count": 65,
   "metadata": {
    "execution": {
     "iopub.execute_input": "2023-10-01T20:22:07.405357Z",
     "iopub.status.busy": "2023-10-01T20:22:07.404780Z",
     "iopub.status.idle": "2023-10-01T20:22:15.174954Z",
     "shell.execute_reply": "2023-10-01T20:22:15.173211Z",
     "shell.execute_reply.started": "2023-10-01T20:22:07.405291Z"
    }
   },
   "outputs": [
    {
     "name": "stdout",
     "output_type": "stream",
     "text": [
      "peak memory: 129.64 MiB, increment: 0.00 MiB\n",
      "Size of a, Size of a[0]\n"
     ]
    },
    {
     "data": {
      "text/plain": [
       "(8056, 28)"
      ]
     },
     "execution_count": 65,
     "metadata": {},
     "output_type": "execute_result"
    }
   ],
   "source": [
    "%memit a = [1]*1000\n",
    "print(\"Size of a, Size of a[0]\")\n",
    "sys.getsizeof(a), sys.getsizeof(a[0])"
   ]
  },
  {
   "cell_type": "markdown",
   "metadata": {},
   "source": [
    "#### Built-in array of booleans"
   ]
  },
  {
   "cell_type": "code",
   "execution_count": 66,
   "metadata": {
    "execution": {
     "iopub.execute_input": "2023-10-01T20:23:29.451168Z",
     "iopub.status.busy": "2023-10-01T20:23:29.450730Z",
     "iopub.status.idle": "2023-10-01T20:23:39.229156Z",
     "shell.execute_reply": "2023-10-01T20:23:39.226912Z",
     "shell.execute_reply.started": "2023-10-01T20:23:29.451132Z"
    }
   },
   "outputs": [
    {
     "name": "stdout",
     "output_type": "stream",
     "text": [
      "peak memory: 129.64 MiB, increment: 0.00 MiB\n",
      "Size of b, Size of b[0]\n"
     ]
    },
    {
     "data": {
      "text/plain": [
       "(8056, 28)"
      ]
     },
     "execution_count": 66,
     "metadata": {},
     "output_type": "execute_result"
    }
   ],
   "source": [
    "%memit b = [True]*1000\n",
    "print(\"Size of b, Size of b[0]\")\n",
    "sys.getsizeof(b), sys.getsizeof(b[0])"
   ]
  },
  {
   "cell_type": "markdown",
   "metadata": {},
   "source": [
    "#### Numpy array of bits"
   ]
  },
  {
   "cell_type": "code",
   "execution_count": 67,
   "metadata": {},
   "outputs": [
    {
     "name": "stdout",
     "output_type": "stream",
     "text": [
      "peak memory: 129.64 MiB, increment: 0.00 MiB\n",
      "Size of p, Size of p[0]\n"
     ]
    },
    {
     "data": {
      "text/plain": [
       "(1112, 25)"
      ]
     },
     "execution_count": 67,
     "metadata": {},
     "output_type": "execute_result"
    }
   ],
   "source": [
    "%memit p = np.ones(1000, dtype=bool)\n",
    "print(\"Size of p, Size of p[0]\")\n",
    "sys.getsizeof(p), sys.getsizeof(p[0])"
   ]
  },
  {
   "cell_type": "markdown",
   "metadata": {},
   "source": [
    "#### Bitarray"
   ]
  },
  {
   "cell_type": "code",
   "execution_count": 68,
   "metadata": {
    "execution": {
     "iopub.execute_input": "2023-10-01T20:28:31.192301Z",
     "iopub.status.busy": "2023-10-01T20:28:31.191766Z",
     "iopub.status.idle": "2023-10-01T20:28:47.606031Z",
     "shell.execute_reply": "2023-10-01T20:28:47.604353Z",
     "shell.execute_reply.started": "2023-10-01T20:28:31.192264Z"
    }
   },
   "outputs": [
    {
     "name": "stdout",
     "output_type": "stream",
     "text": [
      "peak memory: 129.64 MiB, increment: 0.00 MiB\n",
      "Size of c, Size of c[0]\n"
     ]
    },
    {
     "data": {
      "text/plain": [
       "(216, 28)"
      ]
     },
     "execution_count": 68,
     "metadata": {},
     "output_type": "execute_result"
    }
   ],
   "source": [
    "%memit c = bitarray('1'*1000)\n",
    "print(\"Size of c, Size of c[0]\")\n",
    "sys.getsizeof(c), sys.getsizeof(c[0])"
   ]
  },
  {
   "cell_type": "markdown",
   "metadata": {},
   "source": [
    "### Matrices"
   ]
  },
  {
   "cell_type": "markdown",
   "metadata": {},
   "source": [
    "#### Built-in matrix of integers"
   ]
  },
  {
   "cell_type": "code",
   "execution_count": 69,
   "metadata": {},
   "outputs": [],
   "source": [
    "N = 30\n",
    "M = 1000"
   ]
  },
  {
   "cell_type": "code",
   "execution_count": 70,
   "metadata": {},
   "outputs": [
    {
     "name": "stdout",
     "output_type": "stream",
     "text": [
      "peak memory: 129.64 MiB, increment: 0.00 MiB\n",
      "Size of a, Size of a[0], Size of a[0][0]\n"
     ]
    },
    {
     "data": {
      "text/plain": [
       "(312, 8056, 28)"
      ]
     },
     "execution_count": 70,
     "metadata": {},
     "output_type": "execute_result"
    }
   ],
   "source": [
    "%memit a = [[1]*M for _ in range(N)]\n",
    "print(\"Size of a, Size of a[0], Size of a[0][0]\")\n",
    "sys.getsizeof(a), sys.getsizeof(a[0]), sys.getsizeof(a[0][0])"
   ]
  },
  {
   "cell_type": "markdown",
   "metadata": {},
   "source": [
    "#### Built-in matrix of booleans"
   ]
  },
  {
   "cell_type": "code",
   "execution_count": 71,
   "metadata": {},
   "outputs": [
    {
     "name": "stdout",
     "output_type": "stream",
     "text": [
      "peak memory: 129.64 MiB, increment: 0.00 MiB\n",
      "Size of b, Size of b[0], Size of b[0][0]\n"
     ]
    },
    {
     "data": {
      "text/plain": [
       "(312, 8056, 28)"
      ]
     },
     "execution_count": 71,
     "metadata": {},
     "output_type": "execute_result"
    }
   ],
   "source": [
    "%memit b = [[True]*M for _ in range(N)]\n",
    "print(\"Size of b, Size of b[0], Size of b[0][0]\")\n",
    "sys.getsizeof(b), sys.getsizeof(b[0]), sys.getsizeof(b[0][0])"
   ]
  },
  {
   "cell_type": "markdown",
   "metadata": {},
   "source": [
    "#### Numpy matrix of bits"
   ]
  },
  {
   "cell_type": "code",
   "execution_count": 72,
   "metadata": {},
   "outputs": [
    {
     "name": "stdout",
     "output_type": "stream",
     "text": [
      "peak memory: 129.64 MiB, increment: 0.00 MiB\n",
      "Size of p, Size of p[0], Size of p[0][0]\n"
     ]
    },
    {
     "data": {
      "text/plain": [
       "(30128, 112, 25)"
      ]
     },
     "execution_count": 72,
     "metadata": {},
     "output_type": "execute_result"
    }
   ],
   "source": [
    "%memit p = np.ones((N, M), dtype=bool)\n",
    "print(\"Size of p, Size of p[0], Size of p[0][0]\")\n",
    "sys.getsizeof(p), sys.getsizeof(p[0]), sys.getsizeof(p[0][0])"
   ]
  },
  {
   "cell_type": "markdown",
   "metadata": {},
   "source": [
    "#### Bitarray matrix"
   ]
  },
  {
   "cell_type": "code",
   "execution_count": 73,
   "metadata": {},
   "outputs": [
    {
     "name": "stdout",
     "output_type": "stream",
     "text": [
      "peak memory: 129.64 MiB, increment: 0.00 MiB\n",
      "Size of c, Size of c[0], Size of c[0][0]\n"
     ]
    },
    {
     "data": {
      "text/plain": [
       "(312, 216, 28)"
      ]
     },
     "execution_count": 73,
     "metadata": {},
     "output_type": "execute_result"
    }
   ],
   "source": [
    "%memit c = [bitarray('1'*M) for _ in range(N)]\n",
    "print(\"Size of c, Size of c[0], Size of c[0][0]\")\n",
    "sys.getsizeof(c), sys.getsizeof(c[0]), sys.getsizeof(c[0][0])"
   ]
  },
  {
   "cell_type": "code",
   "execution_count": 74,
   "metadata": {},
   "outputs": [
    {
     "name": "stdout",
     "output_type": "stream",
     "text": [
      "peak memory: 129.64 MiB, increment: 0.00 MiB\n",
      "Size of d, Size of d[0]\n"
     ]
    },
    {
     "data": {
      "text/plain": [
       "(4060, 28)"
      ]
     },
     "execution_count": 74,
     "metadata": {},
     "output_type": "execute_result"
    }
   ],
   "source": [
    "%memit d = bitarray('1'*M*N)\n",
    "print(\"Size of d, Size of d[0]\")\n",
    "sys.getsizeof(d), sys.getsizeof(d[0])"
   ]
  },
  {
   "cell_type": "code",
   "execution_count": 75,
   "metadata": {},
   "outputs": [
    {
     "name": "stdout",
     "output_type": "stream",
     "text": [
      "bitarray('1111111111111111111111111111111111111111111111111111111111111111111111111111111111111111111111111111111111111111111111111111111111111111111111111111111111111111111111111111111111111111111111111111111111111111111111111111111111111111111111111111111111111111111111111111111111111111111111111111111111111111111111111111111111111111111111111111111111111111111111111111111111111111111111111111111111111111111111111111111111111111111111111111111111111111111111111111111111111111111111111111111111111111111111111111111111111111111111111111111111111111111111111111111111111111111111111111111111111111111111111111111111111111111111111111111111111111111111111111111111111111111111111111111111111111111111111111111111111111111111111111111111111111111111111111111111111111111111111111111111111111111111111111111111111111111111111111111111111111111111111111111111111111111111111111111111111111111111111111111111111111111111111111111111111111111111111111111111111111111111111111111111111111111111111111111111111111')\n",
      "\n",
      "bitarray('1111111111111111111111111111111111111111111111111111111111111111111111111111111111111111111111111111111111111111111111111111111111111111111111111111111111111111111111111111111111111111111111111111111111111111111111111111111111111111111111111111111111111111111111111111111111111111111111111111111111111111111111111111111111111111111111111111111111111111111111111111111111111111111111111111111111111111111111111111111111111111111111111111111111111111111111111111111111111111111111111111111111111111111111111111111111111111111111111111111111111111111111111111111111111111111111111111111111111111111111111111111111111111111111111111111111111111111111111111111111111111111111111111111111111111111111111111111111111111111111111111111111111111111111111111111111111111111111111111111111111111111111111111111111111111111111111111111111111111111111111111111111111111111111111111111111111111111111111111111111111111111111111111111111111111111111111111111111111111111111111111111111111111111111111111111111111111')\n",
      "\n",
      "bitarray('1111111111111111111111111111111111111111111111111111111111111111111111111111111111111111111111111111111111111111111111111111111111111111111111111111111111111111111111111111111111111111111111111111111111111111111111111111111111111111111111111111111111111111111111111111111111111111111111111111111111111111111111111111111111111111111111111111111111111111111111111111111111111111111111111111111111111111111111111111111111111111111111111111111111111111111111111111111111111111111111111111111111111111111111111111111111111111111111111111111111111111111111111111111111111111111111111111111111111111111111111111111111111111111111111111111111111111111111111111111111111111111111111111111111111111111111111111111111111111111111111111111111111111111111111111111111111111111111111111111111111111111111111111111111111111111111111111111111111111111111111111111111111111111111111111111111111111111111111111111111111111111111111111111111111111111111111111111111111111111111111111111111111111111111111111111111111111')\n",
      "\n",
      "bitarray('1111111111111111111111111111111111111111111111111111111111111111111111111111111111111111111111111111111111111111111111111111111111111111111111111111111111111111111111111111111111111111111111111111111111111111111111111111111111111111111111111111111111111111111111111111111111111111111111111111111111111111111111111111111111111111111111111111111111111111111111111111111111111111111111111111111111111111111111111111111111111111111111111111111111111111111111111111111111111111111111111111111111111111111111111111111111111111111111111111111111111111111111111111111111111111111111111111111111111111111111111111111111111111111111111111111111111111111111111111111111111111111111111111111111111111111111111111111111111111111111111111111111111111111111111111111111111111111111111111111111111111111111111111111111111111111111111111111111111111111111111111111111111111111111111111111111111111111111111111111111111111111111111111111111111111111111111111111111111111111111111111111111111111111111111111111111111111')\n",
      "\n",
      "bitarray('1111111111111111111111111111111111111111111111111111111111111111111111111111111111111111111111111111111111111111111111111111111111111111111111111111111111111111111111111111111111111111111111111111111111111111111111111111111111111111111111111111111111111111111111111111111111111111111111111111111111111111111111111111111111111111111111111111111111111111111111111111111111111111111111111111111111111111111111111111111111111111111111111111111111111111111111111111111111111111111111111111111111111111111111111111111111111111111111111111111111111111111111111111111111111111111111111111111111111111111111111111111111111111111111111111111111111111111111111111111111111111111111111111111111111111111111111111111111111111111111111111111111111111111111111111111111111111111111111111111111111111111111111111111111111111111111111111111111111111111111111111111111111111111111111111111111111111111111111111111111111111111111111111111111111111111111111111111111111111111111111111111111111111111111111111111111111111')\n",
      "\n"
     ]
    }
   ],
   "source": [
    "# Print the first 5 rows and 5 columns of d\n",
    "for row in range(5):\n",
    "    print(d[row*M:(row+1)*M])\n",
    "    print()\n"
   ]
  },
  {
   "cell_type": "code",
   "execution_count": 76,
   "metadata": {
    "execution": {
     "iopub.execute_input": "2023-10-01T20:17:26.021657Z",
     "iopub.status.busy": "2023-10-01T20:17:26.021139Z",
     "iopub.status.idle": "2023-10-01T20:17:26.030505Z",
     "shell.execute_reply": "2023-10-01T20:17:26.028525Z",
     "shell.execute_reply.started": "2023-10-01T20:17:26.021614Z"
    }
   },
   "outputs": [],
   "source": [
    "path = \"./\"\n",
    "path_out = \"./\""
   ]
  },
  {
   "cell_type": "code",
   "execution_count": 77,
   "metadata": {
    "execution": {
     "iopub.execute_input": "2023-10-01T19:52:44.899341Z",
     "iopub.status.busy": "2023-10-01T19:52:44.898988Z",
     "iopub.status.idle": "2023-10-01T19:52:44.914346Z",
     "shell.execute_reply": "2023-10-01T19:52:44.912522Z",
     "shell.execute_reply.started": "2023-10-01T19:52:44.899313Z"
    }
   },
   "outputs": [],
   "source": [
    "class Matrix:\n",
    "    def __init__(self, data, cols):\n",
    "        self.data = data\n",
    "        self.rows = len(data) // cols\n",
    "        self.cols = cols"
   ]
  },
  {
   "cell_type": "code",
   "execution_count": 78,
   "metadata": {
    "execution": {
     "iopub.execute_input": "2023-10-01T19:52:44.917376Z",
     "iopub.status.busy": "2023-10-01T19:52:44.916745Z",
     "iopub.status.idle": "2023-10-01T19:52:44.926858Z",
     "shell.execute_reply": "2023-10-01T19:52:44.925962Z",
     "shell.execute_reply.started": "2023-10-01T19:52:44.917330Z"
    }
   },
   "outputs": [],
   "source": [
    "# Count the number of lines to skip from\n",
    "# the beginning of the file\n",
    "def count_comment_lines(filename):\n",
    "    with open(filename, 'r') as f:\n",
    "        return sum(1 for line in f if line.startswith(\";;;\"))"
   ]
  },
  {
   "cell_type": "code",
   "execution_count": 79,
   "metadata": {
    "execution": {
     "iopub.execute_input": "2023-10-01T19:52:44.928607Z",
     "iopub.status.busy": "2023-10-01T19:52:44.928276Z",
     "iopub.status.idle": "2023-10-01T19:52:44.940401Z",
     "shell.execute_reply": "2023-10-01T19:52:44.938997Z",
     "shell.execute_reply.started": "2023-10-01T19:52:44.928577Z"
    }
   },
   "outputs": [],
   "source": [
    "# Count the total number of lines in the file\n",
    "def count_total_lines(filename):\n",
    "    with open(filename, 'r') as f:\n",
    "        return sum(1 for line in f)"
   ]
  },
  {
   "cell_type": "code",
   "execution_count": 80,
   "metadata": {
    "execution": {
     "iopub.execute_input": "2023-10-01T19:52:44.943232Z",
     "iopub.status.busy": "2023-10-01T19:52:44.942707Z",
     "iopub.status.idle": "2023-10-01T19:52:44.955547Z",
     "shell.execute_reply": "2023-10-01T19:52:44.954173Z",
     "shell.execute_reply.started": "2023-10-01T19:52:44.943188Z"
    }
   },
   "outputs": [],
   "source": [
    "# Count the number of columns in the file,\n",
    "# that is, the cardinality of the domain of the\n",
    "# sets (rows)\n",
    "def detect_columns(filename, offset):\n",
    "    with open(filename, 'r') as f:\n",
    "        for _ in range(offset):\n",
    "            next(f)  # skip lines\n",
    "        line = next(f).strip().split()\n",
    "        return len(line) - 1  # excluding the trailing \"-\""
   ]
  },
  {
   "cell_type": "code",
   "execution_count": 81,
   "metadata": {
    "execution": {
     "iopub.execute_input": "2023-10-01T19:52:44.958204Z",
     "iopub.status.busy": "2023-10-01T19:52:44.957500Z",
     "iopub.status.idle": "2023-10-01T19:52:44.972338Z",
     "shell.execute_reply": "2023-10-01T19:52:44.971387Z",
     "shell.execute_reply.started": "2023-10-01T19:52:44.958164Z"
    }
   },
   "outputs": [],
   "source": [
    "# Read the file and return a matrix (array of bitarrays)\n",
    "def read_file(filename, rows, cols, offset):\n",
    "    # First, we skip the first offset lines\n",
    "    # (they are comments or already read rows\n",
    "    # from a previous call to read_file),\n",
    "    # then we read the next rows lines,\n",
    "    # we append a bitarray for each line\n",
    "    # and return the matrix (array of bitarrays)\n",
    "    with open(filename, 'r') as f:\n",
    "        for _ in range(offset):\n",
    "            next(f)  # skip lines\n",
    "\n",
    "        n_rows = 0\n",
    "        n_cols = 0\n",
    "\n",
    "        # Matrix (a flat bitarray)\n",
    "        data = bitarray()\n",
    "        for _ in range(rows):\n",
    "            line = next(f, None)\n",
    "            if line is None:\n",
    "                break\n",
    "            # Transforming\n",
    "            # \"1 0 1 0 -\"\n",
    "            # into\n",
    "            # [1, 0, 1, 0]\n",
    "            numbers = list(map(int, line.strip().split()[:-1]))  # excluding the trailing \"-\"\n",
    "            \n",
    "            if len(numbers) != cols:\n",
    "                print(\"Error: wrong number of columns in row\")\n",
    "                break\n",
    "                \n",
    "            # # Transforming\n",
    "            # # [1, 0, 1, 0]\n",
    "            # # into\n",
    "            # # '1010'\n",
    "            # bit_string = ''.join(map(str, numbers))\n",
    "            # # Transforming\n",
    "            # # '1010'\n",
    "            # # into\n",
    "            # # bitarray('1010')\n",
    "            # numbers = bitarray(bit_string)\n",
    "            \n",
    "            # Append the bitarray to the matrix\n",
    "            data.extend(numbers)\n",
    "\n",
    "        return Matrix(data, cols)\n",
    "\n",
    "\n",
    "def read_rows_from_file(filename, cols, offset, list_idx_2_read):\n",
    "    # We read specific rows from the file, this is useful\n",
    "    # for the recursive function \"explore\"\n",
    "    with open(filename, 'r') as f:\n",
    "        # Skip the first offset lines\n",
    "        for _ in range(offset):\n",
    "            next(f)\n",
    "\n",
    "        # To keep track of the index of the row \n",
    "        # we are reading from the file,\n",
    "        # we save a tuple containing the index and the row\n",
    "        data = []\n",
    "\n",
    "        # This time we don't have a block of rows to read\n",
    "        # but we have to read all the rows until the last one\n",
    "        # contained in list_ix_2_read, so we could range over\n",
    "        # the maximum of list_idx_2_read\n",
    "        for k in range(max(list_idx_2_read) + 1):\n",
    "            line = next(f, None)\n",
    "            if line is None:\n",
    "                break\n",
    "            if k in list_idx_2_read:\n",
    "                numbers = list(map(int, line.strip().split()[:-1]))\n",
    "                if len(numbers) != cols:\n",
    "                    print(\"Error: wrong number of columns in row\", k)\n",
    "                    break\n",
    "                    \n",
    "                # bit_string = ''.join(map(str, numbers))\n",
    "                # numbers = bitarray(bit_string)\n",
    "                data.append((k, bitarray(numbers)))\n",
    "        return data"
   ]
  },
  {
   "cell_type": "code",
   "execution_count": 82,
   "metadata": {
    "execution": {
     "iopub.execute_input": "2023-10-01T19:52:44.975046Z",
     "iopub.status.busy": "2023-10-01T19:52:44.974031Z",
     "iopub.status.idle": "2023-10-01T19:52:44.991326Z",
     "shell.execute_reply": "2023-10-01T19:52:44.989946Z",
     "shell.execute_reply.started": "2023-10-01T19:52:44.975000Z"
    }
   },
   "outputs": [],
   "source": [
    "# Returns True if two rows have a common '1', else False\n",
    "def intersect(row1, row2):\n",
    "    return (row1 & row2).any()\n",
    "\n",
    "# Return the union of two rows (bitwise OR)\n",
    "def union(row1, row2):\n",
    "    return row1 | row2"
   ]
  },
  {
   "cell_type": "code",
   "execution_count": 83,
   "metadata": {},
   "outputs": [
    {
     "name": "stdout",
     "output_type": "stream",
     "text": [
      "[(4,), (4, 0), (4, 1), (4, 1, 0), (4, 2), (4, 2, 0), (4, 2, 1), (4, 2, 1, 0), (4, 3), (4, 3, 0), (4, 3, 1), (4, 3, 1, 0), (4, 3, 2), (4, 3, 2, 0), (4, 3, 2, 1), (4, 3, 2, 1, 0), (2,), (2, 0), (2, 1), (2, 1, 0), (3,), (3, 0), (3, 1), (3, 1, 0), (3, 2), (3, 2, 0), (3, 2, 1), (3, 2, 1, 0)]\n",
      "----------------\n",
      "2\n",
      "----------------\n",
      "8\n",
      "----------------\n",
      "16\n",
      "----------------\n"
     ]
    }
   ],
   "source": [
    "# Conceptual function showing the nodes \n",
    "# that would be visited, in lexical order,\n",
    "# without any pruning.\n",
    "# ATTENTION: these function \n",
    "# explode when the number of rows gets big enough\n",
    "# (really soon)\n",
    "\n",
    "def EC_full_visit(nodes=[]):\n",
    "    visited = []\n",
    "    for node in nodes:\n",
    "        visited.append((node,))\n",
    "        full_explore(node, radix=(node,), visited=visited)\n",
    "    return visited\n",
    "\n",
    "\n",
    "def full_explore(node, radix=(), visited=[]):\n",
    "    for j in range(node):\n",
    "        v_node = radix + (j,)\n",
    "        visited.append(v_node)\n",
    "        if j == 0:\n",
    "            continue\n",
    "        else:\n",
    "            full_explore(j, v_node, visited)\n",
    "\n",
    "def EC_light_full_visit(nodes=0):\n",
    "    n_visited = 0\n",
    "    for node in range(nodes):\n",
    "        n_visited += 1\n",
    "        n_visited += full_explore_light(node)\n",
    "    return n_visited+1\n",
    "\n",
    "def full_explore_light(node):\n",
    "    n_visited = 0\n",
    "    for j in range(node):\n",
    "        n_visited += 1\n",
    "        if j == 0:\n",
    "            continue\n",
    "        else:\n",
    "            n_visited += full_explore_light(j)\n",
    "    return n_visited\n",
    "\n",
    "\n",
    "\n",
    "print(EC_full_visit([4, 2, 3]))\n",
    "print(\"----------------\")\n",
    "print(EC_light_full_visit(1))\n",
    "print(\"----------------\")\n",
    "print(EC_light_full_visit(3))\n",
    "print(\"----------------\")\n",
    "print(EC_light_full_visit(4))\n",
    "print(\"----------------\")\n"
   ]
  },
  {
   "cell_type": "code",
   "execution_count": 84,
   "metadata": {},
   "outputs": [
    {
     "data": {
      "image/png": "[encoded data removed]",
      "text/plain": [
       "<Figure size 640x480 with 1 Axes>"
      ]
     },
     "metadata": {},
     "output_type": "display_data"
    }
   ],
   "source": [
    "# Plotting the number of nodes visited by the full exploration\n",
    "# of the search tree, as a function of the number of nodes in the\n",
    "# graph.\n",
    "n_visited = []\n",
    "for i in range(1, 10):\n",
    "    n_visited.append(EC_light_full_visit(i))\n",
    "plt.plot(range(1, 10), n_visited)\n",
    "plt.xlabel(\"Number of nodes\")\n",
    "plt.ylabel(\"Number of nodes visited\")\n",
    "plt.show()"
   ]
  },
  {
   "cell_type": "markdown",
   "metadata": {},
   "source": [
    "The previous functions will not be used, but they helped to understand the number of explorable nodes,\n",
    "which is **exponential**: $2^n$."
   ]
  },
  {
   "cell_type": "code",
   "execution_count": 85,
   "metadata": {
    "execution": {
     "iopub.execute_input": "2023-10-01T19:52:44.994412Z",
     "iopub.status.busy": "2023-10-01T19:52:44.993315Z",
     "iopub.status.idle": "2023-10-01T19:52:45.016350Z",
     "shell.execute_reply": "2023-10-01T19:52:45.014938Z",
     "shell.execute_reply.started": "2023-10-01T19:52:44.994363Z"
    }
   },
   "outputs": [],
   "source": [
    "def EC(A, B, COV, offset, FILE_NAME, LOADABLE_ROWS, explored=[], max_explorations=-1):\n",
    "    # Offset is the index of the first row of A \n",
    "    # to read in the current chunk being read,\n",
    "    # initially it is 0, then it is increased\n",
    "    # by LOADABLE_ROWS at each iteration\n",
    "    A_N = A.rows\n",
    "    A_M = A.cols\n",
    "\n",
    "    B_N = B.rows\n",
    "    B_M = B.cols\n",
    "\n",
    "    # Number of comment lines to skip\n",
    "    comment_lines = count_comment_lines(FILE_NAME)\n",
    "    # exploration_times = []\n",
    "\n",
    "    # We iterate over the rows of \n",
    "    # the current chunk of A\n",
    "    for i in range(A_N):\n",
    "\n",
    "        # Current row (set) of A\n",
    "        row_data = A.data[i*A_M : (i+1)*A_M]\n",
    "\n",
    "        # If the row is empty, we skip it\n",
    "        if sum(row_data) == 0:\n",
    "            for t in range(A_N):\n",
    "                B_index = (t * B_N) + (i + offset)\n",
    "                B.data[B_index] = 0\n",
    "                B.data[(i + offset) * B_N + t] = 0\n",
    "            continue\n",
    "\n",
    "        explored.append((offset + i,))\n",
    "\n",
    "        # If the row is a cover,\n",
    "        # we add it to the set of covers\n",
    "        # and we skip it\n",
    "        if sum(row_data) == A_M:\n",
    "            for t in range(B_N):\n",
    "                B_index = (t * B_N) + (i + offset)\n",
    "                B.data[B_index] = 0\n",
    "                B.data[(i + offset) * B_N + t] = 0\n",
    "            COV.add((offset + i,))\n",
    "            continue\n",
    "\n",
    "        # We need reading_offset because\n",
    "        # we have to read LOADABLE_ROWS rows\n",
    "        # at a time from the beginning of the file,\n",
    "        # even if the current chunk starts \n",
    "        # from the middle of the file, because\n",
    "        # we have to read also the rows that are\n",
    "        # before the current chunk, in order\n",
    "        # to compute the intersection between\n",
    "        # the current row and all the previous rows\n",
    "        reading_offset = 0\n",
    "\n",
    "        while reading_offset < i + offset:\n",
    "\n",
    "            # Read again the rows from the beginning\n",
    "            # of the file in chunks of LOADABLE_ROWS,\n",
    "            # in order to find the compatible rows with the current row\n",
    "            # among all the rows before the current row\n",
    "            old_A = read_file(FILE_NAME, LOADABLE_ROWS, A_M, reading_offset+comment_lines)\n",
    "\n",
    "            for j in range(min(old_A.rows, i + offset - reading_offset)):\n",
    "\n",
    "                explored.append((offset + i, j + reading_offset))\n",
    "\n",
    "                old_row_data = old_A.data[j*A_M : (j+1)*A_M]\n",
    "\n",
    "                if sum(old_row_data) in [0, A_M]:\n",
    "                    continue\n",
    "\n",
    "                if intersect(old_row_data, row_data):\n",
    "                    B.data[(j + reading_offset) * B_N + (i + offset)] = 0\n",
    "                else:\n",
    "                    # I takes the value of all the couples of indexes\n",
    "                    # of the rows that are compatible\n",
    "                    I = (offset + i, j + reading_offset)\n",
    "                    U = union(old_row_data, row_data)\n",
    "                    if sum(U) == A_M:\n",
    "                        # We have found a cover\n",
    "                        COV.add(tuple(sorted(I)))\n",
    "                        # When we find a cover, by definition\n",
    "                        # we don't consider the rows as compatible\n",
    "                        # anymore, they theoretically are but they\n",
    "                        # are not useful anymore since we don't need\n",
    "                        # to investigate them anymore\n",
    "                        B.data[(j + reading_offset) * B_N + (i + offset)] = 0\n",
    "                    else:\n",
    "                        # We have found a couple of compatible rows\n",
    "                        B.data[(j + reading_offset) * B_N + (i + offset)] = 1\n",
    "                        # inter is the list of indexes of the rows\n",
    "                        # that are compatible with both the rows in the couple\n",
    "                        # (I)\n",
    "                        inter = [k for k in range(j + reading_offset) if B.data[k * B_N + (i + offset)] and B.data[k * B_N + (j + reading_offset)]]\n",
    "                        \n",
    "                        # if inter is not empty,\n",
    "                        # we have to read the rows from the file\n",
    "                        # that are indexed by inter\n",
    "                        # and store them in k_A\n",
    "                        if inter:\n",
    "                            # Read the rows from the file\n",
    "                            # that are in inter\n",
    "                            k_A = read_rows_from_file(FILE_NAME, A_M, comment_lines, inter)\n",
    "                            \n",
    "                            # Start the exploration\n",
    "                            explore(I, U, inter, COV, k_A, B, offset, old_A.cols, FILE_NAME, 1, explored, max_explorations)\n",
    "\n",
    "                            # Stop the exploration if the maximum number of explorations\n",
    "                            # has been reached\n",
    "                            if max_explorations != -1 and len(explored) >= max_explorations:\n",
    "                                return\n",
    "                            \n",
    "            reading_offset += LOADABLE_ROWS\n",
    "    return\n",
    "\n",
    "\n",
    "def explore(I, U, inter, COV, k_A, B, offset, A_M, FILE_NAME, LOADABLE_ROWS=1, explored=[], max_explorations=-1):\n",
    "    # Terminate the exploration if the maximum number of explorations\n",
    "    # has been reached\n",
    "    if max_explorations != -1 and len(explored) >= max_explorations:\n",
    "        return\n",
    "\n",
    "    # Growing the list of explored sets\n",
    "    if explored[-1] != tuple(I):\n",
    "        explored.append(tuple(I))   \n",
    "\n",
    "    for k in inter:\n",
    "        # i_temp is the new set of rows\n",
    "        # (a candidate for the cover)\n",
    "        i_temp = I + (k,)\n",
    "        \n",
    "        # Get the k-th row from k_A,\n",
    "        # we get all of them one by one\n",
    "        # and start a new exploration\n",
    "        # with that row\n",
    "        row_data = [row for index, row in k_A if index == k][0]\n",
    "        \n",
    "        # u_temp is the union between\n",
    "        # the current row and the union\n",
    "        # of the rows in I\n",
    "        u_temp = union(U, row_data)\n",
    "\n",
    "        if sum(u_temp) == A_M:\n",
    "            # We have found a cover\n",
    "            COV.add(tuple(sorted(i_temp)))\n",
    "            explored.append(i_temp)\n",
    "        else:\n",
    "            # get the \n",
    "            inter_temp = [l for l in inter if l < k and B.data[l * B.cols + k]]\n",
    "            if inter_temp:\n",
    "                explore(i_temp, u_temp, inter_temp, COV, k_A, B, offset, A_M, FILE_NAME, LOADABLE_ROWS, explored)\n",
    "\n"
   ]
  },
  {
   "cell_type": "code",
   "execution_count": 86,
   "metadata": {},
   "outputs": [],
   "source": [
    "def EC_star(A, B, COV, offset, FILE_NAME, LOADABLE_ROWS, explored=[], max_explorations=-1, card=[]):\n",
    "    A_N = A.rows\n",
    "    A_M = A.cols\n",
    "\n",
    "    B_N = B.rows\n",
    "    B_M = B.cols\n",
    "\n",
    "    comment_lines = count_comment_lines(FILE_NAME)\n",
    "\n",
    "    for i in range(A_N):\n",
    "        row_data = A.data[i*A_M : (i+1)*A_M]\n",
    "\n",
    "        if sum(row_data) == 0:\n",
    "            for t in range(B_N):\n",
    "                B_index = (t * B_N) + (i + offset)\n",
    "                B.data[B_index] = 0\n",
    "                B.data[(i + offset) * B_N + t] = 0\n",
    "            continue\n",
    "\n",
    "        explored.append((offset + i,))\n",
    "\n",
    "        if sum(row_data) == A_M:\n",
    "            for t in range(B_N):\n",
    "                B_index = (t * B_N) + (i + offset)\n",
    "                B.data[B_index] = 0\n",
    "                B.data[(i + offset) * B_N + t] = 0\n",
    "            COV.add((offset + i,))\n",
    "            continue\n",
    "\n",
    "        card[i+offset] = sum(row_data)\n",
    "\n",
    "        reading_offset = 0\n",
    "\n",
    "        while reading_offset < i + offset:\n",
    "\n",
    "            old_A = read_file(FILE_NAME, LOADABLE_ROWS, A_M, reading_offset+comment_lines)\n",
    "\n",
    "            for j in range(min(old_A.rows, i + offset - reading_offset)):\n",
    "\n",
    "                explored.append((offset + i, j + reading_offset))\n",
    "\n",
    "                old_row_data = old_A.data[j*A_M : (j+1)*A_M]\n",
    "\n",
    "                if sum(old_row_data) in [0, A_M]:\n",
    "                    continue\n",
    "\n",
    "                if intersect(old_row_data, row_data):\n",
    "                    B.data[(j + reading_offset) * B_N + (i + offset)] = 0\n",
    "                else:\n",
    "                    I = (offset + i, j + reading_offset)\n",
    "                    card_U = card[i+offset] + card[j+reading_offset]\n",
    "                    if card_U == A_M:\n",
    "                        COV.add(tuple(sorted(I)))\n",
    "                        B.data[(j + reading_offset) * B_N + (i + offset)] = 0\n",
    "                    else:\n",
    "                        B.data[(j + reading_offset) * B_N + (i + offset)] = 1\n",
    "                        inter = [k for k in range(j + reading_offset) if B.data[k * B_N + (i + offset)] and B.data[k * B_N + (j + reading_offset)]]\n",
    "                        if inter:\n",
    "                            k_A = read_rows_from_file(FILE_NAME, A_M, comment_lines, inter)\n",
    "\n",
    "                            explore_star(I, card_U, inter, COV, k_A, B, offset, old_A.cols, FILE_NAME, 1, explored, max_explorations, card)\n",
    "                            \n",
    "                            if max_explorations != -1 and len(explored) >= max_explorations:\n",
    "                                return\n",
    "\n",
    "            reading_offset += LOADABLE_ROWS\n",
    "\n",
    "    return\n",
    "\n",
    "\n",
    "def explore_star(I, card_U, inter, COV, k_A, B, offset, A_M, FILE_NAME, LOADABLE_ROWS=1, explored=[], max_explorations=-1, card=[]):\n",
    "    if max_explorations != -1 and len(explored) >= max_explorations:\n",
    "        return\n",
    "\n",
    "    if explored[-1] != tuple(I):\n",
    "        explored.append(tuple(I))   \n",
    "\n",
    "    for k in inter:\n",
    "        i_temp = I + (k,)\n",
    "        \n",
    "        row_data = [row for index, row in k_A if index == k][0]\n",
    "\n",
    "        card_temp = card_U + sum(row_data)\n",
    "\n",
    "        if card_temp == A_M:\n",
    "            COV.add(tuple(sorted(i_temp)))\n",
    "            explored.append(i_temp)\n",
    "        else:\n",
    "            inter_temp = [l for l in inter if l < k and B.data[l * B.cols + k]]\n",
    "            if inter_temp:\n",
    "                explore_star(i_temp, card_temp, inter_temp, COV, k_A, B, offset, A_M, FILE_NAME, LOADABLE_ROWS, explored, max_explorations, card)\n",
    "\n"
   ]
  },
  {
   "cell_type": "code",
   "execution_count": 87,
   "metadata": {
    "execution": {
     "iopub.execute_input": "2023-10-01T19:52:45.021858Z",
     "iopub.status.busy": "2023-10-01T19:52:45.021202Z",
     "iopub.status.idle": "2023-10-01T19:52:45.037979Z",
     "shell.execute_reply": "2023-10-01T19:52:45.036295Z",
     "shell.execute_reply.started": "2023-10-01T19:52:45.021818Z"
    }
   },
   "outputs": [],
   "source": [
    "def incremental_process(A, B, COV, offset, FILE_NAME, LOADABLE_ROWS, explored=set(), max_explorations=-1, mode=\"base\", card=[]):\n",
    "    \n",
    "    # Find exact covers within the new chunk\n",
    "    if mode == \"base\":\n",
    "        EC(A, B, COV, offset, FILE_NAME, LOADABLE_ROWS, explored, max_explorations)\n",
    "    elif mode == \"star\":\n",
    "        EC_star(A, B, COV, offset, FILE_NAME, LOADABLE_ROWS, explored, max_explorations, card)\n",
    "    return"
   ]
  },
  {
   "cell_type": "code",
   "execution_count": 88,
   "metadata": {
    "execution": {
     "iopub.execute_input": "2023-10-01T19:52:45.041787Z",
     "iopub.status.busy": "2023-10-01T19:52:45.040688Z",
     "iopub.status.idle": "2023-10-01T19:52:45.058391Z",
     "shell.execute_reply": "2023-10-01T19:52:45.057111Z",
     "shell.execute_reply.started": "2023-10-01T19:52:45.041729Z"
    }
   },
   "outputs": [],
   "source": [
    "# Creating a function that takes a filename and a number of loadable rows\n",
    "# and solves the exact cover problem incrementally:\n",
    "\n",
    "def incremental_exact_cover(filename, loadable_rows, verbose=False, explored=set(), max_explorations=-1, filename_out=None, mode=\"base\", ratio=False):\n",
    "\n",
    "    # Counting the comments\n",
    "    comment_lines = count_comment_lines(filename)\n",
    "    \n",
    "    # Detecting the number of columns\n",
    "    n_columns = detect_columns(filename, comment_lines)\n",
    "    print(f\"Total columns: {n_columns}\")\n",
    "\n",
    "    # Counting the total number of rows\n",
    "    total_rows = count_total_lines(filename) - comment_lines\n",
    "    print(f\"Total rows: {total_rows}\")\n",
    "\n",
    "    # Starting to write on the output file rows and columns\n",
    "    if filename_out is not None:\n",
    "        with open(filename_out, 'w') as f:\n",
    "            f.write(\"*********************************\\n\")\n",
    "            f.write(\"*            PROBLEM            *\\n\")\n",
    "            f.write(\"*********************************\\n\")\n",
    "            f.write(datetime.datetime.now().strftime(\"%Y-%m-%d %H:%M:%S\") + \"\\n\")\n",
    "            f.write(f\"Sets: {total_rows}\\nDomain cardinality: {n_columns}\\n\")\n",
    "\n",
    "    # Initializing the A_matrix B\n",
    "    # B = [bitarray('0'*total_rows) for _ in range(total_rows)]\n",
    "    B = bitarray('0'*total_rows*total_rows)\n",
    "    B_matrix = Matrix(B, total_rows)\n",
    "\n",
    "    # # Setting elements of B under the diagonal to -1\n",
    "    # # for testing purposes\n",
    "    # for i in range(total_rows):\n",
    "    #     for j in range(i):\n",
    "    #         B[i][j] = -1\n",
    "\n",
    "    # Initializing the set of visited nodes\n",
    "    explored = []\n",
    "\n",
    "    # Initializing the set of partitions (solutions)\n",
    "    COV = set()\n",
    "\n",
    "    # Initializing the cardinality array\n",
    "    # when mode is \"star\"\n",
    "    # if mode == \"star\":\n",
    "    card = [0]*total_rows\n",
    "\n",
    "\n",
    "    # Initializing the offset\n",
    "    offset = 0\n",
    "\n",
    "    while True:\n",
    "        A_matrix = read_file(filename, loadable_rows, n_columns, offset+comment_lines)\n",
    "        if not A_matrix.data:\n",
    "            break\n",
    "\n",
    "        if verbose:\n",
    "            print(\"Portion of A read: from row\", offset+1, \"to row\", offset+A_matrix.rows)\n",
    "        # for i in range(A_matrix.rows):\n",
    "        #     print(A_matrix.data[i * A_matrix.cols:i * A_matrix.cols + A_matrix.cols])\n",
    "        # print(\"Found complete sets:\", A_matrix.ones)\n",
    "\n",
    "        # Writing all the rows of the A_matrix preceded by \"#{index}-> \"\n",
    "        if filename_out is not None:\n",
    "            with open(filename_out, 'a') as f:\n",
    "                # for i, row in enumerate(A_matrix.data):\n",
    "                #     f.write(f\"#{i+offset}-> \")\n",
    "                #     for col in row:\n",
    "                #         f.write(f\"{col} \")\n",
    "                #     f.write(\"\\n\")\n",
    "                for i in range(A_matrix.rows):\n",
    "                    f.write(f\"#{i+offset}-> \")\n",
    "                    f.write(f\"{A_matrix.data[i * A_matrix.cols:i * A_matrix.cols + A_matrix.cols]}\\n\")\n",
    "\n",
    "        incremental_process(A_matrix, B_matrix, COV, offset, filename, loadable_rows, explored, max_explorations, mode=mode, card=card)\n",
    "\n",
    "        if len(explored) >= max_explorations and max_explorations != -1:\n",
    "            # print(\"Max explorations reached\")\n",
    "            # print(\"I: \", I)\n",
    "            # print(\"COV:\", COV)\n",
    "            return COV, explored\n",
    "\n",
    "        if verbose:\n",
    "            print(\"Explored:\", len(explored))\n",
    "\n",
    "            print(\"B:\")\n",
    "            for row in range(total_rows):\n",
    "                print(B[row*total_rows:(row+1)*total_rows])\n",
    "\n",
    "            print(\"COV:\")\n",
    "            print(COV)\n",
    "\n",
    "        offset += A_matrix.rows\n",
    "\n",
    "    print(\"Explored:\", len(explored))\n",
    "\n",
    "    if verbose:\n",
    "        print(\"Size of COV: \", sys.getsizeof(COV))\n",
    "        print(\"Explored nodes:\\n\", explored)\n",
    "        print(\"Solutions:\", COV)\n",
    "\n",
    "    print(\"#solutions:\", len(COV))\n",
    "\n",
    "    # Listing the explorable nodes to compare with the\n",
    "    # actual explored nodes\n",
    "    # First, taking all the explored radix nodes (the tuples\n",
    "    # in the list explored\n",
    "    # containing only one element)\n",
    "    if ratio:\n",
    "        n_explorable = 0\n",
    "        for node in explored:\n",
    "            if len(node) == 1:\n",
    "                n_explorable += 2**node[0]\n",
    "\n",
    "    if filename_out is not None:\n",
    "        with open(filename_out, 'a') as f:\n",
    "            f.write(\"*********************************\\n\")\n",
    "            f.write(\"*            SOLUTIONS          *\\n\")\n",
    "            f.write(\"*********************************\\n\")\n",
    "            f.write(f\"#solutions: {len(COV)}\\n\")\n",
    "            f.write(\"Solutions:\\n\")\n",
    "            for solution in COV:\n",
    "                f.write(f\"{solution}\\n\")\n",
    "            f.write(\"*********************************\\n\")\n",
    "            f.write(\"*         EXPLORED NODES        *\\n\")\n",
    "            f.write(\"*********************************\\n\")\n",
    "            f.write(f\"#explored nodes: {len(explored)}\\n\")\n",
    "            if ratio:\n",
    "                f.write(f\"#explorable nodes: {n_explorable}\\n\")\n",
    "                f.write(f\"Ratio of explored nodes:{len(explored) / n_explorable}\\n\")\n",
    "            f.write(\"Explored nodes:\\n\")\n",
    "            for node in explored:\n",
    "                f.write(f\"{node}\\n\")\n",
    "            f.write(\"*********************************\\n\")\n",
    "            f.write(\"*            MATRIX B           *\\n\")\n",
    "            f.write(\"*********************************\\n\")\n",
    "            for row in range(total_rows):\n",
    "                f.write(f\"{B[row*total_rows:(row+1)*total_rows]}\\n\")\n",
    "            f.write(\"*********************************\\n\")\n",
    "            f.write(\"*             END               *\\n\")\n",
    "\n",
    "    return COV, explored"
   ]
  },
  {
   "cell_type": "code",
   "execution_count": 89,
   "metadata": {
    "execution": {
     "iopub.execute_input": "2023-10-01T19:52:45.091384Z",
     "iopub.status.busy": "2023-10-01T19:52:45.090603Z",
     "iopub.status.idle": "2023-10-01T19:52:45.182840Z",
     "shell.execute_reply": "2023-10-01T19:52:45.181643Z",
     "shell.execute_reply.started": "2023-10-01T19:52:45.091349Z"
    }
   },
   "outputs": [
    {
     "name": "stdout",
     "output_type": "stream",
     "text": [
      "Total columns: 10\n",
      "Total rows: 8\n",
      "Portion of A read: from row 1 to row 1\n",
      "Explored: 1\n",
      "B:\n",
      "bitarray('00000000')\n",
      "bitarray('00000000')\n",
      "bitarray('00000000')\n",
      "bitarray('00000000')\n",
      "bitarray('00000000')\n",
      "bitarray('00000000')\n",
      "bitarray('00000000')\n",
      "bitarray('00000000')\n",
      "COV:\n",
      "set()\n",
      "Portion of A read: from row 2 to row 2\n",
      "Explored: 3\n",
      "B:\n",
      "bitarray('01000000')\n",
      "bitarray('00000000')\n",
      "bitarray('00000000')\n",
      "bitarray('00000000')\n",
      "bitarray('00000000')\n",
      "bitarray('00000000')\n",
      "bitarray('00000000')\n",
      "bitarray('00000000')\n",
      "COV:\n",
      "set()\n",
      "Portion of A read: from row 3 to row 3\n",
      "Explored: 6\n",
      "B:\n",
      "bitarray('01100000')\n",
      "bitarray('00000000')\n",
      "bitarray('00000000')\n",
      "bitarray('00000000')\n",
      "bitarray('00000000')\n",
      "bitarray('00000000')\n",
      "bitarray('00000000')\n",
      "bitarray('00000000')\n",
      "COV:\n",
      "set()\n",
      "Portion of A read: from row 4 to row 4\n",
      "Explored: 11\n",
      "B:\n",
      "bitarray('01110000')\n",
      "bitarray('00010000')\n",
      "bitarray('00000000')\n",
      "bitarray('00000000')\n",
      "bitarray('00000000')\n",
      "bitarray('00000000')\n",
      "bitarray('00000000')\n",
      "bitarray('00000000')\n",
      "COV:\n",
      "{(0, 1, 3)}\n",
      "Portion of A read: from row 5 to row 5\n",
      "Explored: 17\n",
      "B:\n",
      "bitarray('01111000')\n",
      "bitarray('00010000')\n",
      "bitarray('00001000')\n",
      "bitarray('00000000')\n",
      "bitarray('00000000')\n",
      "bitarray('00000000')\n",
      "bitarray('00000000')\n",
      "bitarray('00000000')\n",
      "COV:\n",
      "{(0, 1, 3), (0, 2, 4)}\n",
      "Portion of A read: from row 6 to row 6\n",
      "Explored: 23\n",
      "B:\n",
      "bitarray('01111000')\n",
      "bitarray('00010100')\n",
      "bitarray('00001000')\n",
      "bitarray('00000000')\n",
      "bitarray('00000100')\n",
      "bitarray('00000000')\n",
      "bitarray('00000000')\n",
      "bitarray('00000000')\n",
      "COV:\n",
      "{(0, 1, 3), (0, 2, 4)}\n",
      "Portion of A read: from row 7 to row 7\n",
      "Explored: 31\n",
      "B:\n",
      "bitarray('01111000')\n",
      "bitarray('00010110')\n",
      "bitarray('00001010')\n",
      "bitarray('00000000')\n",
      "bitarray('00000100')\n",
      "bitarray('00000010')\n",
      "bitarray('00000000')\n",
      "bitarray('00000000')\n",
      "COV:\n",
      "{(1, 5, 6), (0, 1, 3), (0, 2, 4)}\n",
      "Portion of A read: from row 8 to row 8\n",
      "Explored: 40\n",
      "B:\n",
      "bitarray('01111000')\n",
      "bitarray('00010110')\n",
      "bitarray('00001010')\n",
      "bitarray('00000001')\n",
      "bitarray('00000101')\n",
      "bitarray('00000011')\n",
      "bitarray('00000000')\n",
      "bitarray('00000000')\n",
      "COV:\n",
      "{(1, 5, 6), (0, 1, 3), (4, 5, 7), (0, 2, 4)}\n",
      "Explored: 40\n",
      "Size of COV:  216\n",
      "Explored nodes:\n",
      " [(0,), (1,), (1, 0), (2,), (2, 0), (2, 1), (3,), (3, 0), (3, 1), (3, 1, 0), (3, 2), (4,), (4, 0), (4, 1), (4, 2), (4, 2, 0), (4, 3), (5,), (5, 0), (5, 1), (5, 2), (5, 3), (5, 4), (6,), (6, 0), (6, 1), (6, 2), (6, 3), (6, 4), (6, 5), (6, 5, 1), (7,), (7, 0), (7, 1), (7, 2), (7, 3), (7, 4), (7, 5), (7, 5, 4), (7, 6)]\n",
      "Solutions: {(1, 5, 6), (0, 1, 3), (4, 5, 7), (0, 2, 4)}\n",
      "#solutions: 4\n",
      "Solutions:\n",
      "S_2, S_6, S_7\n",
      "S_1, S_2, S_4\n",
      "S_5, S_6, S_8\n",
      "S_1, S_3, S_5\n"
     ]
    }
   ],
   "source": [
    "# Testing the resolution on a small instance\n",
    "\n",
    "# 1 0 1 0 0 0 0 0 0 1 -\n",
    "# 0 0 0 1 0 0 1 1 1 0 -\n",
    "# 0 1 0 1 0 0 0 1 0 0 -\n",
    "# 0 1 0 0 1 1 0 0 0 0 -\n",
    "# 0 0 0 0 1 1 1 0 1 0 -\n",
    "# 0 1 1 0 0 0 0 0 0 1 -\n",
    "# 1 0 0 0 1 1 0 0 0 0 -\n",
    "# 1 0 0 1 0 0 0 1 0 0 -\n",
    "\n",
    "cov, explored = incremental_exact_cover(path+\"ec_instance.txt\", loadable_rows=1, verbose=True, max_explorations=-1, filename_out=path_out+\"ec_instance_out.txt\", ratio=True)\n",
    "\n",
    "print(\"Solutions:\")\n",
    "for solution in cov:\n",
    "    sets = [f\"S_{i+1}\" for i in solution]\n",
    "    print(\", \".join(sets))"
   ]
  },
  {
   "cell_type": "code",
   "execution_count": 90,
   "metadata": {},
   "outputs": [
    {
     "data": {
      "text/plain": [
       "[(0,),\n",
       " (1,),\n",
       " (1, 0),\n",
       " (2,),\n",
       " (2, 0),\n",
       " (2, 1),\n",
       " (3,),\n",
       " (3, 0),\n",
       " (3, 1),\n",
       " (3, 1, 0),\n",
       " (3, 2),\n",
       " (4,),\n",
       " (4, 0),\n",
       " (4, 1),\n",
       " (4, 2),\n",
       " (4, 2, 0),\n",
       " (4, 3),\n",
       " (5,),\n",
       " (5, 0),\n",
       " (5, 1),\n",
       " (5, 2),\n",
       " (5, 3),\n",
       " (5, 4),\n",
       " (6,),\n",
       " (6, 0),\n",
       " (6, 1),\n",
       " (6, 2),\n",
       " (6, 3),\n",
       " (6, 4),\n",
       " (6, 5),\n",
       " (6, 5, 1),\n",
       " (7,),\n",
       " (7, 0),\n",
       " (7, 1),\n",
       " (7, 2),\n",
       " (7, 3),\n",
       " (7, 4),\n",
       " (7, 5),\n",
       " (7, 5, 4),\n",
       " (7, 6)]"
      ]
     },
     "execution_count": 90,
     "metadata": {},
     "output_type": "execute_result"
    }
   ],
   "source": [
    "explored"
   ]
  },
  {
   "cell_type": "code",
   "execution_count": 91,
   "metadata": {},
   "outputs": [
    {
     "name": "stdout",
     "output_type": "stream",
     "text": [
      "Total columns: 10\n",
      "Total rows: 8\n",
      "Portion of A read: from row 1 to row 1\n",
      "Explored: 1\n",
      "B:\n",
      "bitarray('00000000')\n",
      "bitarray('00000000')\n",
      "bitarray('00000000')\n",
      "bitarray('00000000')\n",
      "bitarray('00000000')\n",
      "bitarray('00000000')\n",
      "bitarray('00000000')\n",
      "bitarray('00000000')\n",
      "COV:\n",
      "set()\n",
      "Portion of A read: from row 2 to row 2\n",
      "Explored: 3\n",
      "B:\n",
      "bitarray('01000000')\n",
      "bitarray('00000000')\n",
      "bitarray('00000000')\n",
      "bitarray('00000000')\n",
      "bitarray('00000000')\n",
      "bitarray('00000000')\n",
      "bitarray('00000000')\n",
      "bitarray('00000000')\n",
      "COV:\n",
      "set()\n",
      "Portion of A read: from row 3 to row 3\n",
      "Explored: 6\n",
      "B:\n",
      "bitarray('01100000')\n",
      "bitarray('00000000')\n",
      "bitarray('00000000')\n",
      "bitarray('00000000')\n",
      "bitarray('00000000')\n",
      "bitarray('00000000')\n",
      "bitarray('00000000')\n",
      "bitarray('00000000')\n",
      "COV:\n",
      "set()\n",
      "Portion of A read: from row 4 to row 4\n",
      "Explored: 11\n",
      "B:\n",
      "bitarray('01110000')\n",
      "bitarray('00010000')\n",
      "bitarray('00000000')\n",
      "bitarray('00000000')\n",
      "bitarray('00000000')\n",
      "bitarray('00000000')\n",
      "bitarray('00000000')\n",
      "bitarray('00000000')\n",
      "COV:\n",
      "{(0, 1, 3)}\n",
      "Portion of A read: from row 5 to row 5\n",
      "Explored: 17\n",
      "B:\n",
      "bitarray('01111000')\n",
      "bitarray('00010000')\n",
      "bitarray('00001000')\n",
      "bitarray('00000000')\n",
      "bitarray('00000000')\n",
      "bitarray('00000000')\n",
      "bitarray('00000000')\n",
      "bitarray('00000000')\n",
      "COV:\n",
      "{(0, 1, 3), (0, 2, 4)}\n",
      "Portion of A read: from row 6 to row 6\n",
      "Explored: 23\n",
      "B:\n",
      "bitarray('01111000')\n",
      "bitarray('00010100')\n",
      "bitarray('00001000')\n",
      "bitarray('00000000')\n",
      "bitarray('00000100')\n",
      "bitarray('00000000')\n",
      "bitarray('00000000')\n",
      "bitarray('00000000')\n",
      "COV:\n",
      "{(0, 1, 3), (0, 2, 4)}\n",
      "Portion of A read: from row 7 to row 7\n",
      "Explored: 31\n",
      "B:\n",
      "bitarray('01111000')\n",
      "bitarray('00010110')\n",
      "bitarray('00001010')\n",
      "bitarray('00000000')\n",
      "bitarray('00000100')\n",
      "bitarray('00000010')\n",
      "bitarray('00000000')\n",
      "bitarray('00000000')\n",
      "COV:\n",
      "{(1, 5, 6), (0, 1, 3), (0, 2, 4)}\n",
      "Portion of A read: from row 8 to row 8\n",
      "Explored: 40\n",
      "B:\n",
      "bitarray('01111000')\n",
      "bitarray('00010110')\n",
      "bitarray('00001010')\n",
      "bitarray('00000001')\n",
      "bitarray('00000101')\n",
      "bitarray('00000011')\n",
      "bitarray('00000000')\n",
      "bitarray('00000000')\n",
      "COV:\n",
      "{(1, 5, 6), (0, 1, 3), (4, 5, 7), (0, 2, 4)}\n",
      "Explored: 40\n",
      "Size of COV:  216\n",
      "Explored nodes:\n",
      " [(0,), (1,), (1, 0), (2,), (2, 0), (2, 1), (3,), (3, 0), (3, 1), (3, 1, 0), (3, 2), (4,), (4, 0), (4, 1), (4, 2), (4, 2, 0), (4, 3), (5,), (5, 0), (5, 1), (5, 2), (5, 3), (5, 4), (6,), (6, 0), (6, 1), (6, 2), (6, 3), (6, 4), (6, 5), (6, 5, 1), (7,), (7, 0), (7, 1), (7, 2), (7, 3), (7, 4), (7, 5), (7, 5, 4), (7, 6)]\n",
      "Solutions: {(1, 5, 6), (0, 1, 3), (4, 5, 7), (0, 2, 4)}\n",
      "#solutions: 4\n",
      "Solutions:\n",
      "S_2, S_6, S_7\n",
      "S_1, S_2, S_4\n",
      "S_5, S_6, S_8\n",
      "S_1, S_3, S_5\n"
     ]
    }
   ],
   "source": [
    "# Solving the same instance with the star version\n",
    "cov, explored = incremental_exact_cover(path+\"ec_instance.txt\", loadable_rows=1, verbose=True, max_explorations=-1, filename_out=path_out+\"ec_instance_out_star.txt\", mode=\"star\", ratio=True)\n",
    "print(\"Solutions:\")\n",
    "for solution in cov:\n",
    "    sets = [f\"S_{i+1}\" for i in solution]\n",
    "    print(\", \".join(sets))"
   ]
  },
  {
   "cell_type": "code",
   "execution_count": 92,
   "metadata": {
    "execution": {
     "iopub.execute_input": "2023-10-01T19:52:45.184521Z",
     "iopub.status.busy": "2023-10-01T19:52:45.184161Z",
     "iopub.status.idle": "2023-10-01T19:52:45.234559Z",
     "shell.execute_reply": "2023-10-01T19:52:45.233352Z",
     "shell.execute_reply.started": "2023-10-01T19:52:45.184491Z"
    }
   },
   "outputs": [
    {
     "name": "stdout",
     "output_type": "stream",
     "text": [
      "Total columns: 8\n",
      "Total rows: 15\n",
      "Portion of A read: from row 1 to row 10\n",
      "Explored: 16\n",
      "B:\n",
      "bitarray('000000000000000')\n",
      "bitarray('001100000000000')\n",
      "bitarray('000100000000000')\n",
      "bitarray('000000000000000')\n",
      "bitarray('000000000000000')\n",
      "bitarray('000000000000000')\n",
      "bitarray('000000000000000')\n",
      "bitarray('000000000000000')\n",
      "bitarray('000000000000000')\n",
      "bitarray('000000000000000')\n",
      "bitarray('000000000000000')\n",
      "bitarray('000000000000000')\n",
      "bitarray('000000000000000')\n",
      "bitarray('000000000000000')\n",
      "bitarray('000000000000000')\n",
      "COV:\n",
      "{(0,), (1, 2, 3), (3, 4)}\n",
      "Portion of A read: from row 11 to row 15\n",
      "Explored: 71\n",
      "B:\n",
      "bitarray('000000000000000')\n",
      "bitarray('001100000000001')\n",
      "bitarray('000100000000010')\n",
      "bitarray('000000000001001')\n",
      "bitarray('000000000000000')\n",
      "bitarray('000000000000000')\n",
      "bitarray('000000000000000')\n",
      "bitarray('000000000000000')\n",
      "bitarray('000000000000000')\n",
      "bitarray('000000000000000')\n",
      "bitarray('000000000000000')\n",
      "bitarray('000000000000000')\n",
      "bitarray('000000000000000')\n",
      "bitarray('000000000000001')\n",
      "bitarray('000000000000000')\n",
      "COV:\n",
      "{(3, 4), (1, 2, 3), (1, 3, 14), (11, 12), (0,)}\n",
      "Explored: 71\n",
      "Size of COV:  728\n",
      "Explored nodes:\n",
      " [(0,), (1,), (1, 0), (2,), (2, 0), (2, 1), (3,), (3, 0), (3, 1), (3, 2), (3, 2, 1), (4,), (4, 0), (4, 1), (4, 2), (4, 3), (11,), (11, 0), (11, 1), (11, 2), (11, 3), (11, 4), (11, 5), (11, 6), (11, 7), (11, 8), (11, 9), (11, 10), (12,), (12, 0), (12, 1), (12, 2), (12, 3), (12, 4), (12, 5), (12, 6), (12, 7), (12, 8), (12, 9), (12, 10), (12, 11), (13,), (13, 0), (13, 1), (13, 2), (13, 3), (13, 4), (13, 5), (13, 6), (13, 7), (13, 8), (13, 9), (13, 10), (13, 11), (13, 12), (14,), (14, 0), (14, 1), (14, 2), (14, 3), (14, 3, 1), (14, 4), (14, 5), (14, 6), (14, 7), (14, 8), (14, 9), (14, 10), (14, 11), (14, 12), (14, 13)]\n",
      "Solutions: {(3, 4), (1, 2, 3), (1, 3, 14), (11, 12), (0,)}\n",
      "#solutions: 5\n"
     ]
    }
   ],
   "source": [
    "# Solving a custom one just\n",
    "# so we are sure that the algorithm works\n",
    "\n",
    "# 1 1 1 1 1 1 1 1 -\n",
    "# 1 1 1 1 1 0 0 0 -\n",
    "# 0 0 0 0 0 1 1 0 -\n",
    "# 0 0 0 0 0 0 0 1 -\n",
    "# 1 1 1 1 1 1 1 0 -\n",
    "# 0 0 0 0 0 0 0 0 -\n",
    "# 0 0 0 0 0 0 0 0 -\n",
    "# 0 0 0 0 0 0 0 0 -\n",
    "# 0 0 0 0 0 0 0 0 -\n",
    "# 0 0 0 0 0 0 0 0 -\n",
    "# 0 0 0 0 0 0 0 0 -\n",
    "# 1 1 0 0 1 1 0 0 -\n",
    "# 0 0 1 1 0 0 1 1 -\n",
    "# 0 0 0 1 1 0 0 1 -\n",
    "# 0 0 0 0 0 1 1 0 -\n",
    "\n",
    "cov, _ = incremental_exact_cover(path+\"ec_manual.txt\", loadable_rows=10, verbose=True, max_explorations=-1, filename_out=path_out+\"ec_manual_out.txt\", ratio=True)"
   ]
  },
  {
   "cell_type": "code",
   "execution_count": 93,
   "metadata": {},
   "outputs": [
    {
     "name": "stdout",
     "output_type": "stream",
     "text": [
      "Total columns: 8\n",
      "Total rows: 15\n",
      "Portion of A read: from row 1 to row 10\n",
      "Explored: 16\n",
      "B:\n",
      "bitarray('000000000000000')\n",
      "bitarray('001100000000000')\n",
      "bitarray('000100000000000')\n",
      "bitarray('000000000000000')\n",
      "bitarray('000000000000000')\n",
      "bitarray('000000000000000')\n",
      "bitarray('000000000000000')\n",
      "bitarray('000000000000000')\n",
      "bitarray('000000000000000')\n",
      "bitarray('000000000000000')\n",
      "bitarray('000000000000000')\n",
      "bitarray('000000000000000')\n",
      "bitarray('000000000000000')\n",
      "bitarray('000000000000000')\n",
      "bitarray('000000000000000')\n",
      "COV:\n",
      "{(0,), (1, 2, 3), (3, 4)}\n",
      "Portion of A read: from row 11 to row 15\n",
      "Explored: 71\n",
      "B:\n",
      "bitarray('000000000000000')\n",
      "bitarray('001100000000001')\n",
      "bitarray('000100000000010')\n",
      "bitarray('000000000001001')\n",
      "bitarray('000000000000000')\n",
      "bitarray('000000000000000')\n",
      "bitarray('000000000000000')\n",
      "bitarray('000000000000000')\n",
      "bitarray('000000000000000')\n",
      "bitarray('000000000000000')\n",
      "bitarray('000000000000000')\n",
      "bitarray('000000000000000')\n",
      "bitarray('000000000000000')\n",
      "bitarray('000000000000001')\n",
      "bitarray('000000000000000')\n",
      "COV:\n",
      "{(3, 4), (1, 2, 3), (1, 3, 14), (11, 12), (0,)}\n",
      "Explored: 71\n",
      "Size of COV:  728\n",
      "Explored nodes:\n",
      " [(0,), (1,), (1, 0), (2,), (2, 0), (2, 1), (3,), (3, 0), (3, 1), (3, 2), (3, 2, 1), (4,), (4, 0), (4, 1), (4, 2), (4, 3), (11,), (11, 0), (11, 1), (11, 2), (11, 3), (11, 4), (11, 5), (11, 6), (11, 7), (11, 8), (11, 9), (11, 10), (12,), (12, 0), (12, 1), (12, 2), (12, 3), (12, 4), (12, 5), (12, 6), (12, 7), (12, 8), (12, 9), (12, 10), (12, 11), (13,), (13, 0), (13, 1), (13, 2), (13, 3), (13, 4), (13, 5), (13, 6), (13, 7), (13, 8), (13, 9), (13, 10), (13, 11), (13, 12), (14,), (14, 0), (14, 1), (14, 2), (14, 3), (14, 3, 1), (14, 4), (14, 5), (14, 6), (14, 7), (14, 8), (14, 9), (14, 10), (14, 11), (14, 12), (14, 13)]\n",
      "Solutions: {(3, 4), (1, 2, 3), (1, 3, 14), (11, 12), (0,)}\n",
      "#solutions: 5\n"
     ]
    }
   ],
   "source": [
    "# and with the star version\n",
    "cov, _ = incremental_exact_cover(path+\"ec_manual.txt\", loadable_rows=10, verbose=True, max_explorations=-1, filename_out=path_out+\"ec_manual_out_star.txt\", mode=\"star\")"
   ]
  },
  {
   "cell_type": "markdown",
   "metadata": {},
   "source": [
    "## Solving problems with exact cover"
   ]
  },
  {
   "cell_type": "markdown",
   "metadata": {},
   "source": [
    "### Sudoku"
   ]
  },
  {
   "cell_type": "code",
   "execution_count": 94,
   "metadata": {
    "execution": {
     "iopub.execute_input": "2023-10-01T19:52:45.236635Z",
     "iopub.status.busy": "2023-10-01T19:52:45.236151Z",
     "iopub.status.idle": "2023-10-01T19:52:45.247982Z",
     "shell.execute_reply": "2023-10-01T19:52:45.246959Z",
     "shell.execute_reply.started": "2023-10-01T19:52:45.236583Z"
    }
   },
   "outputs": [],
   "source": [
    "def sudoku_to_exact_cover(sudoku, N):\n",
    "    constraints = 4  # Cell, Row, Column, Box\n",
    "    cover_matrix = [[0] * (N * N * constraints) for _ in range(N * N * N)]\n",
    "    box_size = int(N ** 0.5)\n",
    "    for r in range(N):\n",
    "        for c in range(N):\n",
    "            for n in range(N):\n",
    "                # Calculate row index for cover_matrix\n",
    "                idx = (r * N + c) * N + n\n",
    "                \n",
    "                # Cell constraint - first N^2 columns\n",
    "                cover_matrix[idx][r * N + c] = 1\n",
    "\n",
    "                # Row constraint - second N^2 columns\n",
    "                cover_matrix[idx][N * N + r * N + n] = 1\n",
    "\n",
    "                # Column constraint - third N^2 columns\n",
    "                cover_matrix[idx][2 * N * N + c * N + n] = 1\n",
    "\n",
    "                # Box constraint - (fourth) last N^2 columns\n",
    "                box_row = r // box_size\n",
    "                box_col = c // box_size\n",
    "                b = box_row * box_size + box_col  # This has changed from 3 to 2 for 4x4 Sudoku\n",
    "                cover_matrix[idx][3 * N * N + b * N + n] = 1\n",
    "                \n",
    "    # Prune rows that correspond to filled cells in the grid\n",
    "    # by setting them to all zeros.\n",
    "\n",
    "    # Find rows corresponding to filled cells by\n",
    "    # checking if the corresponding entry in the\n",
    "    # Sudoku grid is not equal to zero\n",
    "    # (zero represents an empty cell.)\n",
    "    rows_to_remove = []\n",
    "    for r in range(N):\n",
    "        for c in range(N):\n",
    "            num = sudoku[r * N + c]-1\n",
    "            if num+1:\n",
    "                start_idx = (r * N + c) * N\n",
    "                for i in range(N):\n",
    "                    if i != num:\n",
    "                        rows_to_remove.append(start_idx + i)\n",
    "\n",
    "    # Setting the rows to all zeros\n",
    "    for idx in sorted(rows_to_remove):\n",
    "        cover_matrix[idx] = [0] * (N * N * constraints)\n",
    "                \n",
    "    return cover_matrix\n"
   ]
  },
  {
   "cell_type": "code",
   "execution_count": 95,
   "metadata": {
    "execution": {
     "iopub.execute_input": "2023-10-01T19:52:45.249728Z",
     "iopub.status.busy": "2023-10-01T19:52:45.249223Z",
     "iopub.status.idle": "2023-10-01T19:52:45.267423Z",
     "shell.execute_reply": "2023-10-01T19:52:45.266106Z",
     "shell.execute_reply.started": "2023-10-01T19:52:45.249698Z"
    }
   },
   "outputs": [],
   "source": [
    "def exact_cover_solution_to_sudoku(partition, N):\n",
    "    solution = [[0] * N for _ in range(N)]\n",
    "    \n",
    "    for idx in partition:\n",
    "        r, c, n = idx // (N * N), (idx // N) % N, (idx % N) + 1\n",
    "        solution[r][c] = n\n",
    "        \n",
    "    return solution"
   ]
  },
  {
   "cell_type": "code",
   "execution_count": 96,
   "metadata": {
    "execution": {
     "iopub.execute_input": "2023-10-01T19:52:45.270043Z",
     "iopub.status.busy": "2023-10-01T19:52:45.269151Z",
     "iopub.status.idle": "2023-10-01T19:52:45.282601Z",
     "shell.execute_reply": "2023-10-01T19:52:45.281341Z",
     "shell.execute_reply.started": "2023-10-01T19:52:45.269990Z"
    }
   },
   "outputs": [],
   "source": [
    "def read_sudoku_from_file(filename):\n",
    "    with open(filename, 'r') as file:\n",
    "        lines = file.readlines()\n",
    "    \n",
    "    sudoku = []\n",
    "    for line in lines:\n",
    "        row = [int(num) for num in line.strip().split(\",\") if num]\n",
    "        sudoku.extend(row)\n",
    "\n",
    "    return sudoku"
   ]
  },
  {
   "cell_type": "code",
   "execution_count": 97,
   "metadata": {
    "execution": {
     "iopub.execute_input": "2023-10-01T19:52:45.284826Z",
     "iopub.status.busy": "2023-10-01T19:52:45.284060Z",
     "iopub.status.idle": "2023-10-01T19:52:45.302687Z",
     "shell.execute_reply": "2023-10-01T19:52:45.301333Z",
     "shell.execute_reply.started": "2023-10-01T19:52:45.284772Z"
    }
   },
   "outputs": [],
   "source": [
    "# Function that takes in input a sudoku.sdk filename \n",
    "# containing the sudoku in human readable format \n",
    "# and outputs a sudoku.exc filename containing the\n",
    "# the sudoku in the exact cover format.\n",
    "# The default comment is a timestamp.\n",
    "import datetime\n",
    "\n",
    "def sdk_to_exc(sdk_filename, exc_filename, comment=\"\"):\n",
    "    sudoku = read_sudoku_from_file(sdk_filename)\n",
    "    N = int(len(sudoku) ** 0.5)\n",
    "    cover_matrix = sudoku_to_exact_cover(sudoku, N)\n",
    "    comment = comment + \"\\n\" + datetime.datetime.now().strftime(\"%Y-%m-%d %H:%M:%S\")\n",
    "    comment = comment + \"\\n\" + f\"Sudoku {N}x{N}\"\n",
    "    with open(exc_filename, \"w\") as f:\n",
    "        # for each line, append \";;; \" at the beginning\n",
    "        for line in comment.split(\"\\n\"):\n",
    "            f.write(\";;; \" + line + \"\\n\")\n",
    "        for row in cover_matrix:\n",
    "            f.write(\" \".join(map(str, row)) + \" -\\n\")"
   ]
  },
  {
   "cell_type": "code",
   "execution_count": 98,
   "metadata": {
    "execution": {
     "iopub.execute_input": "2023-10-01T19:52:45.305948Z",
     "iopub.status.busy": "2023-10-01T19:52:45.305000Z",
     "iopub.status.idle": "2023-10-01T19:52:45.328412Z",
     "shell.execute_reply": "2023-10-01T19:52:45.327402Z",
     "shell.execute_reply.started": "2023-10-01T19:52:45.305895Z"
    }
   },
   "outputs": [],
   "source": [
    "sdk_to_exc(path+\"sudoku_easy_4x4.sdk.txt\", path_out+\"sudoku_easy_4x4.exc.txt\")\n",
    "sdk_to_exc(path+\"sudoku_pre_intermediate_4x4.sdk.txt\", path_out+\"sudoku_pre_intermediate_4x4.exc.txt\")\n",
    "sdk_to_exc(path+\"sudoku_medium_4x4.sdk.txt\", path_out+\"sudoku_medium_4x4.exc.txt\")\n",
    "sdk_to_exc(path+\"sudoku_hard_4x4.sdk.txt\", path_out+\"sudoku_hard_4x4.exc.txt\")\n"
   ]
  },
  {
   "cell_type": "code",
   "execution_count": 99,
   "metadata": {
    "execution": {
     "iopub.execute_input": "2023-10-01T19:52:45.331507Z",
     "iopub.status.busy": "2023-10-01T19:52:45.330599Z",
     "iopub.status.idle": "2023-10-01T19:52:48.021932Z",
     "shell.execute_reply": "2023-10-01T19:52:48.020524Z",
     "shell.execute_reply.started": "2023-10-01T19:52:45.331459Z"
    }
   },
   "outputs": [
    {
     "name": "stdout",
     "output_type": "stream",
     "text": [
      "Total columns: 64\n",
      "Total rows: 64\n",
      "Explored: 171280\n",
      "#solutions: 1\n",
      "peak memory: 147.72 MiB, increment: 18.38 MiB\n",
      "Solutions:\n",
      "{(0, 5, 10, 15, 19, 22, 25, 28, 34, 36, 43, 45, 49, 55, 56, 62)}\n",
      "CPU times: user 1.14 s, sys: 88.8 ms, total: 1.23 s\n",
      "Wall time: 1.34 s\n"
     ]
    }
   ],
   "source": [
    "%%time\n",
    "# This easy, 5 blanks\n",
    "# 1, 2, 0, 4,\n",
    "# 4, 3, 2, 0,\n",
    "# 3, 1, 0, 2,\n",
    "# 2, 4, 0, 0,\n",
    "\n",
    "%memit sol_sudoku_easy_4x4, _ = incremental_exact_cover(path_out+\"sudoku_easy_4x4.exc.txt\", loadable_rows=1, filename_out=path_out+\"sudoku_easy_4x4.out.txt\", ratio=True)\n",
    "print(\"Solutions:\")\n",
    "print(sol_sudoku_easy_4x4)"
   ]
  },
  {
   "cell_type": "code",
   "execution_count": 100,
   "metadata": {
    "execution": {
     "iopub.execute_input": "2023-10-01T19:52:48.024810Z",
     "iopub.status.busy": "2023-10-01T19:52:48.023757Z",
     "iopub.status.idle": "2023-10-01T19:52:48.031730Z",
     "shell.execute_reply": "2023-10-01T19:52:48.030579Z",
     "shell.execute_reply.started": "2023-10-01T19:52:48.024773Z"
    }
   },
   "outputs": [
    {
     "name": "stdout",
     "output_type": "stream",
     "text": [
      "Sudoku:\n",
      "[1, 2, 3, 4]\n",
      "[4, 3, 2, 1]\n",
      "[3, 1, 4, 2]\n",
      "[2, 4, 1, 3]\n"
     ]
    }
   ],
   "source": [
    "# Checking the solution\n",
    "print(\"Sudoku:\")\n",
    "solved_sudoku_easy_4x4 = exact_cover_solution_to_sudoku(sol_sudoku_easy_4x4.pop(), 4)\n",
    "for row in solved_sudoku_easy_4x4:\n",
    "    print(row)"
   ]
  },
  {
   "cell_type": "code",
   "execution_count": 101,
   "metadata": {},
   "outputs": [
    {
     "name": "stdout",
     "output_type": "stream",
     "text": [
      "Total columns: 64\n",
      "Total rows: 64\n",
      "Explored: 171280\n",
      "#solutions: 1\n",
      "peak memory: 165.34 MiB, increment: 17.62 MiB\n",
      "Solutions:\n",
      "{(0, 5, 10, 15, 19, 22, 25, 28, 34, 36, 43, 45, 49, 55, 56, 62)}\n",
      "CPU times: user 1.01 s, sys: 79.2 ms, total: 1.09 s\n",
      "Wall time: 1.21 s\n"
     ]
    }
   ],
   "source": [
    "%%time\n",
    "# and with the star version\n",
    "%memit sol_sudoku_easy_4x4_star, _ = incremental_exact_cover(path_out+\"sudoku_easy_4x4.exc.txt\", loadable_rows=1, filename_out=path_out+\"sudoku_easy_4x4.out.txt\", mode=\"star\", ratio=True)\n",
    "print(\"Solutions:\")\n",
    "print(sol_sudoku_easy_4x4_star)"
   ]
  },
  {
   "cell_type": "code",
   "execution_count": 102,
   "metadata": {
    "execution": {
     "iopub.execute_input": "2023-10-01T19:52:48.033785Z",
     "iopub.status.busy": "2023-10-01T19:52:48.033461Z",
     "iopub.status.idle": "2023-10-01T19:52:51.497364Z",
     "shell.execute_reply": "2023-10-01T19:52:51.495585Z",
     "shell.execute_reply.started": "2023-10-01T19:52:48.033757Z"
    }
   },
   "outputs": [
    {
     "name": "stdout",
     "output_type": "stream",
     "text": [
      "Total columns: 64\n",
      "Total rows: 64\n",
      "Explored: 207515\n",
      "#solutions: 1\n",
      "peak memory: 167.73 MiB, increment: 4.64 MiB\n",
      "Solutions:\n",
      "{(2, 5, 11, 12, 19, 20, 26, 29, 32, 39, 41, 46, 49, 54, 56, 63)}\n",
      "CPU times: user 1.49 s, sys: 79.8 ms, total: 1.57 s\n",
      "Wall time: 1.68 s\n"
     ]
    }
   ],
   "source": [
    "%%time\n",
    "# This is pre intermediate, 6 blanks\n",
    "\n",
    "# 3, 0, 4, 1\n",
    "# 0, 1, 0, 2\n",
    "# 0, 4, 0, 3\n",
    "# 2, 0, 1, 4\n",
    "\n",
    "%memit sol_sudoku_pre_intermediate_4x4, _ = incremental_exact_cover(path_out+\"sudoku_pre_intermediate_4x4.exc.txt\", loadable_rows=100, filename_out=path_out+\"sudoku_pre_intermediate_4x4.out.txt\", ratio=True)\n",
    "print(\"Solutions:\")\n",
    "print(sol_sudoku_pre_intermediate_4x4)"
   ]
  },
  {
   "cell_type": "code",
   "execution_count": 103,
   "metadata": {
    "execution": {
     "iopub.execute_input": "2023-10-01T19:52:51.500388Z",
     "iopub.status.busy": "2023-10-01T19:52:51.499845Z",
     "iopub.status.idle": "2023-10-01T19:52:51.509324Z",
     "shell.execute_reply": "2023-10-01T19:52:51.507670Z",
     "shell.execute_reply.started": "2023-10-01T19:52:51.500343Z"
    }
   },
   "outputs": [
    {
     "name": "stdout",
     "output_type": "stream",
     "text": [
      "Sudoku:\n",
      "[3, 2, 4, 1]\n",
      "[4, 1, 3, 2]\n",
      "[1, 4, 2, 3]\n",
      "[2, 3, 1, 4]\n"
     ]
    }
   ],
   "source": [
    "# Checking the solution\n",
    "print(\"Sudoku:\")\n",
    "solved_sudoku_pre_intermediate_4x4 = exact_cover_solution_to_sudoku(sol_sudoku_pre_intermediate_4x4.pop(), 4)\n",
    "for row in solved_sudoku_pre_intermediate_4x4:\n",
    "    print(row)\n"
   ]
  },
  {
   "cell_type": "code",
   "execution_count": 104,
   "metadata": {},
   "outputs": [
    {
     "name": "stdout",
     "output_type": "stream",
     "text": [
      "Total columns: 64\n",
      "Total rows: 64\n",
      "Explored: 207515\n",
      "#solutions: 1\n",
      "peak memory: 171.38 MiB, increment: 4.88 MiB\n",
      "Solutions:\n",
      "{(2, 5, 11, 12, 19, 20, 26, 29, 32, 39, 41, 46, 49, 54, 56, 63)}\n",
      "CPU times: user 1.42 s, sys: 36.6 ms, total: 1.45 s\n",
      "Wall time: 1.57 s\n"
     ]
    }
   ],
   "source": [
    "%%time\n",
    "# and with the star version\n",
    "%memit sol_sudoku_pre_intermediate_4x4_star, _ = incremental_exact_cover(path_out+\"sudoku_pre_intermediate_4x4.exc.txt\", loadable_rows=100, filename_out=path_out+\"sudoku_pre_intermediate_4x4.out.txt\", mode=\"star\", ratio=True)\n",
    "print(\"Solutions:\")\n",
    "print(sol_sudoku_pre_intermediate_4x4_star)"
   ]
  },
  {
   "cell_type": "code",
   "execution_count": 105,
   "metadata": {
    "execution": {
     "iopub.execute_input": "2023-10-01T19:52:51.512743Z",
     "iopub.status.busy": "2023-10-01T19:52:51.512076Z",
     "iopub.status.idle": "2023-10-01T19:52:55.904948Z",
     "shell.execute_reply": "2023-10-01T19:52:55.903473Z",
     "shell.execute_reply.started": "2023-10-01T19:52:51.512696Z"
    }
   },
   "outputs": [
    {
     "name": "stdout",
     "output_type": "stream",
     "text": [
      "Total columns: 64\n",
      "Total rows: 64\n",
      "Explored: 303317\n",
      "#solutions: 1\n",
      "peak memory: 182.88 MiB, increment: 11.50 MiB\n",
      "Solutions:\n",
      "{(2, 5, 11, 12, 19, 20, 26, 29, 32, 39, 41, 46, 49, 54, 56, 63)}\n",
      "CPU times: user 2.11 s, sys: 76 ms, total: 2.19 s\n",
      "Wall time: 2.32 s\n"
     ]
    }
   ],
   "source": [
    "%%time\n",
    "# This is medium, 7 blanks\n",
    "\n",
    "# 3, 0, 4, 0\n",
    "# 0, 1, 0, 2\n",
    "# 0, 4, 0, 3\n",
    "# 2, 0, 1, 4\n",
    "\n",
    "%memit sol_sudoku_medium_4x4, _ = incremental_exact_cover(path_out+\"sudoku_medium_4x4.exc.txt\", loadable_rows=100, filename_out=path_out+\"sudoku_medium_4x4.out.txt\")\n",
    "print(\"Solutions:\")\n",
    "print(sol_sudoku_medium_4x4)"
   ]
  },
  {
   "cell_type": "code",
   "execution_count": 106,
   "metadata": {
    "execution": {
     "iopub.execute_input": "2023-10-01T19:52:55.907637Z",
     "iopub.status.busy": "2023-10-01T19:52:55.906792Z",
     "iopub.status.idle": "2023-10-01T19:52:55.914922Z",
     "shell.execute_reply": "2023-10-01T19:52:55.913524Z",
     "shell.execute_reply.started": "2023-10-01T19:52:55.907599Z"
    }
   },
   "outputs": [
    {
     "name": "stdout",
     "output_type": "stream",
     "text": [
      "Sudoku:\n",
      "[3, 2, 4, 1]\n",
      "[4, 1, 3, 2]\n",
      "[1, 4, 2, 3]\n",
      "[2, 3, 1, 4]\n"
     ]
    }
   ],
   "source": [
    "# Checking the solution\n",
    "print(\"Sudoku:\")\n",
    "solved_sudoku_medium_4x4 = exact_cover_solution_to_sudoku(sol_sudoku_medium_4x4.pop(), 4)\n",
    "for row in solved_sudoku_medium_4x4:\n",
    "    print(row)"
   ]
  },
  {
   "cell_type": "code",
   "execution_count": 107,
   "metadata": {},
   "outputs": [
    {
     "name": "stdout",
     "output_type": "stream",
     "text": [
      "Total columns: 64\n",
      "Total rows: 64\n",
      "Explored: 303317\n",
      "#solutions: 1\n",
      "peak memory: 190.83 MiB, increment: 12.12 MiB\n",
      "Solutions:\n",
      "{(2, 5, 11, 12, 19, 20, 26, 29, 32, 39, 41, 46, 49, 54, 56, 63)}\n",
      "CPU times: user 2.1 s, sys: 66.8 ms, total: 2.17 s\n",
      "Wall time: 2.29 s\n"
     ]
    }
   ],
   "source": [
    "%%time\n",
    "# and with the star version\n",
    "%memit sol_sudoku_medium_4x4_star, _ = incremental_exact_cover(path_out+\"sudoku_medium_4x4.exc.txt\", loadable_rows=100, filename_out=path_out+\"sudoku_medium_4x4.out.txt\", mode=\"star\", ratio=True)\n",
    "print(\"Solutions:\")\n",
    "print(sol_sudoku_medium_4x4_star)"
   ]
  },
  {
   "cell_type": "code",
   "execution_count": null,
   "metadata": {
    "execution": {
     "iopub.execute_input": "2023-10-01T19:52:55.917006Z",
     "iopub.status.busy": "2023-10-01T19:52:55.916576Z",
     "iopub.status.idle": "2023-10-01T19:52:55.925821Z",
     "shell.execute_reply": "2023-10-01T19:52:55.925011Z",
     "shell.execute_reply.started": "2023-10-01T19:52:55.916920Z"
    }
   },
   "outputs": [],
   "source": [
    "# # # Easy 9x9 sudoku,\n",
    "# # # generates 729 rows and 324 columns,\n",
    "# # # it would take too much time to solve it\n",
    "\n",
    "# # 5, 3, 4, 6, 7, 8, 9, 1, 2,\n",
    "# # 6, 7, 2, 1, 9, 5, 3, 4, 8,\n",
    "# # 1, 9, 8, 3, 4, 2, 5, 6, 7,\n",
    "# # 8, 5, 9, 7, 6, 1, 4, 2, 3,\n",
    "# # 4, 2, 6, 8, 5, 3, 7, 9, 1,\n",
    "# # 7, 1, 3, 9, 2, 4, 8, 5, 6,\n",
    "# # 9, 6, 1, 5, 3, 7, 2, 8, 4,\n",
    "# # 2, 8, 7, 4, 1, 9, 6, 3, 5,\n",
    "# # 3, 4, 5, 2, 8, 6, 1, 7, 0,\n",
    "\n",
    "# sdk_to_exc(path+\"sudoku_easy_9x9.sdk.txt\", path_out+\"sudoku_easy_9x9.exc.txt\")\n",
    "# sol_sudoku_easy_9x9 = incremental_exact_cover(path_out+\"sudoku_easy_9x9.exc.txt\", loadable_rows=1000)\n",
    "# print(\"Solutions:\")\n",
    "# print(sol_sudoku_easy_9x9)"
   ]
  },
  {
   "cell_type": "markdown",
   "metadata": {},
   "source": [
    "## Generating exact cover problems"
   ]
  },
  {
   "cell_type": "code",
   "execution_count": null,
   "metadata": {
    "execution": {
     "iopub.execute_input": "2023-10-01T19:52:55.927698Z",
     "iopub.status.busy": "2023-10-01T19:52:55.927322Z",
     "iopub.status.idle": "2023-10-01T19:52:55.940050Z",
     "shell.execute_reply": "2023-10-01T19:52:55.939049Z",
     "shell.execute_reply.started": "2023-10-01T19:52:55.927670Z"
    }
   },
   "outputs": [],
   "source": [
    "import random\n",
    "\n",
    "# Generate the exact cover problem is to ensure\n",
    "# that the problem has at least a solution (that is, at least a set \n",
    "# of sets that cover all the elements of the domain creating a partition),\n",
    "# this is done by setting randomly $M$ rows of the matrix $A$ to \n",
    "# the canonical base of R^M.\n",
    "# The precondition for this is that N >= M.\n",
    "# The rows of the matrix A that are not set to the canonical base\n",
    "# are set randomly, each of their M cells is set to 1 or 0 with\n",
    "# a custom probability, the default one is p=0.5.\n",
    "\n",
    "def generate_exact_cover(N, M, filename, probability=0.5):\n",
    "    if M > N:\n",
    "        raise ValueError(\"M should be less than or equal to N to be sure that there is a solution\")\n",
    "    \n",
    "    # Start with an empty NxM matrix\n",
    "    matrix = [[0 for _ in range(M)] for _ in range(N)]\n",
    "    \n",
    "    # selected_rows is an array of M indexes,\n",
    "    # each index is a value between 0 and N-1\n",
    "    # and each index is unique.\n",
    "    selected_rows = random.sample(range(N), M)\n",
    "    for i, row in enumerate(selected_rows):\n",
    "        matrix[row][i] = 1\n",
    "\n",
    "    # Add noise to remaining rows\n",
    "    for i in range(N):\n",
    "        if i not in selected_rows:\n",
    "            for j in range(M):\n",
    "                matrix[i][j] = random.choices([0, 1], [1-probability, probability])[0]\n",
    "\n",
    "    # Write to file\n",
    "    with open(filename, \"w\") as f:\n",
    "        f.write(\";;; Generated exact cover problem\\n\")\n",
    "        f.write(\";;; \" + datetime.datetime.now().strftime(\"%Y-%m-%d %H:%M:%S\") + \"\\n\")\n",
    "        f.write(\";;; N = \" + str(N) + \"\\n\")\n",
    "        f.write(\";;; M = \" + str(M) + \"\\n\")\n",
    "        f.write(\";;; Solution: \" + \", \".join(map(str, selected_rows)) + \"\\n\")\n",
    "        for row in matrix:\n",
    "            f.write(\" \".join(map(str, row)) + \" -\\n\")\n",
    "    \n",
    "    return matrix"
   ]
  },
  {
   "cell_type": "code",
   "execution_count": null,
   "metadata": {
    "execution": {
     "iopub.execute_input": "2023-10-01T19:52:55.946512Z",
     "iopub.status.busy": "2023-10-01T19:52:55.946037Z",
     "iopub.status.idle": "2023-10-01T19:52:55.962647Z",
     "shell.execute_reply": "2023-10-01T19:52:55.961375Z",
     "shell.execute_reply.started": "2023-10-01T19:52:55.946460Z"
    }
   },
   "outputs": [],
   "source": [
    "# Small demonstration\n",
    "generate_exact_cover(10, 5, path_out+\"generated_exact_cover.txt\")"
   ]
  },
  {
   "cell_type": "code",
   "execution_count": null,
   "metadata": {
    "execution": {
     "iopub.execute_input": "2023-10-01T19:52:55.964421Z",
     "iopub.status.busy": "2023-10-01T19:52:55.964081Z",
     "iopub.status.idle": "2023-10-01T19:52:55.982306Z",
     "shell.execute_reply": "2023-10-01T19:52:55.980836Z",
     "shell.execute_reply.started": "2023-10-01T19:52:55.964393Z"
    }
   },
   "outputs": [],
   "source": [
    "ec_1 = generate_exact_cover(100, 15, path_out+\"generated_exact_cover.txt\")\n",
    "print(\"Generated exact cover problem:\")\n",
    "for row in ec_1:\n",
    "    for num in row[:-1]:\n",
    "        print(f\"{num},\", end=\" \")\n",
    "    print(row[-1], \"-\")"
   ]
  },
  {
   "cell_type": "code",
   "execution_count": null,
   "metadata": {
    "execution": {
     "iopub.execute_input": "2023-10-01T19:52:55.984424Z",
     "iopub.status.busy": "2023-10-01T19:52:55.983706Z",
     "iopub.status.idle": "2023-10-01T19:52:56.522287Z",
     "shell.execute_reply": "2023-10-01T19:52:56.521375Z",
     "shell.execute_reply.started": "2023-10-01T19:52:55.984374Z"
    }
   },
   "outputs": [],
   "source": [
    "%%time\n",
    "# measuring the time to solve the generated problem\n",
    "# with magic command %timeit   \n",
    "cov, _ = incremental_exact_cover(filename=path_out+\"generated_exact_cover.txt\", loadable_rows=10, verbose=False)\n",
    "print(\"Solutions:\")\n",
    "print(cov)"
   ]
  },
  {
   "cell_type": "code",
   "execution_count": null,
   "metadata": {},
   "outputs": [],
   "source": [
    "%%time\n",
    "# and with the star version\n",
    "cov, _ = incremental_exact_cover(filename=path_out+\"generated_exact_cover.txt\", loadable_rows=100, verbose=False, mode=\"star\")\n",
    "print(\"Solutions:\")\n",
    "print(cov)"
   ]
  },
  {
   "cell_type": "markdown",
   "metadata": {},
   "source": [
    "## Investigating the parameters of the algorithm"
   ]
  },
  {
   "cell_type": "markdown",
   "metadata": {},
   "source": [
    "### How does `loadable_rows` affect the algorithm?"
   ]
  },
  {
   "cell_type": "code",
   "execution_count": null,
   "metadata": {},
   "outputs": [],
   "source": [
    "AX_TITLE_FONTSIZE = 30\n",
    "XLABEL_FONTSIZE = 30\n",
    "YLABEL_FONTSIZE = 20"
   ]
  },
  {
   "cell_type": "code",
   "execution_count": null,
   "metadata": {
    "execution": {
     "iopub.execute_input": "2023-10-01T19:52:56.524119Z",
     "iopub.status.busy": "2023-10-01T19:52:56.523342Z",
     "iopub.status.idle": "2023-10-01T19:53:01.139074Z",
     "shell.execute_reply": "2023-10-01T19:53:01.137566Z",
     "shell.execute_reply.started": "2023-10-01T19:52:56.524087Z"
    }
   },
   "outputs": [],
   "source": [
    "# Creating a random exact cover problem of size NxM,\n",
    "# plotting a line chart showing how much time it takes to solve it\n",
    "# for values of loadable_rows from 1 to N with step 10\n",
    "# (contained in i_list),\n",
    "# to avoid that the order in which the problem are \n",
    "# solved (first with lower values of loadable_rows and then\n",
    "# with higher values) affects the results, we\n",
    "# give the chance to solve the problems with\n",
    "# a reversed order or with a random order\n",
    "\n",
    "import matplotlib.pyplot as plt\n",
    "import numpy as np\n",
    "import time\n",
    "\n",
    "N = 500\n",
    "M = 15\n",
    "\n",
    "def get_time_to_solve(N, M, reverse=False, diff=False, shuffle=False):\n",
    "    times = []\n",
    "    times_star = []\n",
    "\n",
    "    generate_exact_cover(N, M, path_out+\"generated_exact_cover.txt\")\n",
    "\n",
    "    i_list = range(1, N + 1, N // 10)\n",
    "    if reverse:\n",
    "        i_list = i_list[::-1]\n",
    "    if shuffle:\n",
    "        i_list = np.random.permutation(i_list)\n",
    "    for i in i_list:\n",
    "        print(f\"loadable_rows = {i}\")\n",
    "        if diff:\n",
    "            generate_exact_cover(N, M, path_out+\"generated_exact_cover.txt\")\n",
    "        start = time.time()\n",
    "        incremental_exact_cover(filename=path_out+\"generated_exact_cover.txt\", loadable_rows=i, verbose=False)\n",
    "        end = time.time()\n",
    "        start_star = time.time()\n",
    "        incremental_exact_cover(filename=path_out+\"generated_exact_cover.txt\", loadable_rows=i, verbose=False, mode=\"star\")\n",
    "        end_star = time.time()\n",
    "        times.append(end - start)\n",
    "        times_star.append(end_star - start_star)\n",
    "\n",
    "    return i_list, times, times_star"
   ]
  },
  {
   "cell_type": "code",
   "execution_count": null,
   "metadata": {},
   "outputs": [],
   "source": [
    "i_list, times, times_star = get_time_to_solve(N, M)"
   ]
  },
  {
   "cell_type": "code",
   "execution_count": null,
   "metadata": {},
   "outputs": [],
   "source": [
    "plt.xlabel(\"Loadable rows\")\n",
    "plt.ylabel(\"time (s)\")\n",
    "plt.title(f\"\")\n",
    "plt.plot(i_list, times, color='blue', label='Base')\n",
    "plt.plot(i_list, times_star, color='red', label='Star')\n",
    "plt.legend()\n",
    "plt.savefig(path_out+\"loadable_rows_time_diff.pdf\", dpi=300)\n",
    "plt.show()"
   ]
  },
  {
   "cell_type": "code",
   "execution_count": null,
   "metadata": {},
   "outputs": [],
   "source": [
    "i_list_r, times_r, times_star_r = get_time_to_solve(N, M, reverse=True)"
   ]
  },
  {
   "cell_type": "code",
   "execution_count": null,
   "metadata": {},
   "outputs": [],
   "source": [
    "plt.xlabel(\"Loadable rows\")\n",
    "plt.ylabel(\"time (s)\")\n",
    "plt.title(f\"\")\n",
    "plt.plot(i_list_r[::-1], times_r[::-1], color='blue', label='Base')\n",
    "plt.plot(i_list_r[::-1], times_star_r[::-1], color='red', label='Star')\n",
    "plt.legend()\n",
    "plt.savefig(path_out+\"loadable_rows_time_diff_rev.pdf\", dpi=300)\n",
    "plt.show()"
   ]
  },
  {
   "cell_type": "code",
   "execution_count": null,
   "metadata": {},
   "outputs": [],
   "source": [
    "i_list_s, times_s, times_star_s = get_time_to_solve(N, M, shuffle=True)"
   ]
  },
  {
   "cell_type": "code",
   "execution_count": null,
   "metadata": {},
   "outputs": [],
   "source": [
    "plt.xlabel(\"Loadable rows\")\n",
    "plt.ylabel(\"time (s)\")\n",
    "plt.title(f\"\")\n",
    "# Remember to sort the lists by i_list_s\n",
    "plt.plot(*zip(*sorted(zip(i_list_s, times_s))), color='blue', label='Base')\n",
    "plt.plot(*zip(*sorted(zip(i_list_s, times_star_s))), color='red', label='Star')\n",
    "plt.legend\n",
    "plt.savefig(path_out+\"loadable_rows_time_diff_shuffled.pdf\", dpi=300)\n",
    "plt.show()"
   ]
  },
  {
   "cell_type": "markdown",
   "metadata": {},
   "source": [
    "### How do rows and columns affect the number of explored nodes?"
   ]
  },
  {
   "cell_type": "code",
   "execution_count": null,
   "metadata": {
    "execution": {
     "iopub.execute_input": "2023-10-01T19:53:01.142290Z",
     "iopub.status.busy": "2023-10-01T19:53:01.141010Z",
     "iopub.status.idle": "2023-10-01T19:53:07.873849Z",
     "shell.execute_reply": "2023-10-01T19:53:07.872353Z",
     "shell.execute_reply.started": "2023-10-01T19:53:01.142240Z"
    }
   },
   "outputs": [],
   "source": [
    "# Creating different exact cover problems of rows from min_rows to max_rows of step\n",
    "# such that we get 5 problems for each value of rows\n",
    "# and columns from 5 to 17 with step 3,\n",
    "# so there are 25 different problems and each of them will have its number of explored nodes\n",
    "# and its number of solutions\n",
    "\n",
    "explored = []\n",
    "solutions = []\n",
    "explorable = []\n",
    "\n",
    "times = []\n",
    "times_star = []\n",
    "\n",
    "sqrtN = 5\n",
    "\n",
    "min_rows = 20\n",
    "max_rows = 500\n",
    "step_rows = (max_rows - min_rows) // sqrtN\n",
    "\n",
    "min_cols = 5\n",
    "max_cols = 20\n",
    "step_cols = (max_cols - min_cols) // sqrtN\n",
    "\n",
    "row_values = range(min_rows, max_rows, step_rows)\n",
    "col_values = range(min_cols, max_cols, step_cols)\n",
    "problems = []"
   ]
  },
  {
   "cell_type": "code",
   "execution_count": null,
   "metadata": {},
   "outputs": [],
   "source": [
    "# Solving the problems\n",
    "for rows in row_values:\n",
    "    for cols in col_values:\n",
    "        print(f\"Generating exact cover problem with {rows} rows and {cols} columns\")\n",
    "        matrix = generate_exact_cover(rows, cols, path_out+\"generated_exact_cover.txt\")\n",
    "        print(\"Solving...\")\n",
    "        start_star = time.time()\n",
    "        sol, exp = incremental_exact_cover(filename=path_out+\"generated_exact_cover.txt\", loadable_rows=10, verbose=False, mode=\"star\")\n",
    "        end_star = time.time()\n",
    "        start = time.time()\n",
    "        sol, exp = incremental_exact_cover(filename=path_out+\"generated_exact_cover.txt\", loadable_rows=10, verbose=False)\n",
    "        end = time.time()\n",
    "        times.append(end - start)\n",
    "        times_star.append(end_star - start_star)\n",
    "        explored.append((rows, cols, len(exp)))\n",
    "        solutions.append((rows, cols, len(sol)))\n",
    "        n_explable = 0\n",
    "        for node in exp:\n",
    "            if len(node) == 1:\n",
    "                n_explable += 2**node[0]\n",
    "        explorable.append((rows, cols, n_explable))"
   ]
  },
  {
   "cell_type": "code",
   "execution_count": null,
   "metadata": {},
   "outputs": [],
   "source": [
    "# Plotting the number of explored nodes\n",
    "fig, axs = plt.subplots(sqrtN, sqrtN, figsize=(20,20))\n",
    "for i, (rows, cols, exp) in enumerate(explored):\n",
    "    ax = axs[i // sqrtN][i % sqrtN]\n",
    "    ax.bar([f\"\"], [exp], color=\"green\", log=False)\n",
    "    # y_ticks in exponential format\n",
    "    ax.ticklabel_format(axis='y', style='sci', scilimits=(0,0))\n",
    "    ax.set_title(f\"{rows}x{cols}\")\n",
    "    ax.set_xlabel(f\"{exp}\")\n",
    "    ax.tick_params(axis='y', which='major')\n",
    "    ax.set_ylim(top=max([exp for _, _, exp in explored]), bottom=min([exp for _, _, exp in explored]))\n",
    "plt.savefig(path_out+\"explored_nodes.pdf\", dpi=300)\n",
    "plt.show()\n"
   ]
  },
  {
   "cell_type": "code",
   "execution_count": null,
   "metadata": {},
   "outputs": [],
   "source": [
    "# Plotting the number of solutions\n",
    "fig, axs = plt.subplots(sqrtN, sqrtN, figsize=(20, 20))\n",
    "for i, (rows, cols, sol) in enumerate(solutions):\n",
    "    ax = axs[i // sqrtN][i % sqrtN]\n",
    "    ax.bar([\"\"], [sol], color=\"violet\", log=True)\n",
    "    ax.set_title(f\"{rows}x{cols}\")\n",
    "    ax.set_xlabel(f\"{sol}\")\n",
    "    ax.tick_params(axis='y', which='major')\n",
    "    ax.set_ylim(top=max([sol for _, _, sol in solutions]), bottom=min([sol for _, _, sol in solutions]))\n",
    "plt.savefig(path_out+\"solutions.pdf\", dpi=300)\n",
    "plt.show()\n"
   ]
  },
  {
   "cell_type": "code",
   "execution_count": null,
   "metadata": {},
   "outputs": [],
   "source": [
    "# Plotting the time to solve for base and star versions (bar charts)\n",
    "fig, axs = plt.subplots(sqrtN, sqrtN, figsize=(20, 20))\n",
    "for i, (time, time_star, (rows, cols,_)) in enumerate(zip(times, times_star, solutions)):\n",
    "    ax = axs[i // sqrtN][i % sqrtN]\n",
    "    ax.bar([\"Base\", \"Star\"], [time, time_star], color=[\"blue\", \"red\"])\n",
    "    ax.tick_params(axis='both', which='major')\n",
    "    ax.set_title(f\"{rows}x{cols}\")\n",
    "    ax.set_ylim(top=max([time for time in times]))\n",
    "plt.savefig(path_out+\"time_to_solve.pdf\", dpi=300)\n",
    "plt.show()"
   ]
  },
  {
   "cell_type": "code",
   "execution_count": null,
   "metadata": {},
   "outputs": [],
   "source": [
    "# Plotting the explored nodes over explorable nodes\n",
    "fig, axs = plt.subplots(sqrtN, sqrtN, figsize=(20,20))\n",
    "for i, (rows, cols, exp) in enumerate(explored):\n",
    "    ax = axs[i // sqrtN][i % sqrtN]\n",
    "    # writing numbers in exponential notation\n",
    "    print_exp = \"{:.2e}\".format(exp)\n",
    "    ax.bar([\"{:.2e}\".format(exp), \"{:.2e}\".format(explorable[i][2])], [exp, explorable[i][2]], color=[\"green\", \"orange\"], log=True)\n",
    "    ax.tick_params(axis='both', which='major')\n",
    "    ax.set_title(f\"{rows}x{cols}\")\n",
    "    ax.set_ylim(top=10e121, bottom=min([exp for _, _, exp in explored]))\n",
    "plt.savefig(path_out+\"explored_nodes_over_explorable_nodes.pdf\", dpi=300)\n",
    "plt.show()"
   ]
  },
  {
   "cell_type": "markdown",
   "metadata": {},
   "source": [
    "To improve our understanding of how the number of explored nodes \n",
    "depends on the structure of the problem, we will \n",
    "generate random exact cover problems varying the probability\n",
    "that the cell of a row is 1. Up until now, we have been\n",
    "sampling from a uniform distribution, now we unbalance the \n",
    "distribution to see how it affects the number of explored nodes."
   ]
  },
  {
   "cell_type": "code",
   "execution_count": null,
   "metadata": {},
   "outputs": [],
   "source": [
    "# Creating different exact cover problems of rows from 20 to 100 of step 20\n",
    "# and columns from 5 to 17 with step 3,\n",
    "# so there are 25 different problems and each of them will have its number of explored nodes\n",
    "# and its number of solutions\n",
    "\n",
    "# Generating and solving the 25 exact cover problems\n",
    "explored = []\n",
    "solutions = []\n",
    "explorable = []\n",
    "\n",
    "times = []\n",
    "times_star = []\n",
    "\n",
    "sqrtN = 5\n",
    "\n",
    "min_rows = 20\n",
    "max_rows = 100\n",
    "step_rows = (max_rows - min_rows) // sqrtN\n",
    "\n",
    "# min_cols = 3\n",
    "# max_cols = 12\n",
    "# step_cols = (max_cols - min_cols) // sqrtN\n",
    "\n",
    "row_values = [100]\n",
    "col_values = [3, 5, 7, 8, 9]\n",
    "\n",
    "probabilities = range(10, 100, 20)\n",
    "\n",
    "problems = []\n",
    "\n",
    "for rows in row_values[-1:]:\n",
    "    for cols in col_values:\n",
    "        for p in probabilities:\n",
    "            print(f\"Probability: {p/100}\")\n",
    "            print(f\"Generating exact cover problem with {rows} rows and {cols} columns\")\n",
    "            matrix = generate_exact_cover(rows, cols, path_out+\"generated_exact_cover.txt\", probability=p/100)\n",
    "            print(\"Solving...\")\n",
    "            start = time.time()\n",
    "            sol, exp = incremental_exact_cover(filename=path_out+\"generated_exact_cover.txt\", loadable_rows=10, verbose=False)\n",
    "            end = time.time()\n",
    "            times.append(end - start)\n",
    "            explored.append((rows, cols, len(exp)))\n",
    "            solutions.append((rows, cols, len(sol)))"
   ]
  },
  {
   "cell_type": "code",
   "execution_count": null,
   "metadata": {},
   "outputs": [],
   "source": [
    "# Plotting in a 5x5 grid 25 bar charts, each of them showing the number of explored nodes\n",
    "# for a different exact cover problem\n",
    "fig, axs = plt.subplots(sqrtN, sqrtN, figsize=(20,20))\n",
    "for i, (rows, cols, exp) in enumerate(explored):\n",
    "    ax = axs[i // sqrtN][i % sqrtN]\n",
    "    ax.bar([f\"\"], [exp], color=\"green\", log=False)\n",
    "    # y_ticks in exponential format\n",
    "    ax.ticklabel_format(axis='y', style='sci', scilimits=(0,0))\n",
    "    ax.set_title(f\"{rows}x{cols}, p={probabilities[i % len(probabilities)]/100}\")\n",
    "    ax.set_xlabel(f\"{exp}\")\n",
    "    ax.tick_params(axis='y', which='major')\n",
    "    ax.set_ylim(top=max([exp for _, _, exp in explored]), bottom=min([exp for _, _, exp in explored]))\n",
    "plt.savefig(path_out+\"explored_nodes_prob.pdf\", dpi=300)"
   ]
  },
  {
   "cell_type": "code",
   "execution_count": null,
   "metadata": {},
   "outputs": [],
   "source": [
    "# Now, plotting the number of solutions\n",
    "fig, axs = plt.subplots(sqrtN, sqrtN, figsize=(20, 20))\n",
    "for i, (rows, cols, sol) in enumerate(solutions):\n",
    "    ax = axs[i // sqrtN][i % sqrtN]\n",
    "    ax.bar([\"\"], [sol], color=\"violet\", log=True)\n",
    "    ax.set_title(f\"{rows}x{cols}, p={probabilities[i % len(probabilities)]/100}\")\n",
    "    ax.set_xlabel(f\"{sol}\")\n",
    "    ax.tick_params(axis='y', which='major')\n",
    "    ax.set_ylim(top=max([sol for _, _, sol in solutions]), bottom=min([sol for _, _, sol in solutions]))\n",
    "plt.savefig(path_out+\"solutions_prob.pdf\", dpi=300)"
   ]
  },
  {
   "cell_type": "code",
   "execution_count": null,
   "metadata": {},
   "outputs": [],
   "source": [
    "# And now, plotting the time to solve for base only\n",
    "fig, axs = plt.subplots(sqrtN, sqrtN, figsize=(20, 20))\n",
    "for i, (time, (rows, cols,_)) in enumerate(zip(times, solutions)):\n",
    "    ax = axs[i // sqrtN][i % sqrtN]\n",
    "    ax.bar([\"\"], [time], color=\"blue\")\n",
    "    ax.tick_params(axis='both', which='major')\n",
    "    ax.set_title(f\"{rows}x{cols}, p={probabilities[i % len(probabilities)]/100}\")\n",
    "    ax.set_ylim(top=max([time for time in times]))\n",
    "    ax.set_xlabel(f\"{time}\")\n",
    "plt.savefig(path_out+\"time_to_solve_prob.pdf\", dpi=300)"
   ]
  },
  {
   "cell_type": "code",
   "execution_count": null,
   "metadata": {
    "execution": {
     "iopub.execute_input": "2023-10-01T19:53:15.317299Z",
     "iopub.status.busy": "2023-10-01T19:53:15.316985Z",
     "iopub.status.idle": "2023-10-01T19:53:15.338904Z",
     "shell.execute_reply": "2023-10-01T19:53:15.337423Z",
     "shell.execute_reply.started": "2023-10-01T19:53:15.317273Z"
    }
   },
   "outputs": [],
   "source": [
    "# Utility cell for generating an exact cover problem of custom size.\n",
    "matrix = generate_exact_cover(1000, 15, path_out+\"generated_exact_cover.txt\")"
   ]
  },
  {
   "cell_type": "code",
   "execution_count": null,
   "metadata": {
    "execution": {
     "iopub.execute_input": "2023-10-01T19:53:15.341563Z",
     "iopub.status.busy": "2023-10-01T19:53:15.341020Z",
     "iopub.status.idle": "2023-10-01T19:53:32.935514Z",
     "shell.execute_reply": "2023-10-01T19:53:32.933977Z",
     "shell.execute_reply.started": "2023-10-01T19:53:15.341516Z"
    }
   },
   "outputs": [],
   "source": [
    "%%time\n",
    "# with the base version\n",
    "print(\"Solving...\")\n",
    "%memit sol, exp = incremental_exact_cover(filename=path_out+\"generated_exact_cover.txt\", loadable_rows=10, verbose=False, filename_out=path_out+\"generated_exact_cover_out.txt\")"
   ]
  },
  {
   "cell_type": "code",
   "execution_count": null,
   "metadata": {},
   "outputs": [],
   "source": [
    "%%time\n",
    "# and with the star version\n",
    "print(\"Solving...\")\n",
    "%memit sol, exp = incremental_exact_cover(filename=path_out+\"generated_exact_cover.txt\", loadable_rows=10, verbose=False, filename_out=path_out+\"generated_exact_cover_out_star.txt\", mode=\"star\")"
   ]
  }
 ],
 "metadata": {
  "kernelspec": {
   "display_name": "Python 3 (ipykernel)",
   "language": "python",
   "name": "python3"
  },
  "language_info": {
   "codemirror_mode": {
    "name": "ipython",
    "version": 3
   },
   "file_extension": ".py",
   "mimetype": "text/x-python",
   "name": "python",
   "nbconvert_exporter": "python",
   "pygments_lexer": "ipython3",
   "version": "3.11.5"
  }
 },
 "nbformat": 4,
 "nbformat_minor": 4
}
