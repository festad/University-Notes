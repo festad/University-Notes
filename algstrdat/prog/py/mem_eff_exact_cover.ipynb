{
 "cells": [
  {
   "cell_type": "code",
   "execution_count": 1,
   "metadata": {
    "execution": {
     "iopub.execute_input": "2023-10-01T20:20:36.177291Z",
     "iopub.status.busy": "2023-10-01T20:20:36.176892Z",
     "iopub.status.idle": "2023-10-01T20:20:57.369018Z",
     "shell.execute_reply": "2023-10-01T20:20:57.367131Z",
     "shell.execute_reply.started": "2023-10-01T20:20:36.177260Z"
    }
   },
   "outputs": [],
   "source": [
    "# !pip install memory-profiler\n",
    "%load_ext memory_profiler\n",
    "\n",
    "# !pip install bitarray\n",
    "from bitarray import bitarray\n",
    "\n",
    "import datetime\n",
    "\n",
    "import numpy as np\n",
    "import matplotlib.pyplot as plt\n",
    "\n",
    "import random\n",
    "\n",
    "import time\n",
    "\n",
    "import gc\n",
    "\n",
    "import sys"
   ]
  },
  {
   "cell_type": "markdown",
   "metadata": {},
   "source": [
    "## Memory usage"
   ]
  },
  {
   "cell_type": "markdown",
   "metadata": {},
   "source": [
    "###  Arrays"
   ]
  },
  {
   "cell_type": "markdown",
   "metadata": {},
   "source": [
    "#### Built-in array of integers"
   ]
  },
  {
   "cell_type": "code",
   "execution_count": 2,
   "metadata": {
    "execution": {
     "iopub.execute_input": "2023-10-01T20:22:07.405357Z",
     "iopub.status.busy": "2023-10-01T20:22:07.404780Z",
     "iopub.status.idle": "2023-10-01T20:22:15.174954Z",
     "shell.execute_reply": "2023-10-01T20:22:15.173211Z",
     "shell.execute_reply.started": "2023-10-01T20:22:07.405291Z"
    }
   },
   "outputs": [
    {
     "name": "stdout",
     "output_type": "stream",
     "text": [
      "Size of a, Size of a[0]\n"
     ]
    },
    {
     "data": {
      "text/plain": [
       "(8056, 28)"
      ]
     },
     "execution_count": 2,
     "metadata": {},
     "output_type": "execute_result"
    }
   ],
   "source": [
    "a = [1]*1000\n",
    "print(\"Size of a, Size of a[0]\")\n",
    "sys.getsizeof(a), sys.getsizeof(a[0])"
   ]
  },
  {
   "cell_type": "markdown",
   "metadata": {},
   "source": [
    "#### Built-in array of booleans"
   ]
  },
  {
   "cell_type": "code",
   "execution_count": 3,
   "metadata": {
    "execution": {
     "iopub.execute_input": "2023-10-01T20:23:29.451168Z",
     "iopub.status.busy": "2023-10-01T20:23:29.450730Z",
     "iopub.status.idle": "2023-10-01T20:23:39.229156Z",
     "shell.execute_reply": "2023-10-01T20:23:39.226912Z",
     "shell.execute_reply.started": "2023-10-01T20:23:29.451132Z"
    }
   },
   "outputs": [
    {
     "name": "stdout",
     "output_type": "stream",
     "text": [
      "Size of b, Size of b[0]\n"
     ]
    },
    {
     "data": {
      "text/plain": [
       "(8056, 28)"
      ]
     },
     "execution_count": 3,
     "metadata": {},
     "output_type": "execute_result"
    }
   ],
   "source": [
    "b = [True]*1000\n",
    "print(\"Size of b, Size of b[0]\")\n",
    "sys.getsizeof(b), sys.getsizeof(b[0])"
   ]
  },
  {
   "cell_type": "markdown",
   "metadata": {},
   "source": [
    "#### Numpy array of bits"
   ]
  },
  {
   "cell_type": "code",
   "execution_count": 4,
   "metadata": {},
   "outputs": [
    {
     "name": "stdout",
     "output_type": "stream",
     "text": [
      "Size of p, Size of p[0]\n"
     ]
    },
    {
     "data": {
      "text/plain": [
       "(10112, 25)"
      ]
     },
     "execution_count": 4,
     "metadata": {},
     "output_type": "execute_result"
    }
   ],
   "source": [
    "p = np.ones(10_000, dtype=bool)\n",
    "print(\"Size of p, Size of p[0]\")\n",
    "sys.getsizeof(p), sys.getsizeof(p[0])"
   ]
  },
  {
   "cell_type": "markdown",
   "metadata": {},
   "source": [
    "#### Bitarray"
   ]
  },
  {
   "cell_type": "code",
   "execution_count": 5,
   "metadata": {
    "execution": {
     "iopub.execute_input": "2023-10-01T20:28:31.192301Z",
     "iopub.status.busy": "2023-10-01T20:28:31.191766Z",
     "iopub.status.idle": "2023-10-01T20:28:47.606031Z",
     "shell.execute_reply": "2023-10-01T20:28:47.604353Z",
     "shell.execute_reply.started": "2023-10-01T20:28:31.192264Z"
    }
   },
   "outputs": [
    {
     "name": "stdout",
     "output_type": "stream",
     "text": [
      "Size of c, Size of c[0]\n"
     ]
    },
    {
     "data": {
      "text/plain": [
       "(216, 28)"
      ]
     },
     "execution_count": 5,
     "metadata": {},
     "output_type": "execute_result"
    }
   ],
   "source": [
    "c = bitarray('1'*1000)\n",
    "print(\"Size of c, Size of c[0]\")\n",
    "sys.getsizeof(c), sys.getsizeof(c[0])"
   ]
  },
  {
   "cell_type": "code",
   "execution_count": 6,
   "metadata": {},
   "outputs": [
    {
     "name": "stdout",
     "output_type": "stream",
     "text": [
      "Size of i\n"
     ]
    },
    {
     "data": {
      "text/plain": [
       "28"
      ]
     },
     "execution_count": 6,
     "metadata": {},
     "output_type": "execute_result"
    }
   ],
   "source": [
    "i = 10\n",
    "print(\"Size of i\")\n",
    "sys.getsizeof(i)"
   ]
  },
  {
   "cell_type": "markdown",
   "metadata": {},
   "source": [
    "### Matrices"
   ]
  },
  {
   "cell_type": "markdown",
   "metadata": {},
   "source": [
    "#### Built-in matrix of integers"
   ]
  },
  {
   "cell_type": "code",
   "execution_count": 7,
   "metadata": {},
   "outputs": [],
   "source": [
    "N = 30\n",
    "M = 1000"
   ]
  },
  {
   "cell_type": "code",
   "execution_count": 8,
   "metadata": {},
   "outputs": [
    {
     "name": "stdout",
     "output_type": "stream",
     "text": [
      "Size of a, Size of a[0], Size of a[0][0]\n"
     ]
    },
    {
     "data": {
      "text/plain": [
       "(312, 8056, 28)"
      ]
     },
     "execution_count": 8,
     "metadata": {},
     "output_type": "execute_result"
    }
   ],
   "source": [
    "a = [[1]*M for _ in range(N)]\n",
    "print(\"Size of a, Size of a[0], Size of a[0][0]\")\n",
    "sys.getsizeof(a), sys.getsizeof(a[0]), sys.getsizeof(a[0][0])"
   ]
  },
  {
   "cell_type": "markdown",
   "metadata": {},
   "source": [
    "#### Built-in matrix of booleans"
   ]
  },
  {
   "cell_type": "code",
   "execution_count": 9,
   "metadata": {},
   "outputs": [
    {
     "name": "stdout",
     "output_type": "stream",
     "text": [
      "Size of b, Size of b[0], Size of b[0][0]\n"
     ]
    },
    {
     "data": {
      "text/plain": [
       "(312, 8056, 28)"
      ]
     },
     "execution_count": 9,
     "metadata": {},
     "output_type": "execute_result"
    }
   ],
   "source": [
    "b = [[True]*M for _ in range(N)]\n",
    "print(\"Size of b, Size of b[0], Size of b[0][0]\")\n",
    "sys.getsizeof(b), sys.getsizeof(b[0]), sys.getsizeof(b[0][0])"
   ]
  },
  {
   "cell_type": "markdown",
   "metadata": {},
   "source": [
    "#### Numpy matrix of bits"
   ]
  },
  {
   "cell_type": "code",
   "execution_count": 10,
   "metadata": {},
   "outputs": [
    {
     "name": "stdout",
     "output_type": "stream",
     "text": [
      "Size of p, Size of p[0], Size of p[0][0]\n"
     ]
    },
    {
     "data": {
      "text/plain": [
       "(30128, 112, 25)"
      ]
     },
     "execution_count": 10,
     "metadata": {},
     "output_type": "execute_result"
    }
   ],
   "source": [
    "p = np.ones((N, M), dtype=bool)\n",
    "print(\"Size of p, Size of p[0], Size of p[0][0]\")\n",
    "sys.getsizeof(p), sys.getsizeof(p[0]), sys.getsizeof(p[0][0])"
   ]
  },
  {
   "cell_type": "markdown",
   "metadata": {},
   "source": [
    "#### Bitarray matrix"
   ]
  },
  {
   "cell_type": "code",
   "execution_count": 11,
   "metadata": {},
   "outputs": [
    {
     "name": "stdout",
     "output_type": "stream",
     "text": [
      "Size of c, Size of c[0], Size of c[0][0]\n"
     ]
    },
    {
     "data": {
      "text/plain": [
       "(312, 216, 28)"
      ]
     },
     "execution_count": 11,
     "metadata": {},
     "output_type": "execute_result"
    }
   ],
   "source": [
    "c = [bitarray('1'*M) for _ in range(N)]\n",
    "print(\"Size of c, Size of c[0], Size of c[0][0]\")\n",
    "sys.getsizeof(c), sys.getsizeof(c[0]), sys.getsizeof(c[0][0])"
   ]
  },
  {
   "cell_type": "code",
   "execution_count": 12,
   "metadata": {
    "execution": {
     "iopub.execute_input": "2023-10-01T20:17:26.021657Z",
     "iopub.status.busy": "2023-10-01T20:17:26.021139Z",
     "iopub.status.idle": "2023-10-01T20:17:26.030505Z",
     "shell.execute_reply": "2023-10-01T20:17:26.028525Z",
     "shell.execute_reply.started": "2023-10-01T20:17:26.021614Z"
    }
   },
   "outputs": [],
   "source": [
    "path = \"./\"\n",
    "path_out = \"./\""
   ]
  },
  {
   "cell_type": "code",
   "execution_count": 13,
   "metadata": {
    "execution": {
     "iopub.execute_input": "2023-10-01T19:52:44.899341Z",
     "iopub.status.busy": "2023-10-01T19:52:44.898988Z",
     "iopub.status.idle": "2023-10-01T19:52:44.914346Z",
     "shell.execute_reply": "2023-10-01T19:52:44.912522Z",
     "shell.execute_reply.started": "2023-10-01T19:52:44.899313Z"
    }
   },
   "outputs": [],
   "source": [
    "class Matrix:\n",
    "    def __init__(self, data):\n",
    "        self.data = data\n",
    "        self.rows = len(data)\n",
    "        self.cols = len(data[0]) if self.rows > 0 else 0"
   ]
  },
  {
   "cell_type": "code",
   "execution_count": 14,
   "metadata": {
    "execution": {
     "iopub.execute_input": "2023-10-01T19:52:44.917376Z",
     "iopub.status.busy": "2023-10-01T19:52:44.916745Z",
     "iopub.status.idle": "2023-10-01T19:52:44.926858Z",
     "shell.execute_reply": "2023-10-01T19:52:44.925962Z",
     "shell.execute_reply.started": "2023-10-01T19:52:44.917330Z"
    }
   },
   "outputs": [],
   "source": [
    "def count_comment_lines(filename):\n",
    "    with open(filename, 'r') as f:\n",
    "        return sum(1 for line in f if line.startswith(\";;;\"))"
   ]
  },
  {
   "cell_type": "code",
   "execution_count": 15,
   "metadata": {
    "execution": {
     "iopub.execute_input": "2023-10-01T19:52:44.928607Z",
     "iopub.status.busy": "2023-10-01T19:52:44.928276Z",
     "iopub.status.idle": "2023-10-01T19:52:44.940401Z",
     "shell.execute_reply": "2023-10-01T19:52:44.938997Z",
     "shell.execute_reply.started": "2023-10-01T19:52:44.928577Z"
    }
   },
   "outputs": [],
   "source": [
    "def count_total_lines(filename):\n",
    "    with open(filename, 'r') as f:\n",
    "        return sum(1 for line in f)"
   ]
  },
  {
   "cell_type": "code",
   "execution_count": 16,
   "metadata": {
    "execution": {
     "iopub.execute_input": "2023-10-01T19:52:44.943232Z",
     "iopub.status.busy": "2023-10-01T19:52:44.942707Z",
     "iopub.status.idle": "2023-10-01T19:52:44.955547Z",
     "shell.execute_reply": "2023-10-01T19:52:44.954173Z",
     "shell.execute_reply.started": "2023-10-01T19:52:44.943188Z"
    }
   },
   "outputs": [],
   "source": [
    "def detect_columns(filename, offset):\n",
    "    with open(filename, 'r') as f:\n",
    "        for _ in range(offset):\n",
    "            next(f)  # skip lines\n",
    "        line = next(f).strip().split()\n",
    "        return len(line) - 1  # excluding the trailing \"-\""
   ]
  },
  {
   "cell_type": "code",
   "execution_count": 17,
   "metadata": {
    "execution": {
     "iopub.execute_input": "2023-10-01T19:52:44.958204Z",
     "iopub.status.busy": "2023-10-01T19:52:44.957500Z",
     "iopub.status.idle": "2023-10-01T19:52:44.972338Z",
     "shell.execute_reply": "2023-10-01T19:52:44.971387Z",
     "shell.execute_reply.started": "2023-10-01T19:52:44.958164Z"
    }
   },
   "outputs": [],
   "source": [
    "def read_file(filename, rows, cols, offset):\n",
    "    with open(filename, 'r') as f:\n",
    "        for _ in range(offset):\n",
    "            next(f)  # skip lines\n",
    "\n",
    "        data = []\n",
    "        for k in range(rows):\n",
    "            line = next(f, None)\n",
    "            if line is None:\n",
    "                break\n",
    "            numbers = list(map(int, line.strip().split()[:-1]))  # excluding the trailing \"-\"\n",
    "            \n",
    "            if len(numbers) != cols:\n",
    "                break\n",
    "                \n",
    "            bit_string = ''.join(map(str, numbers))\n",
    "            numbers = bitarray(bit_string)\n",
    "            \n",
    "            data.append(numbers)\n",
    "\n",
    "        # printing in 2d matrix format data:\n",
    "        # for row in data:\n",
    "        #     for col in row:\n",
    "        #         print(col, end=\" \")\n",
    "        #     print()\n",
    "\n",
    "        return Matrix(data)\n",
    "\n",
    "\n",
    "def read_rows_from_file(filename, cols, offset, list_idx_2_read):\n",
    "    with open(filename, 'r') as f:\n",
    "        for _ in range(offset):\n",
    "            next(f)\n",
    "\n",
    "        # To keep track of the index of the row in the file,\n",
    "        # we save a tuple containing the index and the row\n",
    "        data = []\n",
    "\n",
    "        # This time we don't have a block of rows to read\n",
    "        # but we have to read all the rows until the last one\n",
    "        # contained in list_ix_2_read, so we could range over\n",
    "        # the maximum of list_idx_2_read\n",
    "        for k in range(max(list_idx_2_read) + 1):\n",
    "            line = next(f, None)\n",
    "            if line is None:\n",
    "                break\n",
    "            if k in list_idx_2_read:\n",
    "                numbers = list(map(int, line.strip().split()[:-1]))\n",
    "                if len(numbers) != cols:\n",
    "                    print(\"Error: wrong number of columns in row\", k)\n",
    "                    break\n",
    "                    \n",
    "                bit_string = ''.join(map(str, numbers))\n",
    "                numbers = bitarray(bit_string)\n",
    "                data.append((k, numbers))\n",
    "        return data"
   ]
  },
  {
   "cell_type": "code",
   "execution_count": 18,
   "metadata": {
    "execution": {
     "iopub.execute_input": "2023-10-01T19:52:44.975046Z",
     "iopub.status.busy": "2023-10-01T19:52:44.974031Z",
     "iopub.status.idle": "2023-10-01T19:52:44.991326Z",
     "shell.execute_reply": "2023-10-01T19:52:44.989946Z",
     "shell.execute_reply.started": "2023-10-01T19:52:44.975000Z"
    }
   },
   "outputs": [],
   "source": [
    "# Returns True if two rows have a common '1', else False\n",
    "def intersect(row1, row2):\n",
    "    return (row1 & row2).any()\n",
    "\n",
    "# Return the union of two rows (bitwise OR)\n",
    "def union(row1, row2):\n",
    "    return row1 | row2"
   ]
  },
  {
   "cell_type": "code",
   "execution_count": 19,
   "metadata": {},
   "outputs": [
    {
     "data": {
      "text/plain": [
       "'01'"
      ]
     },
     "execution_count": 19,
     "metadata": {},
     "output_type": "execute_result"
    }
   ],
   "source": [
    "\"0\" + str(1)"
   ]
  },
  {
   "cell_type": "code",
   "execution_count": 20,
   "metadata": {},
   "outputs": [
    {
     "name": "stdout",
     "output_type": "stream",
     "text": [
      "[(4,), (4, 0), (4, 1), (4, 1, 0), (4, 2), (4, 2, 0), (4, 2, 1), (4, 2, 1, 0), (4, 3), (4, 3, 0), (4, 3, 1), (4, 3, 1, 0), (4, 3, 2), (4, 3, 2, 0), (4, 3, 2, 1), (4, 3, 2, 1, 0), (2,), (2, 0), (2, 1), (2, 1, 0), (3,), (3, 0), (3, 1), (3, 1, 0), (3, 2), (3, 2, 0), (3, 2, 1), (3, 2, 1, 0)]\n",
      "----------------\n",
      "2\n",
      "----------------\n",
      "8\n",
      "----------------\n",
      "16\n",
      "----------------\n"
     ]
    }
   ],
   "source": [
    "# Conceptual function showing the nodes \n",
    "# that would be visited, in lexical order,\n",
    "# without any pruning.\n",
    "\n",
    "def EC_full_visit(nodes=[]):\n",
    "    visited = []\n",
    "    for node in nodes:\n",
    "        visited.append((node,))\n",
    "        full_explore(node, radix=(node,), visited=visited)\n",
    "    return visited\n",
    "\n",
    "\n",
    "def full_explore(node, radix=(), visited=[]):\n",
    "    for j in range(node):\n",
    "        v_node = radix + (j,)\n",
    "        visited.append(v_node)\n",
    "        if j == 0:\n",
    "            continue\n",
    "        else:\n",
    "            full_explore(j, v_node, visited)\n",
    "\n",
    "def EC_light_full_visit(nodes=0):\n",
    "    n_visited = 0\n",
    "    for node in range(nodes):\n",
    "        n_visited += 1\n",
    "        n_visited += full_explore_light(node)\n",
    "    return n_visited+1\n",
    "\n",
    "def full_explore_light(node):\n",
    "    n_visited = 0\n",
    "    for j in range(node):\n",
    "        n_visited += 1\n",
    "        if j == 0:\n",
    "            continue\n",
    "        else:\n",
    "            n_visited += full_explore_light(j)\n",
    "    return n_visited\n",
    "\n",
    "\n",
    "\n",
    "print(EC_full_visit([4, 2, 3]))\n",
    "print(\"----------------\")\n",
    "print(EC_light_full_visit(1))\n",
    "print(\"----------------\")\n",
    "print(EC_light_full_visit(3))\n",
    "print(\"----------------\")\n",
    "print(EC_light_full_visit(4))\n",
    "print(\"----------------\")\n"
   ]
  },
  {
   "cell_type": "code",
   "execution_count": 21,
   "metadata": {},
   "outputs": [
    {
     "data": {
      "image/png": "[encoded data removed]",
      "text/plain": [
       "<Figure size 640x480 with 1 Axes>"
      ]
     },
     "metadata": {},
     "output_type": "display_data"
    }
   ],
   "source": [
    "# Plotting the number of nodes visited by the full exploration\n",
    "# of the search tree, as a function of the number of nodes in the\n",
    "# graph.\n",
    "n_visited = []\n",
    "for i in range(1, 10):\n",
    "    n_visited.append(EC_light_full_visit(i))\n",
    "plt.plot(range(1, 10), n_visited)\n",
    "plt.xlabel(\"Number of nodes\")\n",
    "plt.ylabel(\"Number of nodes visited\")\n",
    "plt.show()"
   ]
  },
  {
   "cell_type": "markdown",
   "metadata": {},
   "source": [
    "The previous functions will not be used, but they helped to understand the number of explorable nodes,\n",
    "which is **exponential**: $2^n$."
   ]
  },
  {
   "cell_type": "code",
   "execution_count": 22,
   "metadata": {
    "execution": {
     "iopub.execute_input": "2023-10-01T19:52:44.994412Z",
     "iopub.status.busy": "2023-10-01T19:52:44.993315Z",
     "iopub.status.idle": "2023-10-01T19:52:45.016350Z",
     "shell.execute_reply": "2023-10-01T19:52:45.014938Z",
     "shell.execute_reply.started": "2023-10-01T19:52:44.994363Z"
    }
   },
   "outputs": [],
   "source": [
    "def EC(A, B, COV, offset, FILE_NAME, LOADABLE_ROWS, explored=[], max_explorations=-1):\n",
    "    N = A.rows\n",
    "    M = A.cols\n",
    "\n",
    "    # Size of A\n",
    "    # print(\"Size of A: \", sys.getsizeof(A.data), sys.getsizeof(A.data[0]))\n",
    "\n",
    "    # Size of B\n",
    "    # print(\"Size of B: \", sys.getsizeof(B), sys.getsizeof(B[0]))\n",
    "\n",
    "    comment_lines = count_comment_lines(FILE_NAME)\n",
    "    # exploration_times = []\n",
    "\n",
    "    for i in range(N):\n",
    "        row_data = A.data[i]\n",
    "\n",
    "\n",
    "        if sum(row_data) == 0:\n",
    "            for t in range(N):\n",
    "                B[t][i+offset] = 0\n",
    "                B[i+offset][t] = 0\n",
    "            continue\n",
    "\n",
    "        explored.append((offset + i,))\n",
    "\n",
    "        if sum(row_data) == M:\n",
    "            for t in range(N):\n",
    "                B[t][i+offset] = 0\n",
    "                B[i+offset][t] = 0\n",
    "            COV.add((offset + i,))\n",
    "            continue\n",
    "\n",
    "        reading_offset = 0\n",
    "        # For testing purposes, let's set LOADAABLE_ROWS to 1\n",
    "        # LOADABLE_ROWS = 1\n",
    "        # Using LOADABLE_ROWS=1 makes everything fast even when\n",
    "        # LOADABLE_ROWS outside of this function is large,\n",
    "        # so the problems that LOADABLE_ROWS being large generates\n",
    "        # are only in here, but the good thing is that we can actually\n",
    "        # set a LOADABLE_ROWS inside here and a different one outside!\n",
    "        # UPDATE!!  \n",
    "        # It's LOADABLE_ROWS used inside explore() that matters, not the one used\n",
    "        # inside the while loop by itself, se we can just pass 1 instead of LOADABLE_ROWS\n",
    "        # to explore and keep the larger one here!\n",
    "        while reading_offset < i + offset:\n",
    "\n",
    "            old_A = read_file(FILE_NAME, LOADABLE_ROWS, M, reading_offset+comment_lines)\n",
    "            # Size of old_A\n",
    "            # print(\"Size of old_A: \", sys.getsizeof(old_A.data), sys.getsizeof(old_A.data[0]))\n",
    "\n",
    "            for j in range(min(old_A.rows, i + offset - reading_offset)):\n",
    "\n",
    "                explored.append((offset + i, j + reading_offset))\n",
    "\n",
    "                old_row_data = old_A.data[j]\n",
    "\n",
    "                if sum(old_row_data) in [0, M]:\n",
    "                    continue\n",
    "\n",
    "                if intersect(old_row_data, row_data):\n",
    "                    B[j + reading_offset][i + offset] = 0\n",
    "                else:\n",
    "                    I = (offset + i, j + reading_offset)\n",
    "                    U = union(old_row_data, row_data)\n",
    "                    if sum(U) == M:\n",
    "                        COV.add(tuple(sorted(I)))\n",
    "                        B[j + reading_offset][i + offset] = 0\n",
    "                    else:\n",
    "                        B[j + reading_offset][i + offset] = 1\n",
    "                        inter = [k for k in range(j + reading_offset) if B[k][i + offset] and B[k][j + reading_offset]]\n",
    "                        if inter:\n",
    "                            k_A = read_rows_from_file(FILE_NAME, M, comment_lines, inter)\n",
    "\n",
    "                            # Size of k_A\n",
    "                            # print(\"Size of k_A: \", sys.getsizeof(k_A), sys.getsizeof(k_A[0]))\n",
    "                            \n",
    "                            # print(\"inter from EC: \", inter)\n",
    "                            # print(\"k_A from EC: \", k_A)\n",
    "                            # k_A is a list of tuples (index, row)\n",
    "                            # start_explore_time = datetime.datetime.now()\n",
    "                            explore(I, U, inter, COV, k_A, B, offset, old_A.cols, FILE_NAME, 1, explored, max_explorations)\n",
    "                            if max_explorations != -1 and len(explored) >= max_explorations:\n",
    "                                print(\"Max explorations reached\")\n",
    "                                print(\"I: \", I)\n",
    "                                print(\"COV:\", COV)\n",
    "                                return COV\n",
    "                            # end_explore_time = datetime.datetime.now()\n",
    "                            # exploration_times.append(end_explore_time - start_explore_time)\n",
    "            # del old_A\n",
    "            reading_offset += LOADABLE_ROWS\n",
    "\n",
    "    # if len(exploration_times) > 0:\n",
    "        # print(\"Number of started explorations: \", len(exploration_times))\n",
    "        # print(\"Average exploration time: \", sum(exploration_times, datetime.timedelta(0)) / len(exploration_times))\n",
    "    # gc.collect()\n",
    "\n",
    "    # Size of COV\n",
    "    # print(\"Size of COV: \", sys.getsizeof(COV))\n",
    "    return\n",
    "\n",
    "\n",
    "def explore(I, U, inter, COV, k_A, B, offset, M, FILE_NAME, LOADABLE_ROWS=1, explored=[], max_explorations=-1):\n",
    "    if max_explorations != -1 and len(explored) >= max_explorations:\n",
    "        # print(\"Max explorations reached\")\n",
    "        # print(\"I: \", I)\n",
    "        # print(\"COV:\", COV)\n",
    "        return\n",
    "\n",
    "    # if I in explored:\n",
    "    #     print(\"Already explored\")\n",
    "    #     return\n",
    "\n",
    "    # Growing the list of explored sets\n",
    "    if explored[-1] != tuple(I):\n",
    "        explored.append(tuple(I))   \n",
    "\n",
    "    # comment_lines = count_comment_lines(FILE_NAME)\n",
    "    for k in inter:\n",
    "\n",
    "        i_temp = I + (k,)\n",
    "        # if len(I) != len(I.union({k})):\n",
    "        #     print(\"I and I.union({k}) have same dimension\")\n",
    "        \n",
    "        # chunk_index = (k // LOADABLE_ROWS) * LOADABLE_ROWS\n",
    "        # chunk = read_file(FILE_NAME, LOADABLE_ROWS, M, chunk_index + comment_lines)\n",
    "        # row_data = chunk.data[k % LOADABLE_ROWS]\n",
    "\n",
    "\n",
    "        # Maybe instead of reading from the file k times\n",
    "        # we can just read once the k rows and\n",
    "\n",
    "        # in k_A we find the element containing k as the\n",
    "        # first element of the tuple and we take the second\n",
    "        # element of the tuple, which is the row\n",
    "        # print(\"inter: \", inter)\n",
    "        # print(\"k: \", k)\n",
    "        # print(\"k_A: \", k_A)\n",
    "        \n",
    "        row_data = [row for index, row in k_A if index == k][0]\n",
    "\n",
    "        \n",
    "        u_temp = union(U, row_data)\n",
    "        if sum(u_temp) == M:\n",
    "            COV.add(tuple(sorted(i_temp)))\n",
    "            explored.append(i_temp)\n",
    "        else:\n",
    "            inter_temp = [l for l in inter if l < k and B[l][k]]\n",
    "            if inter_temp:\n",
    "                explore(i_temp, u_temp, inter_temp, COV, k_A, B, offset, M, FILE_NAME, LOADABLE_ROWS, explored)\n",
    "\n"
   ]
  },
  {
   "cell_type": "code",
   "execution_count": 23,
   "metadata": {},
   "outputs": [],
   "source": [
    "def EC_star(A, B, COV, offset, FILE_NAME, LOADABLE_ROWS, explored=[], max_explorations=-1, card=[]):\n",
    "    N = A.rows\n",
    "    M = A.cols\n",
    "\n",
    "    # Size of A\n",
    "    # print(\"Size of A: \", sys.getsizeof(A.data), sys.getsizeof(A.data[0]))\n",
    "\n",
    "    # Size of B\n",
    "    # print(\"Size of B: \", sys.getsizeof(B), sys.getsizeof(B[0]))\n",
    "\n",
    "    comment_lines = count_comment_lines(FILE_NAME)\n",
    "    # exploration_times = []\n",
    "\n",
    "    for i in range(N):\n",
    "        row_data = A.data[i]\n",
    "\n",
    "\n",
    "        if sum(row_data) == 0:\n",
    "            for t in range(N):\n",
    "                B[t][i+offset] = 0\n",
    "                B[i+offset][t] = 0\n",
    "            continue\n",
    "\n",
    "        explored.append((offset + i,))\n",
    "\n",
    "        if sum(row_data) == M:\n",
    "            for t in range(N):\n",
    "                B[t][i+offset] = 0\n",
    "                B[i+offset][t] = 0\n",
    "            COV.add((offset + i,))\n",
    "            continue\n",
    "\n",
    "        # card[i] contains the cardinality of the i-th row of A,\n",
    "        # the cardinality is the number of 1s in the row\n",
    "\n",
    "        card[i+offset] = sum(row_data)\n",
    "\n",
    "        reading_offset = 0\n",
    "        # For testing purposes, let's set LOADAABLE_ROWS to 1\n",
    "        # LOADABLE_ROWS = 1\n",
    "        # Using LOADABLE_ROWS=1 makes everything fast even when\n",
    "        # LOADABLE_ROWS outside of this function is large,\n",
    "        # so the problems that LOADABLE_ROWS being large generates\n",
    "        # are only in here, but the good thing is that we can actually\n",
    "        # set a LOADABLE_ROWS inside here and a different one outside!\n",
    "        # UPDATE!!  \n",
    "        # It's LOADABLE_ROWS used inside explore() that matters, not the one used\n",
    "        # inside the while loop by itself, se we can just pass 1 instead of LOADABLE_ROWS\n",
    "        # to explore and keep the larger one here!\n",
    "        while reading_offset < i + offset:\n",
    "\n",
    "            old_A = read_file(FILE_NAME, LOADABLE_ROWS, M, reading_offset+comment_lines)\n",
    "            # Size of old_A\n",
    "            # print(\"Size of old_A: \", sys.getsizeof(old_A.data), sys.getsizeof(old_A.data[0]))\n",
    "\n",
    "            for j in range(min(old_A.rows, i + offset - reading_offset)):\n",
    "\n",
    "                explored.append((offset + i, j + reading_offset))\n",
    "\n",
    "                old_row_data = old_A.data[j]\n",
    "\n",
    "                if sum(old_row_data) in [0, M]:\n",
    "                    continue\n",
    "\n",
    "                if intersect(old_row_data, row_data):\n",
    "                    B[j + reading_offset][i + offset] = 0\n",
    "                else:\n",
    "                    I = (offset + i, j + reading_offset)\n",
    "                    card_U = card[i+offset] + card[j+reading_offset]\n",
    "                    if card_U == M:\n",
    "                        COV.add(tuple(sorted(I)))\n",
    "                        B[j + reading_offset][i + offset] = 0\n",
    "                    else:\n",
    "                        B[j + reading_offset][i + offset] = 1\n",
    "                        inter = [k for k in range(j + reading_offset) if B[k][i + offset] and B[k][j + reading_offset]]\n",
    "                        if inter:\n",
    "                            k_A = read_rows_from_file(FILE_NAME, M, comment_lines, inter)\n",
    "\n",
    "                            # Size of k_A\n",
    "                            # print(\"Size of k_A: \", sys.getsizeof(k_A), sys.getsizeof(k_A[0]))\n",
    "                            \n",
    "                            # print(\"inter from EC: \", inter)\n",
    "                            # print(\"k_A from EC: \", k_A)\n",
    "                            # k_A is a list of tuples (index, row)\n",
    "                            # start_explore_time = datetime.datetime.now()\n",
    "                            explore_star(I, card_U, inter, COV, k_A, B, offset, old_A.cols, FILE_NAME, 1, explored, max_explorations, card)\n",
    "                            if max_explorations != -1 and len(explored) >= max_explorations:\n",
    "                                print(\"Max explorations reached\")\n",
    "                                print(\"I: \", I)\n",
    "                                print(\"COV:\", COV)\n",
    "                                return COV\n",
    "                            # end_explore_time = datetime.datetime.now()\n",
    "                            # exploration_times.append(end_explore_time - start_explore_time)\n",
    "            # del old_A\n",
    "            reading_offset += LOADABLE_ROWS\n",
    "\n",
    "    # if len(exploration_times) > 0:\n",
    "        # print(\"Number of started explorations: \", len(exploration_times))\n",
    "        # print(\"Average exploration time: \", sum(exploration_times, datetime.timedelta(0)) / len(exploration_times))\n",
    "    # gc.collect()\n",
    "\n",
    "    # Size of COV\n",
    "    # print(\"Size of COV: \", sys.getsizeof(COV))\n",
    "    return\n",
    "\n",
    "\n",
    "def explore_star(I, card_U, inter, COV, k_A, B, offset, M, FILE_NAME, LOADABLE_ROWS=1, explored=[], max_explorations=-1, card=[]):\n",
    "    if max_explorations != -1 and len(explored) >= max_explorations:\n",
    "        # print(\"Max explorations reached\")\n",
    "        # print(\"I: \", I)\n",
    "        # print(\"COV:\", COV)\n",
    "        return\n",
    "\n",
    "    # if I in explored:\n",
    "    #     print(\"Already explored\")\n",
    "    #     return\n",
    "\n",
    "    # Growing the list of explored sets\n",
    "    if explored[-1] != tuple(I):\n",
    "        explored.append(tuple(I))   \n",
    "\n",
    "    # comment_lines = count_comment_lines(FILE_NAME)\n",
    "    for k in inter:\n",
    "\n",
    "        i_temp = I + (k,)\n",
    "        \n",
    "        # chunk_index = (k // LOADABLE_ROWS) * LOADABLE_ROWS\n",
    "        # chunk = read_file(FILE_NAME, LOADABLE_ROWS, M, chunk_index + comment_lines)\n",
    "        # row_data = chunk.data[k % LOADABLE_ROWS]\n",
    "\n",
    "\n",
    "        # Maybe instead of reading from the file k times\n",
    "        # we can just read once the k rows and\n",
    "\n",
    "        # in k_A we find the element containing k as the\n",
    "        # first element of the tuple and we take the second\n",
    "        # element of the tuple, which is the row\n",
    "        # print(\"inter: \", inter)\n",
    "        # print(\"k: \", k)\n",
    "        # print(\"k_A: \", k_A)\n",
    "        \n",
    "        row_data = [row for index, row in k_A if index == k][0]\n",
    "\n",
    "        card_temp = card_U + sum(row_data)\n",
    "\n",
    "        if card_temp == M:\n",
    "            COV.add(tuple(sorted(i_temp)))\n",
    "            explored.append(i_temp)\n",
    "        else:\n",
    "            inter_temp = [l for l in inter if l < k and B[l][k]]\n",
    "            if inter_temp:\n",
    "                explore_star(i_temp, card_temp, inter_temp, COV, k_A, B, offset, M, FILE_NAME, LOADABLE_ROWS, explored, max_explorations, card)\n",
    "\n"
   ]
  },
  {
   "cell_type": "code",
   "execution_count": 24,
   "metadata": {
    "execution": {
     "iopub.execute_input": "2023-10-01T19:52:45.021858Z",
     "iopub.status.busy": "2023-10-01T19:52:45.021202Z",
     "iopub.status.idle": "2023-10-01T19:52:45.037979Z",
     "shell.execute_reply": "2023-10-01T19:52:45.036295Z",
     "shell.execute_reply.started": "2023-10-01T19:52:45.021818Z"
    }
   },
   "outputs": [],
   "source": [
    "def incremental_process(A, B, COV, offset, FILE_NAME, LOADABLE_ROWS, explored=set(), max_explorations=-1, mode=\"base\", card=[]):\n",
    "    \n",
    "    # Find exact covers within the new chunk\n",
    "    if mode == \"base\":\n",
    "        EC(A, B, COV, offset, FILE_NAME, LOADABLE_ROWS, explored, max_explorations)\n",
    "    elif mode == \"star\":\n",
    "        EC_star(A, B, COV, offset, FILE_NAME, LOADABLE_ROWS, explored, max_explorations, card)\n",
    "    # print(\"Chunk COV:\", chunk_COV)\n",
    "    # COV.update(chunk_COV)\n",
    "\n",
    "    return COV"
   ]
  },
  {
   "cell_type": "code",
   "execution_count": 25,
   "metadata": {
    "execution": {
     "iopub.execute_input": "2023-10-01T19:52:45.041787Z",
     "iopub.status.busy": "2023-10-01T19:52:45.040688Z",
     "iopub.status.idle": "2023-10-01T19:52:45.058391Z",
     "shell.execute_reply": "2023-10-01T19:52:45.057111Z",
     "shell.execute_reply.started": "2023-10-01T19:52:45.041729Z"
    }
   },
   "outputs": [],
   "source": [
    "# Creating a function that takes a filename and a number of loadable rows\n",
    "# and solves the exact cover problem incrementally:\n",
    "\n",
    "def incremental_exact_cover(filename, loadable_rows, verbose=False, explored=set(), max_explorations=-1, filename_out=None, mode=\"base\", ratio=False):\n",
    "\n",
    "    # Counting the comments\n",
    "    comment_lines = count_comment_lines(filename)\n",
    "    \n",
    "    # Detecting the number of columns\n",
    "    n_columns = detect_columns(filename, comment_lines)\n",
    "    print(f\"Total columns: {n_columns}\")\n",
    "\n",
    "    # Counting the total number of rows\n",
    "    total_rows = count_total_lines(filename) - comment_lines\n",
    "    print(f\"Total rows: {total_rows}\")\n",
    "\n",
    "    # Starting to write on the output file rows and columns\n",
    "    if filename_out is not None:\n",
    "        with open(filename_out, 'w') as f:\n",
    "            f.write(\"*********************************\\n\")\n",
    "            f.write(\"*            PROBLEM            *\\n\")\n",
    "            f.write(\"*********************************\\n\")\n",
    "            f.write(datetime.datetime.now().strftime(\"%Y-%m-%d %H:%M:%S\") + \"\\n\")\n",
    "            f.write(f\"Sets: {total_rows}\\nDomain cardinality: {n_columns}\\n\")\n",
    "\n",
    "    # Initializing the matrix B\n",
    "    B = [bitarray('0'*total_rows) for _ in range(total_rows)]\n",
    "\n",
    "    # # Setting elements of B under the diagonal to -1\n",
    "    # # for testing purposes\n",
    "    # for i in range(total_rows):\n",
    "    #     for j in range(i):\n",
    "    #         B[i][j] = -1\n",
    "\n",
    "    # Initializing the set of visited nodes\n",
    "    explored = []\n",
    "\n",
    "    # Initializing the set of partitions (solutions)\n",
    "    COV = set()\n",
    "\n",
    "    # Initializing the cardinality array\n",
    "    # when mode is \"star\"\n",
    "    # if mode == \"star\":\n",
    "    card = [0]*total_rows\n",
    "\n",
    "\n",
    "    # Initializing the offset\n",
    "    offset = 0\n",
    "\n",
    "    while True:\n",
    "        matrix = read_file(filename, loadable_rows, n_columns, offset+comment_lines)\n",
    "        if not matrix.data:\n",
    "            break\n",
    "\n",
    "        if verbose:\n",
    "            print(\"Portion of A read: from row\", offset+1, \"to row\", offset+matrix.rows)\n",
    "        # for i in range(matrix.rows):\n",
    "        #     print(matrix.data[i * matrix.cols:i * matrix.cols + matrix.cols])\n",
    "        # print(\"Found complete sets:\", matrix.ones)\n",
    "\n",
    "        # Writing all the rows of the matrix preceded by \"#{index}-> \"\n",
    "        if filename_out is not None:\n",
    "            with open(filename_out, 'a') as f:\n",
    "                for i, row in enumerate(matrix.data):\n",
    "                    f.write(f\"#{i+offset}-> \")\n",
    "                    for col in row:\n",
    "                        f.write(f\"{col} \")\n",
    "                    f.write(\"\\n\")\n",
    "\n",
    "        incremental_process(matrix, B, COV, offset, filename, loadable_rows, explored, max_explorations, mode=mode, card=card)\n",
    "\n",
    "        if len(explored) >= max_explorations and max_explorations != -1:\n",
    "            # print(\"Max explorations reached\")\n",
    "            # print(\"I: \", I)\n",
    "            # print(\"COV:\", COV)\n",
    "            return COV, explored\n",
    "\n",
    "        if verbose:\n",
    "            print(\"Explored:\", len(explored))\n",
    "\n",
    "            print(\"B:\")\n",
    "            for row in B:\n",
    "                print(row)\n",
    "\n",
    "            print(\"COV:\")\n",
    "            print(COV)\n",
    "\n",
    "        offset += matrix.rows\n",
    "\n",
    "    print(\"Explored:\", len(explored))\n",
    "\n",
    "    if verbose:\n",
    "        print(\"Size of COV: \", sys.getsizeof(COV))\n",
    "        print(\"Explored nodes:\\n\", explored)\n",
    "        print(\"Solutions:\", COV)\n",
    "\n",
    "    print(\"#solutions:\", len(COV))\n",
    "\n",
    "    # print(\"B:\")\n",
    "    # for row in B:\n",
    "    #     print(row)\n",
    "\n",
    "    # print(\"COV:\")\n",
    "    # print(COV)\n",
    "\n",
    "    # Listing the explorable nodes to compare with the\n",
    "    # actual explored nodes\n",
    "    # First, taking all the explored radix nodes (the tuples\n",
    "    # in the list explored\n",
    "    # containing only one element)\n",
    "    if ratio:\n",
    "        n_explorable = 0\n",
    "        # explorable_parents = [node[0] for node in explored if len(node) == 1]\n",
    "        # explorable = EC_full_visit(explorable_parents)\n",
    "        for node in explored:\n",
    "            if len(node) == 1:\n",
    "                n_explorable += 2**node[0]\n",
    "\n",
    "    if filename_out is not None:\n",
    "        with open(filename_out, 'a') as f:\n",
    "            f.write(\"*********************************\\n\")\n",
    "            f.write(\"*            SOLUTIONS          *\\n\")\n",
    "            f.write(\"*********************************\\n\")\n",
    "            f.write(f\"#solutions: {len(COV)}\\n\")\n",
    "            f.write(\"Solutions:\\n\")\n",
    "            for solution in COV:\n",
    "                f.write(f\"{solution}\\n\")\n",
    "            f.write(\"*********************************\\n\")\n",
    "            f.write(\"*         EXPLORED NODES        *\\n\")\n",
    "            f.write(\"*********************************\\n\")\n",
    "            f.write(f\"#explored nodes: {len(explored)}\\n\")\n",
    "            if ratio:\n",
    "                f.write(f\"#explorable nodes: {n_explorable}\\n\")\n",
    "                f.write(f\"Ratio of explored nodes:{len(explored) / n_explorable}\\n\")\n",
    "            f.write(\"Explored nodes:\\n\")\n",
    "            for node in explored:\n",
    "                f.write(f\"{node}\\n\")\n",
    "            f.write(\"*********************************\\n\")\n",
    "            f.write(\"*            MATRIX B           *\\n\")\n",
    "            f.write(\"*********************************\\n\")\n",
    "            for row in B:\n",
    "                for col in row:\n",
    "                    f.write(f\"{col} \")\n",
    "                f.write(\"\\n\")\n",
    "\n",
    "    return COV, explored"
   ]
  },
  {
   "cell_type": "markdown",
   "metadata": {},
   "source": [
    "When `loadable_rows` is large the number of times the while loop is executed as a whole is the same\n",
    "as when the `loadable_rows` is small but the number of iterations of the while loop is smaller,\n",
    "but the time it takes for each iteration is much longer.\n",
    "\n",
    "When `loadable_rows` is small, the number of iterations of the while loop is larger but the time it takes for\n",
    "each iteration is much shorter.\n",
    "\n",
    "What might be the cause of the while loop taking longer? \n",
    "The first thing that comes to mind is the `explore` function, which is called from the while loop.\n",
    "\n",
    "After a more accurate analysis, when `loadable_rows` is small, `EC` is called multiple times\n",
    "and every timme it is invoked, `explore` is also invoked different times, and the sum of those\n",
    "times it's the same as the sum of times `explore` is invoked when `loadable_rows` is large and `EC` is\n",
    "called just once.\n",
    "\n",
    "After measuring the time it takes for each `explore` invoked from `EC` to finish, it results\n",
    "that in average it takes more time for each `explore` to finish when `loadable_rows` is large than\n",
    "when `loadable_rows` is small."
   ]
  },
  {
   "cell_type": "code",
   "execution_count": 26,
   "metadata": {
    "execution": {
     "iopub.execute_input": "2023-10-01T19:52:45.060600Z",
     "iopub.status.busy": "2023-10-01T19:52:45.059859Z",
     "iopub.status.idle": "2023-10-01T19:52:45.089311Z",
     "shell.execute_reply": "2023-10-01T19:52:45.087017Z",
     "shell.execute_reply.started": "2023-10-01T19:52:45.060565Z"
    }
   },
   "outputs": [
    {
     "name": "stdout",
     "output_type": "stream",
     "text": [
      "[(0, bitarray('1010000001'))]\n"
     ]
    }
   ],
   "source": [
    "data = read_rows_from_file(path+\"ec_instance.txt\", cols=10, offset=1, list_idx_2_read=[0])\n",
    "print(data)"
   ]
  },
  {
   "cell_type": "code",
   "execution_count": 27,
   "metadata": {
    "execution": {
     "iopub.execute_input": "2023-10-01T19:52:45.091384Z",
     "iopub.status.busy": "2023-10-01T19:52:45.090603Z",
     "iopub.status.idle": "2023-10-01T19:52:45.182840Z",
     "shell.execute_reply": "2023-10-01T19:52:45.181643Z",
     "shell.execute_reply.started": "2023-10-01T19:52:45.091349Z"
    }
   },
   "outputs": [
    {
     "name": "stdout",
     "output_type": "stream",
     "text": [
      "Total columns: 10\n",
      "Total rows: 8\n",
      "Portion of A read: from row 1 to row 8\n",
      "Explored: 40\n",
      "B:\n",
      "bitarray('01111000')\n",
      "bitarray('00010110')\n",
      "bitarray('00001010')\n",
      "bitarray('00000001')\n",
      "bitarray('00000101')\n",
      "bitarray('00000011')\n",
      "bitarray('00000000')\n",
      "bitarray('00000000')\n",
      "COV:\n",
      "{(1, 5, 6), (0, 1, 3), (4, 5, 7), (0, 2, 4)}\n",
      "Explored: 40\n",
      "Size of COV:  216\n",
      "Explored nodes:\n",
      " [(0,), (1,), (1, 0), (2,), (2, 0), (2, 1), (3,), (3, 0), (3, 1), (3, 1, 0), (3, 2), (4,), (4, 0), (4, 1), (4, 2), (4, 2, 0), (4, 3), (5,), (5, 0), (5, 1), (5, 2), (5, 3), (5, 4), (6,), (6, 0), (6, 1), (6, 2), (6, 3), (6, 4), (6, 5), (6, 5, 1), (7,), (7, 0), (7, 1), (7, 2), (7, 3), (7, 4), (7, 5), (7, 5, 4), (7, 6)]\n",
      "Solutions: {(1, 5, 6), (0, 1, 3), (4, 5, 7), (0, 2, 4)}\n",
      "#solutions: 4\n",
      "Solutions:\n",
      "S_2, S_6, S_7\n",
      "S_1, S_2, S_4\n",
      "S_5, S_6, S_8\n",
      "S_1, S_3, S_5\n"
     ]
    }
   ],
   "source": [
    "# Testing the resolution on a small instance\n",
    "\n",
    "# 1 0 1 0 0 0 0 0 0 1 -\n",
    "# 0 0 0 1 0 0 1 1 1 0 -\n",
    "# 0 1 0 1 0 0 0 1 0 0 -\n",
    "# 0 1 0 0 1 1 0 0 0 0 -\n",
    "# 0 0 0 0 1 1 1 0 1 0 -\n",
    "# 0 1 1 0 0 0 0 0 0 1 -\n",
    "# 1 0 0 0 1 1 0 0 0 0 -\n",
    "# 1 0 0 1 0 0 0 1 0 0 -\n",
    "\n",
    "cov, explored = incremental_exact_cover(path+\"ec_instance.txt\", loadable_rows=10, verbose=True, max_explorations=-1, filename_out=path_out+\"ec_instance_out.txt\", ratio=True)\n",
    "\n",
    "print(\"Solutions:\")\n",
    "for solution in cov:\n",
    "    sets = [f\"S_{i+1}\" for i in solution]\n",
    "    print(\", \".join(sets))"
   ]
  },
  {
   "cell_type": "code",
   "execution_count": 28,
   "metadata": {},
   "outputs": [
    {
     "data": {
      "text/plain": [
       "[(0,),\n",
       " (1,),\n",
       " (1, 0),\n",
       " (2,),\n",
       " (2, 0),\n",
       " (2, 1),\n",
       " (3,),\n",
       " (3, 0),\n",
       " (3, 1),\n",
       " (3, 1, 0),\n",
       " (3, 2),\n",
       " (4,),\n",
       " (4, 0),\n",
       " (4, 1),\n",
       " (4, 2),\n",
       " (4, 2, 0),\n",
       " (4, 3),\n",
       " (5,),\n",
       " (5, 0),\n",
       " (5, 1),\n",
       " (5, 2),\n",
       " (5, 3),\n",
       " (5, 4),\n",
       " (6,),\n",
       " (6, 0),\n",
       " (6, 1),\n",
       " (6, 2),\n",
       " (6, 3),\n",
       " (6, 4),\n",
       " (6, 5),\n",
       " (6, 5, 1),\n",
       " (7,),\n",
       " (7, 0),\n",
       " (7, 1),\n",
       " (7, 2),\n",
       " (7, 3),\n",
       " (7, 4),\n",
       " (7, 5),\n",
       " (7, 5, 4),\n",
       " (7, 6)]"
      ]
     },
     "execution_count": 28,
     "metadata": {},
     "output_type": "execute_result"
    }
   ],
   "source": [
    "explored"
   ]
  },
  {
   "cell_type": "code",
   "execution_count": 29,
   "metadata": {},
   "outputs": [
    {
     "name": "stdout",
     "output_type": "stream",
     "text": [
      "Total columns: 10\n",
      "Total rows: 8\n",
      "Portion of A read: from row 1 to row 8\n",
      "Explored: 40\n",
      "B:\n",
      "bitarray('01111000')\n",
      "bitarray('00010110')\n",
      "bitarray('00001010')\n",
      "bitarray('00000001')\n",
      "bitarray('00000101')\n",
      "bitarray('00000011')\n",
      "bitarray('00000000')\n",
      "bitarray('00000000')\n",
      "COV:\n",
      "{(1, 5, 6), (0, 1, 3), (4, 5, 7), (0, 2, 4)}\n",
      "Explored: 40\n",
      "Size of COV:  216\n",
      "Explored nodes:\n",
      " [(0,), (1,), (1, 0), (2,), (2, 0), (2, 1), (3,), (3, 0), (3, 1), (3, 1, 0), (3, 2), (4,), (4, 0), (4, 1), (4, 2), (4, 2, 0), (4, 3), (5,), (5, 0), (5, 1), (5, 2), (5, 3), (5, 4), (6,), (6, 0), (6, 1), (6, 2), (6, 3), (6, 4), (6, 5), (6, 5, 1), (7,), (7, 0), (7, 1), (7, 2), (7, 3), (7, 4), (7, 5), (7, 5, 4), (7, 6)]\n",
      "Solutions: {(1, 5, 6), (0, 1, 3), (4, 5, 7), (0, 2, 4)}\n",
      "#solutions: 4\n",
      "Solutions:\n",
      "S_2, S_6, S_7\n",
      "S_1, S_2, S_4\n",
      "S_5, S_6, S_8\n",
      "S_1, S_3, S_5\n"
     ]
    }
   ],
   "source": [
    "# Solving the same instance with the star version\n",
    "cov, explored = incremental_exact_cover(path+\"ec_instance.txt\", loadable_rows=10, verbose=True, max_explorations=-1, filename_out=path_out+\"ec_instance_out_star.txt\", mode=\"star\", ratio=True)\n",
    "print(\"Solutions:\")\n",
    "for solution in cov:\n",
    "    sets = [f\"S_{i+1}\" for i in solution]\n",
    "    print(\", \".join(sets))"
   ]
  },
  {
   "cell_type": "code",
   "execution_count": 30,
   "metadata": {
    "execution": {
     "iopub.execute_input": "2023-10-01T19:52:45.184521Z",
     "iopub.status.busy": "2023-10-01T19:52:45.184161Z",
     "iopub.status.idle": "2023-10-01T19:52:45.234559Z",
     "shell.execute_reply": "2023-10-01T19:52:45.233352Z",
     "shell.execute_reply.started": "2023-10-01T19:52:45.184491Z"
    }
   },
   "outputs": [
    {
     "name": "stdout",
     "output_type": "stream",
     "text": [
      "Total columns: 8\n",
      "Total rows: 10\n",
      "Portion of A read: from row 1 to row 10\n",
      "Explored: 51\n",
      "B:\n",
      "bitarray('0000000000')\n",
      "bitarray('0011000001')\n",
      "bitarray('0001000010')\n",
      "bitarray('0000001001')\n",
      "bitarray('0000000000')\n",
      "bitarray('0000000000')\n",
      "bitarray('0000000000')\n",
      "bitarray('0000000000')\n",
      "bitarray('0000000001')\n",
      "bitarray('0000000000')\n",
      "COV:\n",
      "{(3, 4), (1, 2, 3), (6, 7), (0,), (1, 3, 9)}\n",
      "Explored: 51\n",
      "Size of COV:  728\n",
      "Explored nodes:\n",
      " [(0,), (1,), (1, 0), (2,), (2, 0), (2, 1), (3,), (3, 0), (3, 1), (3, 2), (3, 2, 1), (4,), (4, 0), (4, 1), (4, 2), (4, 3), (6,), (6, 0), (6, 1), (6, 2), (6, 3), (6, 4), (6, 5), (7,), (7, 0), (7, 1), (7, 2), (7, 3), (7, 4), (7, 5), (7, 6), (8,), (8, 0), (8, 1), (8, 2), (8, 3), (8, 4), (8, 5), (8, 6), (8, 7), (9,), (9, 0), (9, 1), (9, 2), (9, 3), (9, 3, 1), (9, 4), (9, 5), (9, 6), (9, 7), (9, 8)]\n",
      "Solutions: {(3, 4), (1, 2, 3), (6, 7), (0,), (1, 3, 9)}\n",
      "#solutions: 5\n"
     ]
    }
   ],
   "source": [
    "# Solving a custom one just\n",
    "# so we are sure that the algorithm works\n",
    "\n",
    "# 1 1 1 1 1 1 1 1 -\n",
    "# 1 1 1 1 1 0 0 0 -\n",
    "# 0 0 0 0 0 1 1 0 -\n",
    "# 0 0 0 0 0 0 0 1 -\n",
    "# 1 1 1 1 1 1 1 0 -\n",
    "# 0 0 0 0 0 0 0 0 -\n",
    "# 1 1 0 0 1 1 0 0 -\n",
    "# 0 0 1 1 0 0 1 1 -\n",
    "# 0 0 0 1 1 0 0 1 -\n",
    "# 0 0 0 0 0 1 1 0 -\n",
    "\n",
    "cov, _ = incremental_exact_cover(path+\"ec_manual.txt\", loadable_rows=10, verbose=True, max_explorations=-1, filename_out=path_out+\"ec_manual_out.txt\", ratio=True)"
   ]
  },
  {
   "cell_type": "code",
   "execution_count": 31,
   "metadata": {},
   "outputs": [
    {
     "name": "stdout",
     "output_type": "stream",
     "text": [
      "Total columns: 8\n",
      "Total rows: 10\n",
      "Portion of A read: from row 1 to row 10\n",
      "Explored: 51\n",
      "B:\n",
      "bitarray('0000000000')\n",
      "bitarray('0011000001')\n",
      "bitarray('0001000010')\n",
      "bitarray('0000001001')\n",
      "bitarray('0000000000')\n",
      "bitarray('0000000000')\n",
      "bitarray('0000000000')\n",
      "bitarray('0000000000')\n",
      "bitarray('0000000001')\n",
      "bitarray('0000000000')\n",
      "COV:\n",
      "{(3, 4), (1, 2, 3), (6, 7), (0,), (1, 3, 9)}\n",
      "Explored: 51\n",
      "Size of COV:  728\n",
      "Explored nodes:\n",
      " [(0,), (1,), (1, 0), (2,), (2, 0), (2, 1), (3,), (3, 0), (3, 1), (3, 2), (3, 2, 1), (4,), (4, 0), (4, 1), (4, 2), (4, 3), (6,), (6, 0), (6, 1), (6, 2), (6, 3), (6, 4), (6, 5), (7,), (7, 0), (7, 1), (7, 2), (7, 3), (7, 4), (7, 5), (7, 6), (8,), (8, 0), (8, 1), (8, 2), (8, 3), (8, 4), (8, 5), (8, 6), (8, 7), (9,), (9, 0), (9, 1), (9, 2), (9, 3), (9, 3, 1), (9, 4), (9, 5), (9, 6), (9, 7), (9, 8)]\n",
      "Solutions: {(3, 4), (1, 2, 3), (6, 7), (0,), (1, 3, 9)}\n",
      "#solutions: 5\n"
     ]
    }
   ],
   "source": [
    "# and with the star version\n",
    "cov, _ = incremental_exact_cover(path+\"ec_manual.txt\", loadable_rows=10, verbose=True, max_explorations=-1, filename_out=path_out+\"ec_manual_out_star.txt\", mode=\"star\")"
   ]
  },
  {
   "cell_type": "markdown",
   "metadata": {},
   "source": [
    "## Solving problems with exact cover"
   ]
  },
  {
   "cell_type": "markdown",
   "metadata": {},
   "source": [
    "### Sudoku"
   ]
  },
  {
   "cell_type": "code",
   "execution_count": 32,
   "metadata": {
    "execution": {
     "iopub.execute_input": "2023-10-01T19:52:45.236635Z",
     "iopub.status.busy": "2023-10-01T19:52:45.236151Z",
     "iopub.status.idle": "2023-10-01T19:52:45.247982Z",
     "shell.execute_reply": "2023-10-01T19:52:45.246959Z",
     "shell.execute_reply.started": "2023-10-01T19:52:45.236583Z"
    }
   },
   "outputs": [],
   "source": [
    "def sudoku_to_exact_cover(sudoku, N):\n",
    "    constraints = 4  # Cell, Row, Column, Box\n",
    "    cover_matrix = [[0] * (N * N * constraints) for _ in range(N * N * N)]\n",
    "    divider = int(N ** 0.5)\n",
    "    for r in range(N):\n",
    "        for c in range(N):\n",
    "            for n in range(1, N + 1):\n",
    "                # Calculate row index for cover_matrix\n",
    "                idx = (r * N + c) * N + n - 1\n",
    "                \n",
    "                # Cell constraint\n",
    "                cover_matrix[idx][r * N + c] = 1\n",
    "\n",
    "                # Row constraint\n",
    "                cover_matrix[idx][N * N + r * N + n - 1] = 1\n",
    "                \n",
    "                # Column constraint\n",
    "                cover_matrix[idx][2 * N * N + c * N + n - 1] = 1\n",
    "                \n",
    "                # Box constraint\n",
    "                box_row = r // divider\n",
    "                box_col = c // divider\n",
    "                box_num = box_row * divider + box_col  # This has changed from 3 to 2 for 4x4 Sudoku\n",
    "                cover_matrix[idx][3 * N * N + box_num * N + n - 1] = 1\n",
    "                \n",
    "    # Prune rows that conflict with given Sudoku puzzle\n",
    "    # by setting them to all zeros\n",
    "\n",
    "    rows_to_remove = []\n",
    "    for r in range(N):\n",
    "        for c in range(N):\n",
    "            num = sudoku[r * N + c]\n",
    "            if num:\n",
    "                start_idx = (r * N + c) * N\n",
    "                for i in range(1, N + 1):\n",
    "                    if i != num:\n",
    "                        rows_to_remove.append(start_idx + i - 1)\n",
    "\n",
    "\n",
    "    for idx in sorted(rows_to_remove):\n",
    "        # Setting the row to all zeros\n",
    "        cover_matrix[idx] = [0] * (N * N * constraints)\n",
    "                \n",
    "    return cover_matrix\n"
   ]
  },
  {
   "cell_type": "code",
   "execution_count": 33,
   "metadata": {
    "execution": {
     "iopub.execute_input": "2023-10-01T19:52:45.249728Z",
     "iopub.status.busy": "2023-10-01T19:52:45.249223Z",
     "iopub.status.idle": "2023-10-01T19:52:45.267423Z",
     "shell.execute_reply": "2023-10-01T19:52:45.266106Z",
     "shell.execute_reply.started": "2023-10-01T19:52:45.249698Z"
    }
   },
   "outputs": [],
   "source": [
    "def exact_cover_solution_to_sudoku(partition, N):\n",
    "    solution = [[0] * N for _ in range(N)]\n",
    "    \n",
    "    for idx in partition:\n",
    "        r, c, n = idx // (N * N), (idx // N) % N, (idx % N) + 1\n",
    "        solution[r][c] = n\n",
    "        \n",
    "    return solution"
   ]
  },
  {
   "cell_type": "code",
   "execution_count": 34,
   "metadata": {
    "execution": {
     "iopub.execute_input": "2023-10-01T19:52:45.270043Z",
     "iopub.status.busy": "2023-10-01T19:52:45.269151Z",
     "iopub.status.idle": "2023-10-01T19:52:45.282601Z",
     "shell.execute_reply": "2023-10-01T19:52:45.281341Z",
     "shell.execute_reply.started": "2023-10-01T19:52:45.269990Z"
    }
   },
   "outputs": [],
   "source": [
    "def read_sudoku_from_file(filename):\n",
    "    with open(filename, 'r') as file:\n",
    "        lines = file.readlines()\n",
    "    \n",
    "    sudoku = []\n",
    "    for line in lines:\n",
    "        row = [int(num) for num in line.strip().split(\",\") if num]\n",
    "        sudoku.extend(row)\n",
    "\n",
    "    return sudoku"
   ]
  },
  {
   "cell_type": "code",
   "execution_count": 35,
   "metadata": {
    "execution": {
     "iopub.execute_input": "2023-10-01T19:52:45.284826Z",
     "iopub.status.busy": "2023-10-01T19:52:45.284060Z",
     "iopub.status.idle": "2023-10-01T19:52:45.302687Z",
     "shell.execute_reply": "2023-10-01T19:52:45.301333Z",
     "shell.execute_reply.started": "2023-10-01T19:52:45.284772Z"
    }
   },
   "outputs": [],
   "source": [
    "# Function that takes in input a sudoku.sdk filename and in output a sudoku.exc filename\n",
    "# the default comment is a timestamp\n",
    "import datetime\n",
    "\n",
    "def sdk_to_exc(sdk_filename, exc_filename, comment=\"\"):\n",
    "    sudoku = read_sudoku_from_file(sdk_filename)\n",
    "    N = int(len(sudoku) ** 0.5)\n",
    "    cover_matrix = sudoku_to_exact_cover(sudoku, N)\n",
    "    comment = comment + \"\\n\" + datetime.datetime.now().strftime(\"%Y-%m-%d %H:%M:%S\")\n",
    "    comment = comment + \"\\n\" + f\"Sudoku {N}x{N}\"\n",
    "    with open(exc_filename, \"w\") as f:\n",
    "        # for each line, append \";;; \" at the beginning\n",
    "        for line in comment.split(\"\\n\"):\n",
    "            f.write(\";;; \" + line + \"\\n\")\n",
    "        for row in cover_matrix:\n",
    "            f.write(\" \".join(map(str, row)) + \" -\\n\")"
   ]
  },
  {
   "cell_type": "code",
   "execution_count": 36,
   "metadata": {
    "execution": {
     "iopub.execute_input": "2023-10-01T19:52:45.305948Z",
     "iopub.status.busy": "2023-10-01T19:52:45.305000Z",
     "iopub.status.idle": "2023-10-01T19:52:45.328412Z",
     "shell.execute_reply": "2023-10-01T19:52:45.327402Z",
     "shell.execute_reply.started": "2023-10-01T19:52:45.305895Z"
    }
   },
   "outputs": [],
   "source": [
    "sdk_to_exc(path+\"sudoku_easy_4x4.sdk.txt\", path_out+\"sudoku_easy_4x4.exc.txt\")\n",
    "sdk_to_exc(path+\"sudoku_pre_intermediate_4x4.sdk.txt\", path_out+\"sudoku_pre_intermediate_4x4.exc.txt\")\n",
    "sdk_to_exc(path+\"sudoku_medium_4x4.sdk.txt\", path_out+\"sudoku_medium_4x4.exc.txt\")\n",
    "sdk_to_exc(path+\"sudoku_hard_4x4.sdk.txt\", path_out+\"sudoku_hard_4x4.exc.txt\")\n"
   ]
  },
  {
   "cell_type": "code",
   "execution_count": 37,
   "metadata": {
    "execution": {
     "iopub.execute_input": "2023-10-01T19:52:45.331507Z",
     "iopub.status.busy": "2023-10-01T19:52:45.330599Z",
     "iopub.status.idle": "2023-10-01T19:52:48.021932Z",
     "shell.execute_reply": "2023-10-01T19:52:48.020524Z",
     "shell.execute_reply.started": "2023-10-01T19:52:45.331459Z"
    }
   },
   "outputs": [
    {
     "name": "stdout",
     "output_type": "stream",
     "text": [
      "Total columns: 64\n",
      "Total rows: 64\n",
      "Explored: 171280\n",
      "#solutions: 1\n",
      "peak memory: 136.52 MiB, increment: 17.38 MiB\n",
      "Solutions:\n",
      "{(0, 5, 10, 15, 19, 22, 25, 28, 34, 36, 43, 45, 49, 55, 56, 62)}\n",
      "CPU times: user 821 ms, sys: 40 ms, total: 861 ms\n",
      "Wall time: 969 ms\n"
     ]
    }
   ],
   "source": [
    "%%time\n",
    "# This easy, 5 blanks\n",
    "# 1, 2, 0, 4,\n",
    "# 4, 3, 2, 0,\n",
    "# 3, 1, 0, 2,\n",
    "# 2, 4, 0, 0,\n",
    "\n",
    "%memit sol_sudoku_easy_4x4, _ = incremental_exact_cover(path_out+\"sudoku_easy_4x4.exc.txt\", loadable_rows=100, filename_out=path_out+\"sudoku_easy_4x4.out.txt\", ratio=True)\n",
    "print(\"Solutions:\")\n",
    "print(sol_sudoku_easy_4x4)"
   ]
  },
  {
   "cell_type": "code",
   "execution_count": 38,
   "metadata": {
    "execution": {
     "iopub.execute_input": "2023-10-01T19:52:48.024810Z",
     "iopub.status.busy": "2023-10-01T19:52:48.023757Z",
     "iopub.status.idle": "2023-10-01T19:52:48.031730Z",
     "shell.execute_reply": "2023-10-01T19:52:48.030579Z",
     "shell.execute_reply.started": "2023-10-01T19:52:48.024773Z"
    }
   },
   "outputs": [
    {
     "name": "stdout",
     "output_type": "stream",
     "text": [
      "Sudoku:\n",
      "[1, 2, 3, 4]\n",
      "[4, 3, 2, 1]\n",
      "[3, 1, 4, 2]\n",
      "[2, 4, 1, 3]\n"
     ]
    }
   ],
   "source": [
    "# Checking the solution\n",
    "print(\"Sudoku:\")\n",
    "solved_sudoku_easy_4x4 = exact_cover_solution_to_sudoku(sol_sudoku_easy_4x4.pop(), 4)\n",
    "for row in solved_sudoku_easy_4x4:\n",
    "    print(row)"
   ]
  },
  {
   "cell_type": "code",
   "execution_count": 39,
   "metadata": {},
   "outputs": [
    {
     "name": "stdout",
     "output_type": "stream",
     "text": [
      "Total columns: 64\n",
      "Total rows: 64\n",
      "Explored: 171280\n",
      "#solutions: 1\n",
      "peak memory: 155.14 MiB, increment: 18.62 MiB\n",
      "Solutions:\n",
      "{(0, 5, 10, 15, 19, 22, 25, 28, 34, 36, 43, 45, 49, 55, 56, 62)}\n",
      "CPU times: user 801 ms, sys: 26.2 ms, total: 827 ms\n",
      "Wall time: 934 ms\n"
     ]
    }
   ],
   "source": [
    "%%time\n",
    "# and with the star version\n",
    "%memit sol_sudoku_easy_4x4_star, _ = incremental_exact_cover(path_out+\"sudoku_easy_4x4.exc.txt\", loadable_rows=100, filename_out=path_out+\"sudoku_easy_4x4.out.txt\", mode=\"star\", ratio=True)\n",
    "print(\"Solutions:\")\n",
    "print(sol_sudoku_easy_4x4_star)"
   ]
  },
  {
   "cell_type": "code",
   "execution_count": 40,
   "metadata": {
    "execution": {
     "iopub.execute_input": "2023-10-01T19:52:48.033785Z",
     "iopub.status.busy": "2023-10-01T19:52:48.033461Z",
     "iopub.status.idle": "2023-10-01T19:52:51.497364Z",
     "shell.execute_reply": "2023-10-01T19:52:51.495585Z",
     "shell.execute_reply.started": "2023-10-01T19:52:48.033757Z"
    }
   },
   "outputs": [
    {
     "name": "stdout",
     "output_type": "stream",
     "text": [
      "Total columns: 64\n",
      "Total rows: 64\n",
      "Explored: 207515\n",
      "#solutions: 1\n",
      "peak memory: 159.31 MiB, increment: 6.19 MiB\n",
      "Solutions:\n",
      "{(2, 5, 11, 12, 19, 20, 26, 29, 32, 39, 41, 46, 49, 54, 56, 63)}\n",
      "CPU times: user 1.11 s, sys: 66.4 ms, total: 1.18 s\n",
      "Wall time: 1.3 s\n"
     ]
    }
   ],
   "source": [
    "%%time\n",
    "# This is pre intermediate, 6 blanks\n",
    "\n",
    "# 3, 0, 4, 1\n",
    "# 0, 1, 0, 2\n",
    "# 0, 4, 0, 3\n",
    "# 2, 0, 1, 4\n",
    "\n",
    "%memit sol_sudoku_pre_intermediate_4x4, _ = incremental_exact_cover(path_out+\"sudoku_pre_intermediate_4x4.exc.txt\", loadable_rows=100, filename_out=path_out+\"sudoku_pre_intermediate_4x4.out.txt\", ratio=True)\n",
    "print(\"Solutions:\")\n",
    "print(sol_sudoku_pre_intermediate_4x4)"
   ]
  },
  {
   "cell_type": "code",
   "execution_count": 41,
   "metadata": {
    "execution": {
     "iopub.execute_input": "2023-10-01T19:52:51.500388Z",
     "iopub.status.busy": "2023-10-01T19:52:51.499845Z",
     "iopub.status.idle": "2023-10-01T19:52:51.509324Z",
     "shell.execute_reply": "2023-10-01T19:52:51.507670Z",
     "shell.execute_reply.started": "2023-10-01T19:52:51.500343Z"
    }
   },
   "outputs": [
    {
     "name": "stdout",
     "output_type": "stream",
     "text": [
      "Sudoku:\n",
      "[3, 2, 4, 1]\n",
      "[4, 1, 3, 2]\n",
      "[1, 4, 2, 3]\n",
      "[2, 3, 1, 4]\n"
     ]
    }
   ],
   "source": [
    "# Checking the solution\n",
    "print(\"Sudoku:\")\n",
    "solved_sudoku_pre_intermediate_4x4 = exact_cover_solution_to_sudoku(sol_sudoku_pre_intermediate_4x4.pop(), 4)\n",
    "for row in solved_sudoku_pre_intermediate_4x4:\n",
    "    print(row)\n"
   ]
  },
  {
   "cell_type": "code",
   "execution_count": 42,
   "metadata": {},
   "outputs": [
    {
     "name": "stdout",
     "output_type": "stream",
     "text": [
      "Total columns: 64\n",
      "Total rows: 64\n",
      "Explored: 207515\n",
      "#solutions: 1\n",
      "peak memory: 163.16 MiB, increment: 5.88 MiB\n",
      "Solutions:\n",
      "{(2, 5, 11, 12, 19, 20, 26, 29, 32, 39, 41, 46, 49, 54, 56, 63)}\n",
      "CPU times: user 1.01 s, sys: 59.7 ms, total: 1.07 s\n",
      "Wall time: 1.18 s\n"
     ]
    }
   ],
   "source": [
    "%%time\n",
    "# and with the star version\n",
    "%memit sol_sudoku_pre_intermediate_4x4_star, _ = incremental_exact_cover(path_out+\"sudoku_pre_intermediate_4x4.exc.txt\", loadable_rows=100, filename_out=path_out+\"sudoku_pre_intermediate_4x4.out.txt\", mode=\"star\", ratio=True)\n",
    "print(\"Solutions:\")\n",
    "print(sol_sudoku_pre_intermediate_4x4_star)"
   ]
  },
  {
   "cell_type": "code",
   "execution_count": 43,
   "metadata": {
    "execution": {
     "iopub.execute_input": "2023-10-01T19:52:51.512743Z",
     "iopub.status.busy": "2023-10-01T19:52:51.512076Z",
     "iopub.status.idle": "2023-10-01T19:52:55.904948Z",
     "shell.execute_reply": "2023-10-01T19:52:55.903473Z",
     "shell.execute_reply.started": "2023-10-01T19:52:51.512696Z"
    }
   },
   "outputs": [
    {
     "name": "stdout",
     "output_type": "stream",
     "text": [
      "Total columns: 64\n",
      "Total rows: 64\n",
      "Explored: 303317\n",
      "#solutions: 1\n",
      "peak memory: 171.15 MiB, increment: 10.50 MiB\n",
      "Solutions:\n",
      "{(2, 5, 11, 12, 19, 20, 26, 29, 32, 39, 41, 46, 49, 54, 56, 63)}\n",
      "CPU times: user 1.65 s, sys: 59.3 ms, total: 1.71 s\n",
      "Wall time: 1.83 s\n"
     ]
    }
   ],
   "source": [
    "%%time\n",
    "# This is medium, 7 blanks\n",
    "\n",
    "# 3, 0, 4, 0\n",
    "# 0, 1, 0, 2\n",
    "# 0, 4, 0, 3\n",
    "# 2, 0, 1, 4\n",
    "\n",
    "%memit sol_sudoku_medium_4x4, _ = incremental_exact_cover(path_out+\"sudoku_medium_4x4.exc.txt\", loadable_rows=100, filename_out=path_out+\"sudoku_medium_4x4.out.txt\")\n",
    "print(\"Solutions:\")\n",
    "print(sol_sudoku_medium_4x4)"
   ]
  },
  {
   "cell_type": "code",
   "execution_count": 44,
   "metadata": {
    "execution": {
     "iopub.execute_input": "2023-10-01T19:52:55.907637Z",
     "iopub.status.busy": "2023-10-01T19:52:55.906792Z",
     "iopub.status.idle": "2023-10-01T19:52:55.914922Z",
     "shell.execute_reply": "2023-10-01T19:52:55.913524Z",
     "shell.execute_reply.started": "2023-10-01T19:52:55.907599Z"
    }
   },
   "outputs": [
    {
     "name": "stdout",
     "output_type": "stream",
     "text": [
      "Sudoku:\n",
      "[3, 2, 4, 1]\n",
      "[4, 1, 3, 2]\n",
      "[1, 4, 2, 3]\n",
      "[2, 3, 1, 4]\n"
     ]
    }
   ],
   "source": [
    "# Checking the solution\n",
    "print(\"Sudoku:\")\n",
    "solved_sudoku_medium_4x4 = exact_cover_solution_to_sudoku(sol_sudoku_medium_4x4.pop(), 4)\n",
    "for row in solved_sudoku_medium_4x4:\n",
    "    print(row)"
   ]
  },
  {
   "cell_type": "code",
   "execution_count": 45,
   "metadata": {},
   "outputs": [
    {
     "name": "stdout",
     "output_type": "stream",
     "text": [
      "Total columns: 64\n",
      "Total rows: 64\n",
      "Explored: 303317\n",
      "#solutions: 1\n",
      "peak memory: 182.84 MiB, increment: 14.00 MiB\n",
      "Solutions:\n",
      "{(2, 5, 11, 12, 19, 20, 26, 29, 32, 39, 41, 46, 49, 54, 56, 63)}\n",
      "CPU times: user 1.5 s, sys: 72.9 ms, total: 1.57 s\n",
      "Wall time: 1.68 s\n"
     ]
    }
   ],
   "source": [
    "%%time\n",
    "# and with the star version\n",
    "%memit sol_sudoku_medium_4x4_star, _ = incremental_exact_cover(path_out+\"sudoku_medium_4x4.exc.txt\", loadable_rows=100, filename_out=path_out+\"sudoku_medium_4x4.out.txt\", mode=\"star\", ratio=True)\n",
    "print(\"Solutions:\")\n",
    "print(sol_sudoku_medium_4x4_star)"
   ]
  },
  {
   "cell_type": "code",
   "execution_count": 46,
   "metadata": {
    "execution": {
     "iopub.execute_input": "2023-10-01T19:52:55.917006Z",
     "iopub.status.busy": "2023-10-01T19:52:55.916576Z",
     "iopub.status.idle": "2023-10-01T19:52:55.925821Z",
     "shell.execute_reply": "2023-10-01T19:52:55.925011Z",
     "shell.execute_reply.started": "2023-10-01T19:52:55.916920Z"
    }
   },
   "outputs": [],
   "source": [
    "# # # Easy 9x9 sudoku,\n",
    "# # # generates 729 rows and 324 columns,\n",
    "# # # it would take too much time to solve it\n",
    "\n",
    "# # 5, 3, 4, 6, 7, 8, 9, 1, 2,\n",
    "# # 6, 7, 2, 1, 9, 5, 3, 4, 8,\n",
    "# # 1, 9, 8, 3, 4, 2, 5, 6, 7,\n",
    "# # 8, 5, 9, 7, 6, 1, 4, 2, 3,\n",
    "# # 4, 2, 6, 8, 5, 3, 7, 9, 1,\n",
    "# # 7, 1, 3, 9, 2, 4, 8, 5, 6,\n",
    "# # 9, 6, 1, 5, 3, 7, 2, 8, 4,\n",
    "# # 2, 8, 7, 4, 1, 9, 6, 3, 5,\n",
    "# # 3, 4, 5, 2, 8, 6, 1, 7, 0,\n",
    "\n",
    "# sdk_to_exc(path+\"sudoku_easy_9x9.sdk.txt\", path_out+\"sudoku_easy_9x9.exc.txt\")\n",
    "# sol_sudoku_easy_9x9 = incremental_exact_cover(path_out+\"sudoku_easy_9x9.exc.txt\", loadable_rows=1000)\n",
    "# print(\"Solutions:\")\n",
    "# print(sol_sudoku_easy_9x9)"
   ]
  },
  {
   "cell_type": "markdown",
   "metadata": {},
   "source": [
    "## Generating exact cover problems"
   ]
  },
  {
   "cell_type": "code",
   "execution_count": 47,
   "metadata": {
    "execution": {
     "iopub.execute_input": "2023-10-01T19:52:55.927698Z",
     "iopub.status.busy": "2023-10-01T19:52:55.927322Z",
     "iopub.status.idle": "2023-10-01T19:52:55.940050Z",
     "shell.execute_reply": "2023-10-01T19:52:55.939049Z",
     "shell.execute_reply.started": "2023-10-01T19:52:55.927670Z"
    }
   },
   "outputs": [],
   "source": [
    "import random\n",
    "\n",
    "def generate_exact_cover(N, M, filename):\n",
    "    if M > N:\n",
    "        raise ValueError(\"M should be less than or equal to N to be sure that there is a solution\")\n",
    "    \n",
    "    # Start with an empty NxM matrix\n",
    "    matrix = [[0 for _ in range(M)] for _ in range(N)]\n",
    "    \n",
    "    # Choose a solution\n",
    "    selected_rows = random.sample(range(N), M)\n",
    "    for i, row in enumerate(selected_rows):\n",
    "        matrix[row][i] = 1\n",
    "\n",
    "    # Add noise to remaining rows\n",
    "    for i in range(N):\n",
    "        if i not in selected_rows:\n",
    "            for j in range(M):\n",
    "                matrix[i][j] = random.choice([0, 1])\n",
    "\n",
    "    # Write to file\n",
    "    with open(filename, \"w\") as f:\n",
    "        f.write(\";;; Generated exact cover problem\\n\")\n",
    "        f.write(\";;; \" + datetime.datetime.now().strftime(\"%Y-%m-%d %H:%M:%S\") + \"\\n\")\n",
    "        f.write(\";;; N = \" + str(N) + \"\\n\")\n",
    "        f.write(\";;; M = \" + str(M) + \"\\n\")\n",
    "        f.write(\";;; Solution: \" + \", \".join(map(str, selected_rows)) + \"\\n\")\n",
    "        for row in matrix:\n",
    "            f.write(\" \".join(map(str, row)) + \" -\\n\")\n",
    "    \n",
    "    return matrix"
   ]
  },
  {
   "cell_type": "code",
   "execution_count": 48,
   "metadata": {
    "execution": {
     "iopub.execute_input": "2023-10-01T19:52:55.946512Z",
     "iopub.status.busy": "2023-10-01T19:52:55.946037Z",
     "iopub.status.idle": "2023-10-01T19:52:55.962647Z",
     "shell.execute_reply": "2023-10-01T19:52:55.961375Z",
     "shell.execute_reply.started": "2023-10-01T19:52:55.946460Z"
    }
   },
   "outputs": [
    {
     "data": {
      "text/plain": [
       "[[0, 1, 0, 0, 0],\n",
       " [0, 1, 0, 1, 1],\n",
       " [1, 0, 0, 0, 0],\n",
       " [1, 1, 1, 0, 1],\n",
       " [0, 0, 1, 1, 1],\n",
       " [0, 0, 1, 0, 0],\n",
       " [0, 1, 1, 0, 0],\n",
       " [0, 0, 0, 0, 1],\n",
       " [0, 0, 0, 1, 0],\n",
       " [1, 0, 0, 1, 0]]"
      ]
     },
     "execution_count": 48,
     "metadata": {},
     "output_type": "execute_result"
    }
   ],
   "source": [
    "# Small demonstration\n",
    "generate_exact_cover(10, 5, path_out+\"generated_exact_cover.txt\")"
   ]
  },
  {
   "cell_type": "code",
   "execution_count": 49,
   "metadata": {
    "execution": {
     "iopub.execute_input": "2023-10-01T19:52:55.964421Z",
     "iopub.status.busy": "2023-10-01T19:52:55.964081Z",
     "iopub.status.idle": "2023-10-01T19:52:55.982306Z",
     "shell.execute_reply": "2023-10-01T19:52:55.980836Z",
     "shell.execute_reply.started": "2023-10-01T19:52:55.964393Z"
    }
   },
   "outputs": [
    {
     "name": "stdout",
     "output_type": "stream",
     "text": [
      "Generated exact cover problem:\n",
      "0, 0, 0, 0, 0, 0, 0, 0, 0, 0, 0, 0, 0, 1, 0 -\n",
      "1, 0, 0, 0, 0, 1, 0, 1, 0, 0, 0, 1, 0, 0, 0 -\n",
      "0, 1, 0, 0, 0, 0, 0, 0, 0, 0, 0, 0, 0, 0, 0 -\n",
      "1, 0, 1, 0, 1, 1, 0, 0, 1, 0, 1, 0, 1, 0, 1 -\n",
      "1, 1, 1, 0, 1, 0, 1, 0, 1, 0, 0, 1, 1, 1, 0 -\n",
      "0, 0, 0, 0, 0, 0, 0, 0, 0, 0, 0, 0, 1, 0, 0 -\n",
      "1, 0, 0, 0, 0, 1, 1, 0, 0, 0, 0, 0, 0, 1, 0 -\n",
      "0, 0, 0, 0, 0, 0, 0, 1, 0, 0, 0, 0, 0, 0, 0 -\n",
      "0, 0, 1, 1, 0, 1, 1, 1, 0, 1, 0, 0, 0, 1, 0 -\n",
      "0, 0, 1, 0, 0, 1, 1, 0, 0, 1, 1, 0, 0, 0, 1 -\n",
      "1, 1, 0, 1, 1, 0, 1, 0, 0, 1, 0, 0, 1, 0, 0 -\n",
      "1, 1, 0, 1, 0, 0, 1, 0, 0, 1, 1, 0, 1, 0, 1 -\n",
      "1, 0, 1, 0, 0, 0, 1, 1, 0, 0, 1, 0, 1, 1, 1 -\n",
      "1, 0, 0, 0, 1, 1, 1, 1, 1, 0, 0, 0, 0, 0, 1 -\n",
      "0, 0, 1, 1, 1, 1, 1, 1, 1, 0, 1, 1, 0, 0, 1 -\n",
      "1, 0, 1, 0, 1, 0, 0, 1, 1, 0, 0, 1, 0, 1, 1 -\n",
      "1, 1, 0, 1, 1, 1, 0, 1, 1, 0, 0, 0, 1, 1, 0 -\n",
      "0, 0, 0, 0, 1, 0, 1, 0, 0, 1, 1, 0, 1, 1, 0 -\n",
      "1, 0, 0, 1, 1, 1, 1, 0, 0, 0, 1, 1, 1, 0, 0 -\n",
      "0, 1, 1, 1, 0, 1, 1, 1, 0, 1, 0, 1, 1, 1, 1 -\n",
      "0, 1, 0, 1, 0, 0, 1, 0, 0, 0, 1, 0, 1, 0, 0 -\n",
      "1, 1, 1, 1, 1, 0, 0, 0, 0, 0, 1, 0, 0, 1, 0 -\n",
      "0, 1, 0, 1, 0, 0, 0, 1, 0, 0, 1, 1, 1, 0, 0 -\n",
      "0, 1, 1, 1, 0, 0, 1, 1, 1, 0, 0, 1, 1, 0, 1 -\n",
      "0, 0, 0, 0, 0, 0, 0, 0, 1, 0, 0, 0, 0, 0, 0 -\n",
      "1, 1, 0, 1, 1, 0, 1, 0, 0, 1, 1, 0, 0, 1, 1 -\n",
      "1, 1, 0, 1, 0, 1, 0, 0, 0, 0, 0, 1, 0, 1, 0 -\n",
      "1, 0, 0, 0, 1, 0, 0, 1, 1, 1, 1, 0, 1, 1, 1 -\n",
      "0, 0, 0, 1, 0, 0, 0, 0, 0, 0, 0, 0, 0, 0, 0 -\n",
      "1, 0, 0, 1, 1, 0, 0, 0, 0, 0, 0, 0, 1, 1, 0 -\n",
      "0, 0, 0, 0, 0, 1, 0, 0, 1, 1, 0, 1, 1, 0, 1 -\n",
      "1, 0, 1, 0, 1, 0, 0, 1, 1, 1, 1, 0, 0, 1, 1 -\n",
      "1, 0, 1, 1, 1, 0, 1, 0, 0, 1, 1, 0, 1, 0, 1 -\n",
      "1, 1, 1, 1, 1, 0, 1, 0, 0, 0, 0, 1, 1, 0, 0 -\n",
      "0, 1, 0, 1, 0, 1, 0, 0, 1, 1, 1, 0, 0, 1, 1 -\n",
      "1, 0, 1, 1, 1, 0, 1, 0, 1, 1, 1, 0, 1, 0, 0 -\n",
      "0, 1, 0, 0, 1, 0, 1, 1, 0, 0, 0, 0, 1, 0, 0 -\n",
      "1, 0, 1, 1, 0, 1, 1, 1, 1, 0, 0, 1, 0, 1, 0 -\n",
      "1, 0, 1, 1, 1, 0, 1, 0, 0, 1, 0, 1, 0, 1, 0 -\n",
      "0, 1, 0, 0, 1, 0, 1, 1, 0, 0, 0, 1, 1, 0, 1 -\n",
      "1, 1, 1, 0, 1, 0, 1, 1, 1, 1, 0, 1, 1, 1, 0 -\n",
      "0, 1, 0, 1, 1, 1, 1, 0, 0, 1, 1, 1, 1, 1, 0 -\n",
      "0, 0, 0, 1, 1, 0, 0, 0, 0, 0, 0, 0, 0, 0, 0 -\n",
      "1, 0, 1, 1, 1, 0, 1, 0, 0, 1, 0, 0, 0, 1, 0 -\n",
      "1, 0, 0, 1, 0, 0, 1, 0, 1, 0, 1, 1, 1, 0, 0 -\n",
      "1, 1, 0, 0, 0, 0, 0, 1, 0, 0, 1, 0, 1, 1, 0 -\n",
      "1, 0, 0, 1, 1, 0, 1, 1, 1, 1, 0, 1, 0, 1, 1 -\n",
      "0, 1, 0, 1, 0, 1, 1, 1, 1, 0, 0, 0, 1, 0, 1 -\n",
      "0, 0, 0, 1, 0, 0, 1, 0, 1, 1, 1, 0, 0, 0, 1 -\n",
      "0, 0, 1, 1, 1, 0, 1, 0, 1, 1, 0, 1, 1, 0, 1 -\n",
      "1, 0, 1, 1, 1, 1, 0, 1, 0, 0, 1, 1, 0, 0, 1 -\n",
      "0, 0, 1, 1, 1, 0, 0, 0, 0, 0, 1, 1, 0, 1, 1 -\n",
      "0, 0, 0, 0, 0, 0, 0, 0, 0, 1, 0, 0, 0, 0, 0 -\n",
      "0, 0, 1, 0, 0, 0, 0, 0, 0, 0, 0, 0, 0, 0, 0 -\n",
      "0, 0, 0, 0, 0, 1, 0, 0, 0, 0, 0, 0, 0, 0, 0 -\n",
      "0, 0, 0, 0, 0, 0, 0, 0, 0, 0, 0, 1, 0, 0, 0 -\n",
      "1, 0, 1, 0, 0, 1, 1, 0, 1, 0, 1, 0, 0, 0, 1 -\n",
      "1, 1, 0, 0, 1, 1, 0, 1, 0, 1, 1, 0, 1, 0, 0 -\n",
      "1, 1, 1, 1, 0, 1, 1, 0, 0, 1, 1, 0, 1, 1, 0 -\n",
      "0, 1, 0, 0, 1, 0, 0, 0, 0, 0, 1, 1, 0, 1, 1 -\n",
      "1, 0, 0, 1, 0, 1, 1, 0, 1, 0, 1, 1, 0, 0, 1 -\n",
      "1, 0, 1, 1, 0, 1, 1, 0, 0, 1, 0, 0, 0, 0, 0 -\n",
      "1, 0, 0, 0, 0, 0, 0, 0, 0, 0, 0, 0, 0, 0, 0 -\n",
      "0, 1, 0, 0, 1, 1, 0, 1, 1, 0, 1, 1, 1, 0, 1 -\n",
      "0, 0, 0, 0, 0, 0, 0, 0, 0, 0, 1, 0, 0, 0, 0 -\n",
      "0, 0, 1, 0, 0, 1, 1, 0, 0, 1, 1, 0, 0, 1, 1 -\n",
      "0, 0, 1, 0, 0, 1, 1, 1, 1, 1, 0, 0, 0, 1, 0 -\n",
      "1, 1, 0, 0, 0, 1, 0, 0, 1, 1, 0, 0, 1, 0, 1 -\n",
      "0, 0, 0, 1, 0, 1, 0, 0, 0, 1, 0, 0, 0, 0, 1 -\n",
      "1, 0, 0, 1, 1, 1, 0, 1, 0, 0, 1, 1, 1, 1, 1 -\n",
      "0, 1, 1, 1, 1, 1, 0, 1, 1, 1, 1, 0, 0, 0, 1 -\n",
      "0, 0, 0, 1, 0, 1, 0, 1, 1, 1, 0, 0, 1, 1, 0 -\n",
      "1, 0, 0, 1, 0, 0, 0, 0, 0, 0, 1, 0, 0, 0, 1 -\n",
      "0, 0, 0, 0, 0, 0, 0, 0, 0, 0, 0, 0, 0, 0, 1 -\n",
      "0, 0, 1, 0, 1, 0, 0, 1, 0, 1, 0, 0, 0, 1, 1 -\n",
      "1, 0, 1, 1, 0, 0, 0, 0, 0, 0, 0, 0, 0, 1, 0 -\n",
      "0, 1, 0, 0, 0, 0, 0, 1, 1, 1, 0, 1, 1, 1, 0 -\n",
      "1, 0, 1, 1, 0, 0, 0, 1, 1, 0, 0, 0, 0, 0, 1 -\n",
      "1, 1, 0, 1, 1, 1, 0, 1, 1, 1, 1, 1, 0, 1, 0 -\n",
      "1, 1, 1, 0, 1, 0, 1, 1, 1, 1, 0, 0, 1, 0, 0 -\n",
      "0, 0, 0, 1, 1, 1, 1, 1, 0, 1, 1, 1, 0, 1, 0 -\n",
      "0, 0, 0, 1, 0, 0, 0, 1, 1, 1, 1, 1, 0, 1, 0 -\n",
      "1, 0, 0, 0, 0, 0, 0, 1, 1, 1, 1, 0, 0, 0, 1 -\n",
      "1, 0, 0, 0, 1, 0, 0, 0, 1, 1, 1, 0, 0, 1, 1 -\n",
      "0, 0, 0, 0, 1, 0, 0, 0, 0, 0, 0, 0, 0, 0, 0 -\n",
      "1, 0, 1, 0, 0, 0, 1, 1, 1, 0, 0, 1, 0, 1, 0 -\n",
      "0, 1, 0, 0, 1, 1, 0, 1, 1, 0, 1, 0, 0, 1, 1 -\n",
      "1, 1, 1, 1, 1, 1, 1, 0, 0, 1, 1, 1, 1, 1, 1 -\n",
      "0, 1, 0, 0, 1, 0, 1, 1, 0, 0, 0, 1, 0, 1, 0 -\n",
      "0, 1, 0, 0, 0, 1, 1, 0, 1, 1, 1, 1, 1, 1, 0 -\n",
      "0, 0, 1, 1, 1, 0, 1, 1, 1, 0, 1, 1, 0, 0, 0 -\n",
      "0, 1, 0, 1, 0, 1, 1, 1, 1, 1, 0, 0, 1, 0, 1 -\n",
      "0, 0, 1, 0, 0, 0, 0, 1, 0, 0, 0, 1, 1, 1, 1 -\n",
      "1, 1, 1, 0, 0, 1, 1, 0, 1, 0, 0, 1, 1, 1, 1 -\n",
      "1, 1, 0, 0, 0, 0, 1, 1, 1, 1, 1, 1, 1, 1, 1 -\n",
      "1, 1, 0, 0, 1, 1, 0, 0, 0, 0, 0, 0, 0, 0, 1 -\n",
      "1, 0, 0, 1, 1, 0, 0, 1, 0, 1, 0, 1, 0, 0, 1 -\n",
      "0, 0, 0, 0, 0, 0, 1, 0, 0, 0, 0, 0, 0, 0, 0 -\n",
      "1, 0, 0, 1, 1, 1, 1, 0, 0, 1, 1, 0, 0, 1, 1 -\n",
      "1, 0, 1, 0, 0, 0, 0, 1, 1, 1, 1, 0, 0, 1, 1 -\n"
     ]
    }
   ],
   "source": [
    "ec_1 = generate_exact_cover(100, 15, path_out+\"generated_exact_cover.txt\")\n",
    "print(\"Generated exact cover problem:\")\n",
    "for row in ec_1:\n",
    "    for num in row[:-1]:\n",
    "        print(f\"{num},\", end=\" \")\n",
    "    print(row[-1], \"-\")"
   ]
  },
  {
   "cell_type": "code",
   "execution_count": 50,
   "metadata": {
    "execution": {
     "iopub.execute_input": "2023-10-01T19:52:55.984424Z",
     "iopub.status.busy": "2023-10-01T19:52:55.983706Z",
     "iopub.status.idle": "2023-10-01T19:52:56.522287Z",
     "shell.execute_reply": "2023-10-01T19:52:56.521375Z",
     "shell.execute_reply.started": "2023-10-01T19:52:55.984374Z"
    }
   },
   "outputs": [
    {
     "name": "stdout",
     "output_type": "stream",
     "text": [
      "Total columns: 15\n",
      "Total rows: 100\n",
      "Explored: 40789\n",
      "#solutions: 129\n",
      "Solutions:\n",
      "{(2, 27, 28, 53, 54, 55, 97), (2, 5, 7, 28, 53, 54, 55, 83, 97), (0, 2, 5, 24, 53, 54, 64, 96, 97), (0, 1, 20, 24, 52, 53, 73, 84), (7, 42, 53, 62, 73, 89), (2, 5, 42, 55, 62, 64, 66, 73), (42, 53, 54, 94), (2, 7, 17, 24, 28, 53, 54, 55, 62, 73), (0, 2, 5, 7, 24, 55, 61, 64, 73, 84), (2, 5, 24, 28, 54, 55, 62, 64, 74, 97), (24, 28, 45, 52, 53, 54, 55, 73, 84, 97), (2, 5, 7, 24, 28, 55, 62, 65, 84), (0, 2, 3, 7, 28, 52, 55, 97), (2, 7, 30, 64, 75, 84, 97), (0, 2, 5, 24, 50, 52, 97), (7, 28, 52, 64, 84, 93), (5, 24, 52, 53, 54, 72, 88), (0, 7, 11, 24, 53, 54, 55, 84), (0, 2, 7, 35, 54, 55, 73), (24, 42, 45, 52, 53, 54, 55, 73, 97), (2, 44, 54, 74), (0, 5, 7, 24, 28, 52, 53, 55, 64, 95, 97), (0, 2, 5, 7, 24, 28, 52, 53, 54, 55, 62, 64, 73, 84, 97), (0, 2, 7, 30, 42, 53, 62, 64, 97), (2, 5, 7, 24, 51, 52, 54, 62, 97), (2, 5, 7, 24, 52, 54, 55, 64, 73, 75, 84, 97), (0, 2, 5, 52, 54, 62, 73, 90), (2, 5, 7, 24, 38, 54, 64, 73), (0, 2, 5, 7, 52, 53, 60, 84), (5, 53, 73, 78, 97), (2, 24, 42, 52, 54, 62, 64, 92, 97), (2, 5, 53, 54, 62, 73, 81, 84, 97), (42, 53, 54, 62, 64, 73, 76, 97), (0, 47, 52, 53, 55, 62, 64, 84), (1, 2, 17, 24, 28, 53, 73), (7, 24, 41, 53, 62, 73), (2, 5, 24, 53, 62, 73, 80), (0, 2, 5, 7, 24, 42, 52, 53, 54, 55, 62, 64, 73, 97), (0, 2, 5, 7, 24, 52, 53, 54, 55, 72, 84, 97), (52, 63, 75, 97), (7, 21, 30, 97), (15, 20, 52, 54), (24, 45, 53, 55, 68, 84, 97), (0, 7, 10, 24, 53, 54, 55, 64, 73), (2, 5, 28, 54, 55, 84, 97, 99), (2, 5, 6, 7, 24, 42, 52, 53, 55, 64, 73), (2, 5, 46, 53, 54, 64), (2, 5, 37, 52, 64, 73, 84), (0, 2, 7, 24, 32, 54, 55), (0, 2, 5, 52, 54, 55, 64, 77, 84, 97), (2, 5, 28, 52, 54, 64, 73, 84, 85), (0, 7, 42, 53, 55, 64, 67, 97), (2, 5, 7, 24, 53, 55, 98), (0, 5, 55, 62, 70, 97), (0, 23, 52, 54, 62, 64, 84), (2, 5, 6, 7, 24, 28, 52, 53, 55, 64, 73, 84), (5, 7, 21, 24, 52, 54, 55, 73, 97), (0, 53, 55, 62, 64, 84, 91), (2, 24, 52, 53, 69, 97), (0, 2, 5, 28, 53, 54, 55, 82, 84, 97), (2, 12, 24, 42, 52, 54, 55), (7, 28, 53, 62, 73, 84, 89), (0, 2, 7, 28, 30, 53, 62, 64, 84, 97), (2, 17, 54, 55, 77), (5, 7, 24, 28, 52, 53, 54, 59, 62, 97), (5, 7, 24, 59, 61), (0, 2, 5, 7, 24, 53, 55, 62, 64, 68, 84, 97), (0, 2, 5, 7, 48, 53, 54, 55, 62, 84), (0, 24, 28, 53, 55, 57, 73, 97), (19, 24, 62, 64, 84), (0, 7, 20, 24, 52, 53, 54, 55, 62, 73, 84), (0, 24, 28, 36, 52, 53, 54, 55, 62, 64, 73), (5, 24, 28, 52, 53, 54, 62, 64, 73, 88), (0, 2, 5, 7, 42, 52, 55, 56), (5, 53, 81, 95, 97), (0, 7, 28, 53, 55, 64, 67, 84, 97), (28, 53, 54, 62, 64, 73, 76, 84, 97), (2, 5, 28, 31, 54, 55, 97), (0, 2, 5, 7, 28, 52, 55, 56, 84), (0, 7, 24, 33, 52, 54, 64, 73), (7, 42, 52, 64, 93), (0, 2, 5, 42, 53, 54, 55, 82, 97), (2, 5, 28, 55, 62, 64, 66, 73, 84), (2, 53, 55, 62, 64, 71, 73, 84, 97), (0, 2, 7, 44, 52, 53, 54, 73, 84), (0, 28, 54, 55, 64, 73, 79), (4, 7, 28, 52, 54, 64, 73), (5, 28, 52, 53, 55, 62, 86, 97), (28, 53, 54, 84, 94), (0, 1, 2, 5, 48, 53, 84), (7, 24, 55, 58, 73, 84), (0, 1, 2, 5, 24, 42, 52, 53, 64, 73, 97), (2, 5, 42, 52, 54, 64, 73, 85), (0, 2, 7, 18, 24, 52, 53, 73), (5, 7, 34, 53, 55, 62, 84, 97), (2, 12, 24, 28, 52, 54, 55, 84), (2, 5, 15, 28, 52, 54, 64, 97), (0, 22, 24, 52, 53, 54, 62, 73, 84, 97), (5, 7, 24, 25, 53, 54, 55), (2, 5, 7, 24, 42, 55, 62, 65), (0, 2, 5, 7, 9, 24, 28, 55, 62, 84), (0, 24, 36, 52, 53, 54, 55, 72), (2, 7, 9, 24, 29, 55), (24, 39, 52, 54, 64, 75), (5, 7, 24, 26, 52, 53, 64, 73, 84, 97), (0, 2, 5, 13, 28, 52, 53, 55, 64), (0, 2, 7, 49, 54, 62, 64), (0, 2, 5, 14, 52, 62), (2, 5, 55, 66, 72, 84), (2, 5, 64, 68, 84, 85), (0, 24, 28, 39, 52, 53, 54, 62, 64), (0, 24, 36, 53, 55, 62, 64, 68), (2, 5, 8, 24, 55, 62, 64, 73, 84), (20, 24, 54, 55, 62, 74), (2, 24, 28, 52, 54, 62, 64, 84, 92, 97), (0, 28, 52, 53, 62, 63, 97), (28, 40, 54, 64, 73), (7, 24, 87), (53, 54, 72, 76, 84, 97), (0, 2, 5, 7, 9, 24, 42, 55, 62), (2, 5, 7, 24, 43, 54, 55, 64, 73), (2, 7, 24, 29, 52, 53, 54, 55, 64, 73, 97), (24, 36, 52, 54, 55, 64, 73, 75), (5, 24, 53, 62, 64, 68, 88), (16, 52, 53, 55, 64, 73, 97), (2, 5, 42, 54, 55, 97, 99), (4, 7, 64, 68), (6, 22, 24, 52, 53, 73, 84), (0, 1, 2, 5, 24, 28, 52, 53, 64, 73, 84, 97)}\n",
      "CPU times: user 194 ms, sys: 13.2 ms, total: 208 ms\n",
      "Wall time: 209 ms\n"
     ]
    }
   ],
   "source": [
    "%%time\n",
    "# measuring the time to solve the generated problem\n",
    "# with magic command %timeit   \n",
    "cov, _ = incremental_exact_cover(filename=path_out+\"generated_exact_cover.txt\", loadable_rows=10, verbose=False)\n",
    "print(\"Solutions:\")\n",
    "print(cov)"
   ]
  },
  {
   "cell_type": "code",
   "execution_count": 51,
   "metadata": {},
   "outputs": [
    {
     "name": "stdout",
     "output_type": "stream",
     "text": [
      "Total columns: 15\n",
      "Total rows: 100\n",
      "Explored: 40789\n",
      "#solutions: 129\n",
      "Solutions:\n",
      "{(2, 27, 28, 53, 54, 55, 97), (2, 5, 7, 28, 53, 54, 55, 83, 97), (0, 2, 5, 24, 53, 54, 64, 96, 97), (0, 1, 20, 24, 52, 53, 73, 84), (7, 42, 53, 62, 73, 89), (2, 5, 42, 55, 62, 64, 66, 73), (42, 53, 54, 94), (2, 7, 17, 24, 28, 53, 54, 55, 62, 73), (0, 2, 5, 7, 24, 55, 61, 64, 73, 84), (2, 5, 24, 28, 54, 55, 62, 64, 74, 97), (24, 28, 45, 52, 53, 54, 55, 73, 84, 97), (2, 5, 7, 24, 28, 55, 62, 65, 84), (0, 2, 3, 7, 28, 52, 55, 97), (2, 7, 30, 64, 75, 84, 97), (0, 2, 5, 24, 50, 52, 97), (7, 28, 52, 64, 84, 93), (5, 24, 52, 53, 54, 72, 88), (0, 7, 11, 24, 53, 54, 55, 84), (0, 2, 7, 35, 54, 55, 73), (24, 42, 45, 52, 53, 54, 55, 73, 97), (2, 44, 54, 74), (0, 5, 7, 24, 28, 52, 53, 55, 64, 95, 97), (0, 2, 5, 7, 24, 28, 52, 53, 54, 55, 62, 64, 73, 84, 97), (0, 2, 7, 30, 42, 53, 62, 64, 97), (2, 5, 7, 24, 51, 52, 54, 62, 97), (2, 5, 7, 24, 52, 54, 55, 64, 73, 75, 84, 97), (0, 2, 5, 52, 54, 62, 73, 90), (2, 5, 7, 24, 38, 54, 64, 73), (0, 2, 5, 7, 52, 53, 60, 84), (5, 53, 73, 78, 97), (2, 24, 42, 52, 54, 62, 64, 92, 97), (2, 5, 53, 54, 62, 73, 81, 84, 97), (42, 53, 54, 62, 64, 73, 76, 97), (0, 47, 52, 53, 55, 62, 64, 84), (1, 2, 17, 24, 28, 53, 73), (7, 24, 41, 53, 62, 73), (2, 5, 24, 53, 62, 73, 80), (0, 2, 5, 7, 24, 42, 52, 53, 54, 55, 62, 64, 73, 97), (0, 2, 5, 7, 24, 52, 53, 54, 55, 72, 84, 97), (52, 63, 75, 97), (7, 21, 30, 97), (15, 20, 52, 54), (24, 45, 53, 55, 68, 84, 97), (0, 7, 10, 24, 53, 54, 55, 64, 73), (2, 5, 28, 54, 55, 84, 97, 99), (2, 5, 6, 7, 24, 42, 52, 53, 55, 64, 73), (2, 5, 46, 53, 54, 64), (2, 5, 37, 52, 64, 73, 84), (0, 2, 7, 24, 32, 54, 55), (0, 2, 5, 52, 54, 55, 64, 77, 84, 97), (2, 5, 28, 52, 54, 64, 73, 84, 85), (0, 7, 42, 53, 55, 64, 67, 97), (2, 5, 7, 24, 53, 55, 98), (0, 5, 55, 62, 70, 97), (0, 23, 52, 54, 62, 64, 84), (2, 5, 6, 7, 24, 28, 52, 53, 55, 64, 73, 84), (5, 7, 21, 24, 52, 54, 55, 73, 97), (0, 53, 55, 62, 64, 84, 91), (2, 24, 52, 53, 69, 97), (0, 2, 5, 28, 53, 54, 55, 82, 84, 97), (2, 12, 24, 42, 52, 54, 55), (7, 28, 53, 62, 73, 84, 89), (0, 2, 7, 28, 30, 53, 62, 64, 84, 97), (2, 17, 54, 55, 77), (5, 7, 24, 28, 52, 53, 54, 59, 62, 97), (5, 7, 24, 59, 61), (0, 2, 5, 7, 24, 53, 55, 62, 64, 68, 84, 97), (0, 2, 5, 7, 48, 53, 54, 55, 62, 84), (0, 24, 28, 53, 55, 57, 73, 97), (19, 24, 62, 64, 84), (0, 7, 20, 24, 52, 53, 54, 55, 62, 73, 84), (0, 24, 28, 36, 52, 53, 54, 55, 62, 64, 73), (5, 24, 28, 52, 53, 54, 62, 64, 73, 88), (0, 2, 5, 7, 42, 52, 55, 56), (5, 53, 81, 95, 97), (0, 7, 28, 53, 55, 64, 67, 84, 97), (28, 53, 54, 62, 64, 73, 76, 84, 97), (2, 5, 28, 31, 54, 55, 97), (0, 2, 5, 7, 28, 52, 55, 56, 84), (0, 7, 24, 33, 52, 54, 64, 73), (7, 42, 52, 64, 93), (0, 2, 5, 42, 53, 54, 55, 82, 97), (2, 5, 28, 55, 62, 64, 66, 73, 84), (2, 53, 55, 62, 64, 71, 73, 84, 97), (0, 2, 7, 44, 52, 53, 54, 73, 84), (0, 28, 54, 55, 64, 73, 79), (4, 7, 28, 52, 54, 64, 73), (5, 28, 52, 53, 55, 62, 86, 97), (28, 53, 54, 84, 94), (0, 1, 2, 5, 48, 53, 84), (7, 24, 55, 58, 73, 84), (0, 1, 2, 5, 24, 42, 52, 53, 64, 73, 97), (2, 5, 42, 52, 54, 64, 73, 85), (0, 2, 7, 18, 24, 52, 53, 73), (5, 7, 34, 53, 55, 62, 84, 97), (2, 12, 24, 28, 52, 54, 55, 84), (2, 5, 15, 28, 52, 54, 64, 97), (0, 22, 24, 52, 53, 54, 62, 73, 84, 97), (5, 7, 24, 25, 53, 54, 55), (2, 5, 7, 24, 42, 55, 62, 65), (0, 2, 5, 7, 9, 24, 28, 55, 62, 84), (0, 24, 36, 52, 53, 54, 55, 72), (2, 7, 9, 24, 29, 55), (24, 39, 52, 54, 64, 75), (5, 7, 24, 26, 52, 53, 64, 73, 84, 97), (0, 2, 5, 13, 28, 52, 53, 55, 64), (0, 2, 7, 49, 54, 62, 64), (0, 2, 5, 14, 52, 62), (2, 5, 55, 66, 72, 84), (2, 5, 64, 68, 84, 85), (0, 24, 28, 39, 52, 53, 54, 62, 64), (0, 24, 36, 53, 55, 62, 64, 68), (2, 5, 8, 24, 55, 62, 64, 73, 84), (20, 24, 54, 55, 62, 74), (2, 24, 28, 52, 54, 62, 64, 84, 92, 97), (0, 28, 52, 53, 62, 63, 97), (28, 40, 54, 64, 73), (7, 24, 87), (53, 54, 72, 76, 84, 97), (0, 2, 5, 7, 9, 24, 42, 55, 62), (2, 5, 7, 24, 43, 54, 55, 64, 73), (2, 7, 24, 29, 52, 53, 54, 55, 64, 73, 97), (24, 36, 52, 54, 55, 64, 73, 75), (5, 24, 53, 62, 64, 68, 88), (16, 52, 53, 55, 64, 73, 97), (2, 5, 42, 54, 55, 97, 99), (4, 7, 64, 68), (6, 22, 24, 52, 53, 73, 84), (0, 1, 2, 5, 24, 28, 52, 53, 64, 73, 84, 97)}\n",
      "CPU times: user 192 ms, sys: 3.32 ms, total: 195 ms\n",
      "Wall time: 196 ms\n"
     ]
    }
   ],
   "source": [
    "%%time\n",
    "# and with the star version\n",
    "cov, _ = incremental_exact_cover(filename=path_out+\"generated_exact_cover.txt\", loadable_rows=100, verbose=False, mode=\"star\")\n",
    "print(\"Solutions:\")\n",
    "print(cov)"
   ]
  },
  {
   "cell_type": "markdown",
   "metadata": {},
   "source": [
    "## Investigating the parameters of the algorithm"
   ]
  },
  {
   "cell_type": "markdown",
   "metadata": {},
   "source": [
    "### How does `loadable_rows` affect the algorithm?"
   ]
  },
  {
   "cell_type": "code",
   "execution_count": 52,
   "metadata": {},
   "outputs": [],
   "source": [
    "AX_TITLE_FONTSIZE = 30\n",
    "XLABEL_FONTSIZE = 30\n",
    "YLABEL_FONTSIZE = 20"
   ]
  },
  {
   "cell_type": "code",
   "execution_count": 53,
   "metadata": {
    "execution": {
     "iopub.execute_input": "2023-10-01T19:52:56.524119Z",
     "iopub.status.busy": "2023-10-01T19:52:56.523342Z",
     "iopub.status.idle": "2023-10-01T19:53:01.139074Z",
     "shell.execute_reply": "2023-10-01T19:53:01.137566Z",
     "shell.execute_reply.started": "2023-10-01T19:52:56.524087Z"
    }
   },
   "outputs": [],
   "source": [
    "# Creating a random exact cover problem of size 100x15,\n",
    "# plotting a line chart showing how much time it takes to solve it\n",
    "# for values of loadable_rows from 1 to 100 with step 10\n",
    "\n",
    "import matplotlib.pyplot as plt\n",
    "import numpy as np\n",
    "import time\n",
    "\n",
    "N = 500\n",
    "M = 15\n",
    "\n",
    "def get_time_to_solve(N, M, reverse=False, diff=False):\n",
    "    times = []\n",
    "    times_star = []\n",
    "\n",
    "    generate_exact_cover(N, M, path_out+\"generated_exact_cover.txt\")\n",
    "\n",
    "    i_list = range(1, N + 1, N // 10)\n",
    "    if reverse:\n",
    "        i_list = i_list[::-1]\n",
    "    for i in i_list:\n",
    "        print(f\"loadable_rows = {i}\")\n",
    "        if diff:\n",
    "            generate_exact_cover(N, M, path_out+\"generated_exact_cover.txt\")\n",
    "        start = time.time()\n",
    "        incremental_exact_cover(filename=path_out+\"generated_exact_cover.txt\", loadable_rows=i, verbose=False)\n",
    "        end = time.time()\n",
    "        start_star = time.time()\n",
    "        incremental_exact_cover(filename=path_out+\"generated_exact_cover.txt\", loadable_rows=i, verbose=False, mode=\"star\")\n",
    "        end_star = time.time()\n",
    "        times.append(end - start)\n",
    "        times_star.append(end_star - start_star)\n",
    "\n",
    "    # if reverse:\n",
    "    #     times = times[::-1]\n",
    "    #     times_star = times_star[::-1]\n",
    "    \n",
    "    # if reverse:\n",
    "    #     plt.plot(i_list[::-1], times[::-1], color='blue', label='Base')\n",
    "    #     plt.plot(i_list[::-1], times_star[::-1], color='red', label='Star')\n",
    "    # else:\n",
    "\n",
    "    return i_list, times, times_star"
   ]
  },
  {
   "cell_type": "code",
   "execution_count": 54,
   "metadata": {},
   "outputs": [
    {
     "name": "stdout",
     "output_type": "stream",
     "text": [
      "loadable_rows = 1\n",
      "Total columns: 15\n",
      "Total rows: 500\n",
      "Explored: 321978\n",
      "#solutions: 3115\n",
      "Total columns: 15\n",
      "Total rows: 500\n",
      "Explored: 321978\n",
      "#solutions: 3115\n",
      "loadable_rows = 51\n",
      "Total columns: 15\n",
      "Total rows: 500\n",
      "Explored: 321978\n",
      "#solutions: 3115\n",
      "Total columns: 15\n",
      "Total rows: 500\n",
      "Explored: 321978\n",
      "#solutions: 3115\n",
      "loadable_rows = 101\n",
      "Total columns: 15\n",
      "Total rows: 500\n",
      "Explored: 321978\n",
      "#solutions: 3115\n",
      "Total columns: 15\n",
      "Total rows: 500\n",
      "Explored: 321978\n",
      "#solutions: 3115\n",
      "loadable_rows = 151\n",
      "Total columns: 15\n",
      "Total rows: 500\n",
      "Explored: 321978\n",
      "#solutions: 3115\n",
      "Total columns: 15\n",
      "Total rows: 500\n",
      "Explored: 321978\n",
      "#solutions: 3115\n",
      "loadable_rows = 201\n",
      "Total columns: 15\n",
      "Total rows: 500\n",
      "Explored: 321978\n",
      "#solutions: 3115\n",
      "Total columns: 15\n",
      "Total rows: 500\n",
      "Explored: 321978\n",
      "#solutions: 3115\n",
      "loadable_rows = 251\n",
      "Total columns: 15\n",
      "Total rows: 500\n",
      "Explored: 321978\n",
      "#solutions: 3115\n",
      "Total columns: 15\n",
      "Total rows: 500\n",
      "Explored: 321978\n",
      "#solutions: 3115\n",
      "loadable_rows = 301\n",
      "Total columns: 15\n",
      "Total rows: 500\n",
      "Explored: 321978\n",
      "#solutions: 3115\n",
      "Total columns: 15\n",
      "Total rows: 500\n",
      "Explored: 321978\n",
      "#solutions: 3115\n",
      "loadable_rows = 351\n",
      "Total columns: 15\n",
      "Total rows: 500\n",
      "Explored: 321978\n",
      "#solutions: 3115\n",
      "Total columns: 15\n",
      "Total rows: 500\n",
      "Explored: 321978\n",
      "#solutions: 3115\n",
      "loadable_rows = 401\n",
      "Total columns: 15\n",
      "Total rows: 500\n",
      "Explored: 321978\n",
      "#solutions: 3115\n",
      "Total columns: 15\n",
      "Total rows: 500\n",
      "Explored: 321978\n",
      "#solutions: 3115\n",
      "loadable_rows = 451\n",
      "Total columns: 15\n",
      "Total rows: 500\n",
      "Explored: 321978\n",
      "#solutions: 3115\n",
      "Total columns: 15\n",
      "Total rows: 500\n",
      "Explored: 321978\n",
      "#solutions: 3115\n"
     ]
    }
   ],
   "source": [
    "i_list, times, times_star = get_time_to_solve(N, M)"
   ]
  },
  {
   "cell_type": "code",
   "execution_count": 55,
   "metadata": {},
   "outputs": [
    {
     "data": {
      "image/png": "[encoded data removed]",
      "text/plain": [
       "<Figure size 640x480 with 1 Axes>"
      ]
     },
     "metadata": {},
     "output_type": "display_data"
    }
   ],
   "source": [
    "plt.xlabel(\"Loadable rows\")\n",
    "plt.ylabel(\"time (s)\")\n",
    "plt.title(f\"\")\n",
    "plt.plot(i_list, times, color='blue', label='Base')\n",
    "plt.plot(i_list, times_star, color='red', label='Star')\n",
    "plt.legend()\n",
    "# export to svg with high dpi\n",
    "plt.savefig(path_out+\"loadable_rows_time_diff.svg\", dpi=300)\n",
    "plt.show()"
   ]
  },
  {
   "cell_type": "code",
   "execution_count": 56,
   "metadata": {},
   "outputs": [
    {
     "name": "stdout",
     "output_type": "stream",
     "text": [
      "loadable_rows = 451\n",
      "Total columns: 15\n",
      "Total rows: 500\n",
      "Explored: 256341\n",
      "#solutions: 1839\n",
      "Total columns: 15\n",
      "Total rows: 500\n",
      "Explored: 256341\n",
      "#solutions: 1839\n",
      "loadable_rows = 401\n",
      "Total columns: 15\n",
      "Total rows: 500\n",
      "Explored: 256341\n",
      "#solutions: 1839\n",
      "Total columns: 15\n",
      "Total rows: 500\n",
      "Explored: 256341\n",
      "#solutions: 1839\n",
      "loadable_rows = 351\n",
      "Total columns: 15\n",
      "Total rows: 500\n",
      "Explored: 256341\n",
      "#solutions: 1839\n",
      "Total columns: 15\n",
      "Total rows: 500\n",
      "Explored: 256341\n",
      "#solutions: 1839\n",
      "loadable_rows = 301\n",
      "Total columns: 15\n",
      "Total rows: 500\n",
      "Explored: 256341\n",
      "#solutions: 1839\n",
      "Total columns: 15\n",
      "Total rows: 500\n",
      "Explored: 256341\n",
      "#solutions: 1839\n",
      "loadable_rows = 251\n",
      "Total columns: 15\n",
      "Total rows: 500\n",
      "Explored: 256341\n",
      "#solutions: 1839\n",
      "Total columns: 15\n",
      "Total rows: 500\n",
      "Explored: 256341\n",
      "#solutions: 1839\n",
      "loadable_rows = 201\n",
      "Total columns: 15\n",
      "Total rows: 500\n",
      "Explored: 256341\n",
      "#solutions: 1839\n",
      "Total columns: 15\n",
      "Total rows: 500\n",
      "Explored: 256341\n",
      "#solutions: 1839\n",
      "loadable_rows = 151\n",
      "Total columns: 15\n",
      "Total rows: 500\n",
      "Explored: 256341\n",
      "#solutions: 1839\n",
      "Total columns: 15\n",
      "Total rows: 500\n",
      "Explored: 256341\n",
      "#solutions: 1839\n",
      "loadable_rows = 101\n",
      "Total columns: 15\n",
      "Total rows: 500\n",
      "Explored: 256341\n",
      "#solutions: 1839\n",
      "Total columns: 15\n",
      "Total rows: 500\n",
      "Explored: 256341\n",
      "#solutions: 1839\n",
      "loadable_rows = 51\n",
      "Total columns: 15\n",
      "Total rows: 500\n",
      "Explored: 256341\n",
      "#solutions: 1839\n",
      "Total columns: 15\n",
      "Total rows: 500\n",
      "Explored: 256341\n",
      "#solutions: 1839\n",
      "loadable_rows = 1\n",
      "Total columns: 15\n",
      "Total rows: 500\n",
      "Explored: 256341\n",
      "#solutions: 1839\n",
      "Total columns: 15\n",
      "Total rows: 500\n",
      "Explored: 256341\n",
      "#solutions: 1839\n"
     ]
    }
   ],
   "source": [
    "i_list_r, times_r, times_star_r = get_time_to_solve(N, M, reverse=True)"
   ]
  },
  {
   "cell_type": "code",
   "execution_count": 57,
   "metadata": {},
   "outputs": [
    {
     "data": {
      "image/png": "[encoded data removed]",
      "text/plain": [
       "<Figure size 640x480 with 1 Axes>"
      ]
     },
     "metadata": {},
     "output_type": "display_data"
    }
   ],
   "source": [
    "plt.xlabel(\"Loadable rows\")\n",
    "plt.ylabel(\"time (s)\")\n",
    "plt.title(f\"\")\n",
    "plt.plot(i_list_r, times_r, color='blue', label='Base')\n",
    "plt.plot(i_list_r, times_star_r, color='red', label='Star')\n",
    "plt.legend()\n",
    "# export to svg with high dpi\n",
    "plt.savefig(path_out+\"loadable_rows_time_diff_rev.svg\", dpi=300)\n",
    "plt.show()"
   ]
  },
  {
   "cell_type": "markdown",
   "metadata": {},
   "source": [
    "### How do rows and columns affect the number of explored nodes?"
   ]
  },
  {
   "cell_type": "code",
   "execution_count": 58,
   "metadata": {
    "execution": {
     "iopub.execute_input": "2023-10-01T19:53:01.142290Z",
     "iopub.status.busy": "2023-10-01T19:53:01.141010Z",
     "iopub.status.idle": "2023-10-01T19:53:07.873849Z",
     "shell.execute_reply": "2023-10-01T19:53:07.872353Z",
     "shell.execute_reply.started": "2023-10-01T19:53:01.142240Z"
    }
   },
   "outputs": [
    {
     "name": "stdout",
     "output_type": "stream",
     "text": [
      "Generating exact cover problem with 20 rows and 5 columns\n",
      "Solving...\n",
      "Total columns: 5\n",
      "Total rows: 20\n",
      "Explored: 230\n",
      "#solutions: 29\n",
      "Total columns: 5\n",
      "Total rows: 20\n",
      "Explored: 230\n",
      "#solutions: 29\n",
      "Generating exact cover problem with 20 rows and 8 columns\n",
      "Solving...\n",
      "Total columns: 8\n",
      "Total rows: 20\n",
      "Explored: 322\n",
      "#solutions: 14\n",
      "Total columns: 8\n",
      "Total rows: 20\n",
      "Explored: 322\n",
      "#solutions: 14\n",
      "Generating exact cover problem with 20 rows and 11 columns\n",
      "Solving...\n",
      "Total columns: 11\n",
      "Total rows: 20\n",
      "Explored: 1437\n",
      "#solutions: 10\n",
      "Total columns: 11\n",
      "Total rows: 20\n",
      "Explored: 1437\n",
      "#solutions: 10\n",
      "Generating exact cover problem with 20 rows and 14 columns\n",
      "Solving...\n",
      "Total columns: 14\n",
      "Total rows: 20\n",
      "Explored: 10158\n",
      "#solutions: 7\n",
      "Total columns: 14\n",
      "Total rows: 20\n",
      "Explored: 10158\n",
      "#solutions: 7\n",
      "Generating exact cover problem with 20 rows and 17 columns\n",
      "Solving...\n",
      "Total columns: 17\n",
      "Total rows: 20\n",
      "Explored: 67717\n",
      "#solutions: 4\n",
      "Total columns: 17\n",
      "Total rows: 20\n",
      "Explored: 67717\n",
      "#solutions: 4\n",
      "Generating exact cover problem with 116 rows and 5 columns\n",
      "Solving...\n",
      "Total columns: 5\n",
      "Total rows: 116\n",
      "Explored: 9635\n",
      "#solutions: 2405\n",
      "Total columns: 5\n",
      "Total rows: 116\n",
      "Explored: 9635\n",
      "#solutions: 2405\n",
      "Generating exact cover problem with 116 rows and 8 columns\n",
      "Solving...\n",
      "Total columns: 8\n",
      "Total rows: 116\n",
      "Explored: 13049\n",
      "#solutions: 1842\n",
      "Total columns: 8\n",
      "Total rows: 116\n",
      "Explored: 13049\n",
      "#solutions: 1842\n",
      "Generating exact cover problem with 116 rows and 11 columns\n",
      "Solving...\n",
      "Total columns: 11\n",
      "Total rows: 116\n",
      "Explored: 12914\n",
      "#solutions: 355\n",
      "Total columns: 11\n",
      "Total rows: 116\n",
      "Explored: 12914\n",
      "#solutions: 355\n",
      "Generating exact cover problem with 116 rows and 14 columns\n",
      "Solving...\n",
      "Total columns: 14\n",
      "Total rows: 116\n",
      "Explored: 28250\n",
      "#solutions: 169\n",
      "Total columns: 14\n",
      "Total rows: 116\n",
      "Explored: 28250\n",
      "#solutions: 169\n",
      "Generating exact cover problem with 116 rows and 17 columns\n",
      "Solving...\n",
      "Total columns: 17\n",
      "Total rows: 116\n",
      "Explored: 106896\n",
      "#solutions: 121\n",
      "Total columns: 17\n",
      "Total rows: 116\n",
      "Explored: 106896\n",
      "#solutions: 121\n",
      "Generating exact cover problem with 212 rows and 5 columns\n",
      "Solving...\n",
      "Total columns: 5\n",
      "Total rows: 212\n",
      "Explored: 80605\n",
      "#solutions: 43508\n",
      "Total columns: 5\n",
      "Total rows: 212\n",
      "Explored: 80605\n",
      "#solutions: 43508\n",
      "Generating exact cover problem with 212 rows and 8 columns\n",
      "Solving...\n",
      "Total columns: 8\n",
      "Total rows: 212\n",
      "Explored: 57957\n",
      "#solutions: 13917\n",
      "Total columns: 8\n",
      "Total rows: 212\n",
      "Explored: 57957\n",
      "#solutions: 13917\n",
      "Generating exact cover problem with 212 rows and 11 columns\n",
      "Solving...\n",
      "Total columns: 11\n",
      "Total rows: 212\n",
      "Explored: 34220\n",
      "#solutions: 1103\n",
      "Total columns: 11\n",
      "Total rows: 212\n",
      "Explored: 34220\n",
      "#solutions: 1103\n",
      "Generating exact cover problem with 212 rows and 14 columns\n",
      "Solving...\n",
      "Total columns: 14\n",
      "Total rows: 212\n",
      "Explored: 67012\n",
      "#solutions: 740\n",
      "Total columns: 14\n",
      "Total rows: 212\n",
      "Explored: 67012\n",
      "#solutions: 740\n",
      "Generating exact cover problem with 212 rows and 17 columns\n",
      "Solving...\n",
      "Total columns: 17\n",
      "Total rows: 212\n",
      "Explored: 199058\n",
      "#solutions: 380\n",
      "Total columns: 17\n",
      "Total rows: 212\n",
      "Explored: 199058\n",
      "#solutions: 380\n",
      "Generating exact cover problem with 308 rows and 5 columns\n",
      "Solving...\n",
      "Total columns: 5\n",
      "Total rows: 308\n",
      "Explored: 334824\n",
      "#solutions: 223522\n",
      "Total columns: 5\n",
      "Total rows: 308\n",
      "Explored: 334824\n",
      "#solutions: 223522\n",
      "Generating exact cover problem with 308 rows and 8 columns\n",
      "Solving...\n",
      "Total columns: 8\n",
      "Total rows: 308\n",
      "Explored: 106176\n",
      "#solutions: 22616\n",
      "Total columns: 8\n",
      "Total rows: 308\n",
      "Explored: 106176\n",
      "#solutions: 22616\n",
      "Generating exact cover problem with 308 rows and 11 columns\n",
      "Solving...\n",
      "Total columns: 11\n",
      "Total rows: 308\n",
      "Explored: 73991\n",
      "#solutions: 3226\n",
      "Total columns: 11\n",
      "Total rows: 308\n",
      "Explored: 73991\n",
      "#solutions: 3226\n",
      "Generating exact cover problem with 308 rows and 14 columns\n",
      "Solving...\n",
      "Total columns: 14\n",
      "Total rows: 308\n",
      "Explored: 95302\n",
      "#solutions: 835\n",
      "Total columns: 14\n",
      "Total rows: 308\n",
      "Explored: 95302\n",
      "#solutions: 835\n",
      "Generating exact cover problem with 308 rows and 17 columns\n",
      "Solving...\n",
      "Total columns: 17\n",
      "Total rows: 308\n",
      "Explored: 236495\n",
      "#solutions: 565\n",
      "Total columns: 17\n",
      "Total rows: 308\n",
      "Explored: 236495\n",
      "#solutions: 565\n",
      "Generating exact cover problem with 404 rows and 5 columns\n",
      "Solving...\n",
      "Total columns: 5\n",
      "Total rows: 404\n",
      "Explored: 666920\n",
      "#solutions: 457487\n",
      "Total columns: 5\n",
      "Total rows: 404\n",
      "Explored: 666920\n",
      "#solutions: 457487\n",
      "Generating exact cover problem with 404 rows and 8 columns\n",
      "Solving...\n",
      "Total columns: 8\n",
      "Total rows: 404\n",
      "Explored: 111592\n",
      "#solutions: 14225\n",
      "Total columns: 8\n",
      "Total rows: 404\n",
      "Explored: 111592\n",
      "#solutions: 14225\n",
      "Generating exact cover problem with 404 rows and 11 columns\n",
      "Solving...\n",
      "Total columns: 11\n",
      "Total rows: 404\n",
      "Explored: 178605\n",
      "#solutions: 13075\n",
      "Total columns: 11\n",
      "Total rows: 404\n",
      "Explored: 178605\n",
      "#solutions: 13075\n",
      "Generating exact cover problem with 404 rows and 14 columns\n",
      "Solving...\n",
      "Total columns: 14\n",
      "Total rows: 404\n",
      "Explored: 160570\n",
      "#solutions: 1732\n",
      "Total columns: 14\n",
      "Total rows: 404\n",
      "Explored: 160570\n",
      "#solutions: 1732\n",
      "Generating exact cover problem with 404 rows and 17 columns\n",
      "Solving...\n",
      "Total columns: 17\n",
      "Total rows: 404\n",
      "Explored: 322704\n",
      "#solutions: 921\n",
      "Total columns: 17\n",
      "Total rows: 404\n",
      "Explored: 322704\n",
      "#solutions: 921\n"
     ]
    }
   ],
   "source": [
    "# Creating different exact cover problems of rows from 20 to 100 of step 20\n",
    "# and columns from 5 to 17 with step 3,\n",
    "# so there are 25 different problems and each of them will have its number of explored nodes\n",
    "# and its number of solutions\n",
    "\n",
    "# Generating and solving the 25 exact cover problems\n",
    "explored = []\n",
    "solutions = []\n",
    "explorable = []\n",
    "\n",
    "times = []\n",
    "times_star = []\n",
    "\n",
    "sqrtN = 5\n",
    "\n",
    "min_rows = 20\n",
    "max_rows = 500\n",
    "step_rows = (max_rows - min_rows) // sqrtN\n",
    "\n",
    "min_cols = 5\n",
    "max_cols = 20\n",
    "step_cols = (max_cols - min_cols) // sqrtN\n",
    "\n",
    "row_values = range(min_rows, max_rows, step_rows)\n",
    "col_values = range(min_cols, max_cols, step_cols)\n",
    "problems = []\n",
    "for rows in row_values:\n",
    "    for cols in col_values:\n",
    "        print(f\"Generating exact cover problem with {rows} rows and {cols} columns\")\n",
    "        matrix = generate_exact_cover(rows, cols, path_out+\"generated_exact_cover.txt\")\n",
    "        print(\"Solving...\")\n",
    "        start_star = time.time()\n",
    "        sol, exp = incremental_exact_cover(filename=path_out+\"generated_exact_cover.txt\", loadable_rows=10, verbose=False, mode=\"star\")\n",
    "        end_star = time.time()\n",
    "        start = time.time()\n",
    "        sol, exp = incremental_exact_cover(filename=path_out+\"generated_exact_cover.txt\", loadable_rows=10, verbose=False)\n",
    "        end = time.time()\n",
    "        times.append(end - start)\n",
    "        times_star.append(end_star - start_star)\n",
    "        explored.append((rows, cols, len(exp)))\n",
    "        solutions.append((rows, cols, len(sol)))\n",
    "        n_explable = 0\n",
    "        for node in exp:\n",
    "            if len(node) == 1:\n",
    "                n_explable += 2**node[0]\n",
    "        explorable.append((rows, cols, n_explable))"
   ]
  },
  {
   "cell_type": "code",
   "execution_count": 73,
   "metadata": {},
   "outputs": [
    {
     "data": {
      "image/png": "[encoded data removed]",
      "text/plain": [
       "<Figure size 2000x2000 with 25 Axes>"
      ]
     },
     "metadata": {},
     "output_type": "display_data"
    }
   ],
   "source": [
    "# Plotting the number of explored nodes\n",
    "fig, axs = plt.subplots(sqrtN, sqrtN, figsize=(20,20))\n",
    "for i, (rows, cols, exp) in enumerate(explored):\n",
    "    ax = axs[i // sqrtN][i % sqrtN]\n",
    "    # color red\n",
    "    ax.bar([f\"\"], [exp], color=\"green\", log=False)\n",
    "    # y_ticks in exponential format\n",
    "    ax.ticklabel_format(axis='y', style='sci', scilimits=(0,0))\n",
    "    ax.set_title(f\"{rows}x{cols}\")\n",
    "    # ax title font size\n",
    "    # ax.title.set_size(AX_TITLE_FONTSIZE)\n",
    "    ax.set_xlabel(f\"{exp}\")\n",
    "    # set y tick font size\n",
    "    ax.tick_params(axis='y', which='major')\n",
    "    # ax.set_ylabel(\"Number of explored nodes\")\n",
    "    # Setting the y limit to the maximum number of explored nodes\n",
    "    ax.set_ylim(top=max([exp for _, _, exp in explored]), bottom=min([exp for _, _, exp in explored]))\n",
    "# title = fig.suptitle(\"Number of explored nodes for different exact cover problems\", fontsize=24)\n",
    "plt.savefig(path_out+\"explored_nodes.pdf\", dpi=300)\n",
    "plt.show()\n"
   ]
  },
  {
   "cell_type": "code",
   "execution_count": 71,
   "metadata": {},
   "outputs": [
    {
     "data": {
      "image/png": "[encoded data removed]",
      "text/plain": [
       "<Figure size 2000x2000 with 25 Axes>"
      ]
     },
     "metadata": {},
     "output_type": "display_data"
    }
   ],
   "source": [
    "\n",
    "# Plotting the number of solutions\n",
    "fig, axs = plt.subplots(sqrtN, sqrtN, figsize=(20, 20))\n",
    "for i, (rows, cols, sol) in enumerate(solutions):\n",
    "    ax = axs[i // sqrtN][i % sqrtN]\n",
    "    ax.bar([\"\"], [sol], color=\"violet\", log=True)\n",
    "    ax.set_title(f\"{rows}x{cols}\")\n",
    "    # ax title font size\n",
    "    # ax.title.set_size(AX_TITLE_FONTSIZE)\n",
    "    ax.set_xlabel(f\"{sol}\")\n",
    "    # set y tick font size\n",
    "    ax.tick_params(axis='y', which='major')\n",
    "    # ax.set_ylabel(\"Number of solutions\")\n",
    "    # Setting the y limit to the maximum number of solutions\n",
    "    ax.set_ylim(top=max([sol for _, _, sol in solutions]), bottom=min([sol for _, _, sol in solutions]))\n",
    "# title = fig.suptitle(\"Number of solutions for different exact cover problems\", fontsize=16)\n",
    "plt.savefig(path_out+\"solutions.pdf\", dpi=300)\n",
    "plt.show()\n"
   ]
  },
  {
   "cell_type": "code",
   "execution_count": 74,
   "metadata": {},
   "outputs": [
    {
     "data": {
      "image/png": "[encoded data removed]",
      "text/plain": [
       "<Figure size 2000x2000 with 25 Axes>"
      ]
     },
     "metadata": {},
     "output_type": "display_data"
    }
   ],
   "source": [
    "# Plotting the time to solve for base and star versions (bar charts)\n",
    "fig, axs = plt.subplots(sqrtN, sqrtN, figsize=(20, 20))\n",
    "for i, (time, time_star, (rows, cols,_)) in enumerate(zip(times, times_star, solutions)):\n",
    "    ax = axs[i // sqrtN][i % sqrtN]\n",
    "    ax.bar([\"Base\", \"Star\"], [time, time_star], color=[\"blue\", \"red\"])\n",
    "    # ax bar font size\n",
    "    ax.tick_params(axis='both', which='major')\n",
    "    ax.set_title(f\"{rows}x{cols}\")\n",
    "    # ax title font size\n",
    "    # ax.title.set_size(AX_TITLE_FONTSIZE)\n",
    "    # ax.set_xlabel(\"Version\")\n",
    "    # ax.set_ylabel(\"Time (s)\")\n",
    "    # Setting the y limit to the maximum time\n",
    "    ax.set_ylim(top=max([time for time in times]))\n",
    "# title = fig.suptitle(\"Time to solve for different exact cover problems\", fontsize=16)\n",
    "plt.savefig(path_out+\"time_to_solve.pdf\", dpi=300)\n",
    "plt.show()"
   ]
  },
  {
   "cell_type": "code",
   "execution_count": 75,
   "metadata": {},
   "outputs": [
    {
     "data": {
      "image/png": "[encoded data removed]",
      "text/plain": [
       "<Figure size 2000x2000 with 25 Axes>"
      ]
     },
     "metadata": {},
     "output_type": "display_data"
    }
   ],
   "source": [
    "# Plotting the explored nodes over explorable nodes\n",
    "fig, axs = plt.subplots(sqrtN, sqrtN, figsize=(20,20))\n",
    "for i, (rows, cols, exp) in enumerate(explored):\n",
    "    ax = axs[i // sqrtN][i % sqrtN]\n",
    "    # writing numbers in exponential notation\n",
    "    print_exp = \"{:.2e}\".format(exp)\n",
    "    ax.bar([\"{:.2e}\".format(exp), \"{:.2e}\".format(explorable[i][2])], [exp, explorable[i][2]], color=[\"green\", \"orange\"], log=True)\n",
    "    # ax bar font size\n",
    "    ax.tick_params(axis='both', which='major')\n",
    "    ax.set_title(f\"{rows}x{cols}\")\n",
    "    # ax title font size\n",
    "    # ax.title.set_size(AX_TITLE_FONTSIZE)\n",
    "    ax.set_ylim(top=10e121, bottom=min([exp for _, _, exp in explored]))\n",
    "# title = fig.suptitle(\"Explored nodes over explorable nodes\", fontsize=16)\n",
    "# # legend\n",
    "# fig.legend([\"Explored nodes\", \"Explorable nodes\"], loc=\"upper right\")\n",
    "plt.savefig(path_out+\"explored_nodes_over_explorable_nodes.pdf\", dpi=300)\n",
    "plt.show()"
   ]
  },
  {
   "cell_type": "code",
   "execution_count": 63,
   "metadata": {
    "execution": {
     "iopub.execute_input": "2023-10-01T19:53:15.317299Z",
     "iopub.status.busy": "2023-10-01T19:53:15.316985Z",
     "iopub.status.idle": "2023-10-01T19:53:15.338904Z",
     "shell.execute_reply": "2023-10-01T19:53:15.337423Z",
     "shell.execute_reply.started": "2023-10-01T19:53:15.317273Z"
    }
   },
   "outputs": [],
   "source": [
    "# Generating an exact cover problem 400x15 and solving it\n",
    "matrix = generate_exact_cover(1000, 15, path_out+\"generated_exact_cover.txt\")"
   ]
  },
  {
   "cell_type": "code",
   "execution_count": 64,
   "metadata": {
    "execution": {
     "iopub.execute_input": "2023-10-01T19:53:15.341563Z",
     "iopub.status.busy": "2023-10-01T19:53:15.341020Z",
     "iopub.status.idle": "2023-10-01T19:53:32.935514Z",
     "shell.execute_reply": "2023-10-01T19:53:32.933977Z",
     "shell.execute_reply.started": "2023-10-01T19:53:15.341516Z"
    }
   },
   "outputs": [
    {
     "name": "stdout",
     "output_type": "stream",
     "text": [
      "Solving...\n",
      "Total columns: 15\n",
      "Total rows: 1000\n",
      "Explored: 925542\n",
      "#solutions: 11222\n",
      "peak memory: 373.90 MiB, increment: 7.90 MiB\n",
      "CPU times: user 7.84 s, sys: 538 ms, total: 8.38 s\n",
      "Wall time: 8.53 s\n"
     ]
    }
   ],
   "source": [
    "%%time\n",
    "print(\"Solving...\")\n",
    "%memit sol, exp = incremental_exact_cover(filename=path_out+\"generated_exact_cover.txt\", loadable_rows=10, verbose=False, filename_out=path_out+\"generated_exact_cover_out.txt\")"
   ]
  },
  {
   "cell_type": "code",
   "execution_count": 65,
   "metadata": {},
   "outputs": [
    {
     "name": "stdout",
     "output_type": "stream",
     "text": [
      "Solving...\n",
      "Total columns: 15\n",
      "Total rows: 1000\n",
      "Explored: 925542\n",
      "#solutions: 11222\n",
      "peak memory: 441.89 MiB, increment: 67.98 MiB\n",
      "CPU times: user 7.52 s, sys: 568 ms, total: 8.08 s\n",
      "Wall time: 8.23 s\n"
     ]
    }
   ],
   "source": [
    "%%time\n",
    "# and with the star version\n",
    "print(\"Solving...\")\n",
    "%memit sol, exp = incremental_exact_cover(filename=path_out+\"generated_exact_cover.txt\", loadable_rows=10, verbose=False, filename_out=path_out+\"generated_exact_cover_out_star.txt\", mode=\"star\")"
   ]
  }
 ],
 "metadata": {
  "kernelspec": {
   "display_name": "Python 3 (ipykernel)",
   "language": "python",
   "name": "python3"
  },
  "language_info": {
   "codemirror_mode": {
    "name": "ipython",
    "version": 3
   },
   "file_extension": ".py",
   "mimetype": "text/x-python",
   "name": "python",
   "nbconvert_exporter": "python",
   "pygments_lexer": "ipython3",
   "version": "3.11.5"
  }
 },
 "nbformat": 4,
 "nbformat_minor": 4
}
